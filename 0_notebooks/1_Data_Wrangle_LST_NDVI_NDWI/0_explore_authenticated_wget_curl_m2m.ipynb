{
 "cells": [
  {
   "cell_type": "markdown",
   "id": "7148c457",
   "metadata": {},
   "source": [
    "# Goals\n",
    "\n",
    "- test various methods of getting EROS housed data - EE, M2M pure wget etc\n",
    "\n",
    "## Examples\n",
    "\n",
    "```python\n",
    "def Access_LCMAP(start, end, ROI):\n",
    "    url = \"https://m2m.cr.usgs.gov/api/api/json/stable/\"\n",
    "    p = ['Enter EROS Registration System (ERS) Username: ', 'Enter ERS Account Password: ']\n",
    "    apiKey = r.post(f\"{url}login\", json.dumps({'username': getpass(prompt=p[0]), 'password': getpass(prompt=p[1])})).json()['data']\n",
    "    if apiKey: \n",
    "        print('\\nLogin Successful, API Key Received!')\n",
    "        headers = {'X-Auth-Token': apiKey} \n",
    "    else: \n",
    "        print(\"\\nLogin was unsuccessful, please try again or create an account at: https://ers.cr.usgs.gov/register.\")\n",
    "        return\n",
    "```\n",
    "\n",
    "## Wget\n",
    "wget --user=username --ask-password https://xyz.com/changelog-6.40.txt\n",
    "\n",
    "## Curl\n",
    "curl -o <filename-to-save-as> -u <username>:<password> <url>"
   ]
  },
  {
   "cell_type": "code",
   "execution_count": null,
   "id": "5db33246",
   "metadata": {},
   "outputs": [],
   "source": []
  }
 ],
 "metadata": {
  "kernelspec": {
   "display_name": "Python 3 (ipykernel)",
   "language": "python",
   "name": "python3"
  },
  "language_info": {
   "codemirror_mode": {
    "name": "ipython",
    "version": 3
   },
   "file_extension": ".py",
   "mimetype": "text/x-python",
   "name": "python",
   "nbconvert_exporter": "python",
   "pygments_lexer": "ipython3",
   "version": "3.10.6"
  }
 },
 "nbformat": 4,
 "nbformat_minor": 5
}
