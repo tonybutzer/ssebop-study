{
 "cells": [
  {
   "cell_type": "code",
   "execution_count": 1,
   "id": "edf437ef",
   "metadata": {},
   "outputs": [
    {
     "name": "stdout",
     "output_type": "stream",
     "text": [
      "                           PRE 2012/\r\n",
      "                           PRE 2013/\r\n",
      "                           PRE 2014/\r\n",
      "                           PRE 2015/\r\n",
      "                           PRE 2016/\r\n",
      "                           PRE 2017/\r\n",
      "                           PRE 2018/\r\n",
      "                           PRE 2019/\r\n",
      "                           PRE 2020/\r\n",
      "                           PRE 2021/\r\n",
      "2022-08-18 03:39:54          0 \r\n"
     ]
    }
   ],
   "source": [
    "! aws s3 ls ws-in/ssebop/lst/"
   ]
  },
  {
   "cell_type": "code",
   "execution_count": 2,
   "id": "c672bfdd",
   "metadata": {},
   "outputs": [
    {
     "name": "stdout",
     "output_type": "stream",
     "text": [
      "2022-08-22 14:06:57          0 \n",
      "2022-08-22 14:13:02 2182363138 2012021.1_km_VIIRS_LST.tif\n",
      "2022-08-22 14:19:19 2182363138 2012022.1_km_VIIRS_LST.tif\n",
      "2022-08-22 14:25:11 2182363138 2012023.1_km_VIIRS_LST.tif\n",
      "2022-08-22 14:30:34 2182363138 2012031.1_km_VIIRS_LST.tif\n",
      "2022-08-22 14:36:36 2182363138 2012032.1_km_VIIRS_LST.tif\n",
      "2022-08-22 14:42:11 2182363138 2012033.1_km_VIIRS_LST.tif\n",
      "2022-08-22 14:47:49 2182363138 2012041.1_km_VIIRS_LST.tif\n",
      "2022-08-22 14:54:08 2182363138 2012042.1_km_VIIRS_LST.tif\n",
      "2022-08-22 15:00:14 2182363138 2012043.1_km_VIIRS_LST.tif\n",
      "2022-08-22 15:06:43 2182363138 2012051.1_km_VIIRS_LST.tif\n",
      "2022-08-22 15:12:57 2182363138 2012052.1_km_VIIRS_LST.tif\n",
      "2022-08-22 15:18:03 2182363138 2012053.1_km_VIIRS_LST.tif\n",
      "2022-08-22 15:23:11 2182363138 2012061.1_km_VIIRS_LST.tif\n",
      "2022-08-22 15:28:05 2182363138 2012062.1_km_VIIRS_LST.tif\n",
      "2022-08-22 15:33:27 2182363138 2012063.1_km_VIIRS_LST.tif\n",
      "2022-08-22 15:38:26 2182363138 2012071.1_km_VIIRS_LST.tif\n",
      "2022-08-22 15:44:18 2182363138 2012072.1_km_VIIRS_LST.tif\n",
      "2022-08-22 15:49:48 2182363138 2012073.1_km_VIIRS_LST.tif\n",
      "2022-08-22 15:55:43 2182363138 2012081.1_km_VIIRS_LST.tif\n",
      "2022-08-22 16:00:34 2182363138 2012082.1_km_VIIRS_LST.tif\n",
      "2022-08-22 16:06:04 2182363138 2012083.1_km_VIIRS_LST.tif\n",
      "2022-08-22 16:11:52 2182363138 2012091.1_km_VIIRS_LST.tif\n",
      "2022-08-22 16:17:29 2182363138 2012092.1_km_VIIRS_LST.tif\n",
      "2022-08-22 16:22:44 2182363138 2012093.1_km_VIIRS_LST.tif\n",
      "2022-08-22 16:28:54 2182363138 2012101.1_km_VIIRS_LST.tif\n",
      "2022-08-22 16:34:27 2182363138 2012102.1_km_VIIRS_LST.tif\n",
      "2022-08-22 16:40:26 2182363138 2012103.1_km_VIIRS_LST.tif\n",
      "2022-08-22 16:46:10 2182363138 2012111.1_km_VIIRS_LST.tif\n",
      "2022-08-22 18:07:07 2182363138 2012112.1_km_VIIRS_LST.tif\n",
      "2022-08-22 17:07:41 2182363138 2012113.1_km_VIIRS_LST.tif\n",
      "2022-08-22 17:23:45 2182363138 2012121.1_km_VIIRS_LST.tif\n",
      "2022-08-22 17:38:05 2182363138 2012122.1_km_VIIRS_LST.tif\n",
      "2022-08-22 17:52:45 2182363138 2012123.1_km_VIIRS_LST.tif\n"
     ]
    }
   ],
   "source": [
    "! aws s3 ls ws-in/ssebop/lst/2012/"
   ]
  },
  {
   "cell_type": "code",
   "execution_count": 3,
   "id": "7bdae8db",
   "metadata": {},
   "outputs": [
    {
     "name": "stdout",
     "output_type": "stream",
     "text": [
      "# conda environments:\n",
      "#\n",
      "base                     /wsefs/miniconda3\n",
      "gabe_1                   /wsefs/miniconda3/envs/gabe_1\n",
      "olena                    /wsefs/miniconda3/envs/olena\n",
      "ssconus1121              /wsefs/miniconda3/envs/ssconus1121\n",
      "ssebop-study          *  /wsefs/miniconda3/envs/ssebop-study\n",
      "tony                     /wsefs/miniconda3/envs/tony\n",
      "tony1                    /wsefs/miniconda3/envs/tony1\n",
      "vegetProd                /wsefs/miniconda3/envs/vegetProd\n",
      "\n",
      "\n",
      "Note: you may need to restart the kernel to use updated packages.\n"
     ]
    }
   ],
   "source": [
    "conda env list"
   ]
  },
  {
   "cell_type": "code",
   "execution_count": 4,
   "id": "7f107b95",
   "metadata": {},
   "outputs": [],
   "source": [
    "#! pip install jupyter-resource-usage"
   ]
  },
  {
   "cell_type": "code",
   "execution_count": 5,
   "id": "cf86daa5",
   "metadata": {},
   "outputs": [],
   "source": [
    "# %%bash\n",
    "# jupyter serverextension enable --py jupyter-resource-usage --sys-prefix\n",
    "# jupyter nbextension install --py jupyter-resource-usage --sys-prefix\n",
    "# jupyter nbextension enable --py jupyter-resource-usage --sys-prefix"
   ]
  },
  {
   "cell_type": "code",
   "execution_count": 6,
   "id": "3e4720dc",
   "metadata": {},
   "outputs": [],
   "source": [
    "import rasterio\n",
    "import xarray as xr"
   ]
  },
  {
   "cell_type": "code",
   "execution_count": 7,
   "id": "9010cabc",
   "metadata": {},
   "outputs": [],
   "source": [
    "mys3path = 'ws-in/ssebop/lst/2012/'\n",
    "tif='2012021.1_km_VIIRS_LST.tif'\n",
    "\n",
    "s3_tif_object=mys3path+tif"
   ]
  },
  {
   "cell_type": "code",
   "execution_count": 8,
   "id": "c0efafa1",
   "metadata": {},
   "outputs": [
    {
     "name": "stderr",
     "output_type": "stream",
     "text": [
      "/tmp/ipykernel_7200/4073233213.py:1: DeprecationWarning: open_rasterio is Deprecated in favor of rioxarray. For information about transitioning, see: https://corteva.github.io/rioxarray/stable/getting_started/getting_started.html\n",
      "  da = xr.open_rasterio(f's3://{s3_tif_object}')\n"
     ]
    }
   ],
   "source": [
    "da = xr.open_rasterio(f's3://{s3_tif_object}')"
   ]
  },
  {
   "cell_type": "code",
   "execution_count": 9,
   "id": "7309adfe",
   "metadata": {},
   "outputs": [
    {
     "data": {
      "text/html": [
       "<div><svg style=\"position: absolute; width: 0; height: 0; overflow: hidden\">\n",
       "<defs>\n",
       "<symbol id=\"icon-database\" viewBox=\"0 0 32 32\">\n",
       "<path d=\"M16 0c-8.837 0-16 2.239-16 5v4c0 2.761 7.163 5 16 5s16-2.239 16-5v-4c0-2.761-7.163-5-16-5z\"></path>\n",
       "<path d=\"M16 17c-8.837 0-16-2.239-16-5v6c0 2.761 7.163 5 16 5s16-2.239 16-5v-6c0 2.761-7.163 5-16 5z\"></path>\n",
       "<path d=\"M16 26c-8.837 0-16-2.239-16-5v6c0 2.761 7.163 5 16 5s16-2.239 16-5v-6c0 2.761-7.163 5-16 5z\"></path>\n",
       "</symbol>\n",
       "<symbol id=\"icon-file-text2\" viewBox=\"0 0 32 32\">\n",
       "<path d=\"M28.681 7.159c-0.694-0.947-1.662-2.053-2.724-3.116s-2.169-2.030-3.116-2.724c-1.612-1.182-2.393-1.319-2.841-1.319h-15.5c-1.378 0-2.5 1.121-2.5 2.5v27c0 1.378 1.122 2.5 2.5 2.5h23c1.378 0 2.5-1.122 2.5-2.5v-19.5c0-0.448-0.137-1.23-1.319-2.841zM24.543 5.457c0.959 0.959 1.712 1.825 2.268 2.543h-4.811v-4.811c0.718 0.556 1.584 1.309 2.543 2.268zM28 29.5c0 0.271-0.229 0.5-0.5 0.5h-23c-0.271 0-0.5-0.229-0.5-0.5v-27c0-0.271 0.229-0.5 0.5-0.5 0 0 15.499-0 15.5 0v7c0 0.552 0.448 1 1 1h7v19.5z\"></path>\n",
       "<path d=\"M23 26h-14c-0.552 0-1-0.448-1-1s0.448-1 1-1h14c0.552 0 1 0.448 1 1s-0.448 1-1 1z\"></path>\n",
       "<path d=\"M23 22h-14c-0.552 0-1-0.448-1-1s0.448-1 1-1h14c0.552 0 1 0.448 1 1s-0.448 1-1 1z\"></path>\n",
       "<path d=\"M23 18h-14c-0.552 0-1-0.448-1-1s0.448-1 1-1h14c0.552 0 1 0.448 1 1s-0.448 1-1 1z\"></path>\n",
       "</symbol>\n",
       "</defs>\n",
       "</svg>\n",
       "<style>/* CSS stylesheet for displaying xarray objects in jupyterlab.\n",
       " *\n",
       " */\n",
       "\n",
       ":root {\n",
       "  --xr-font-color0: var(--jp-content-font-color0, rgba(0, 0, 0, 1));\n",
       "  --xr-font-color2: var(--jp-content-font-color2, rgba(0, 0, 0, 0.54));\n",
       "  --xr-font-color3: var(--jp-content-font-color3, rgba(0, 0, 0, 0.38));\n",
       "  --xr-border-color: var(--jp-border-color2, #e0e0e0);\n",
       "  --xr-disabled-color: var(--jp-layout-color3, #bdbdbd);\n",
       "  --xr-background-color: var(--jp-layout-color0, white);\n",
       "  --xr-background-color-row-even: var(--jp-layout-color1, white);\n",
       "  --xr-background-color-row-odd: var(--jp-layout-color2, #eeeeee);\n",
       "}\n",
       "\n",
       "html[theme=dark],\n",
       "body[data-theme=dark],\n",
       "body.vscode-dark {\n",
       "  --xr-font-color0: rgba(255, 255, 255, 1);\n",
       "  --xr-font-color2: rgba(255, 255, 255, 0.54);\n",
       "  --xr-font-color3: rgba(255, 255, 255, 0.38);\n",
       "  --xr-border-color: #1F1F1F;\n",
       "  --xr-disabled-color: #515151;\n",
       "  --xr-background-color: #111111;\n",
       "  --xr-background-color-row-even: #111111;\n",
       "  --xr-background-color-row-odd: #313131;\n",
       "}\n",
       "\n",
       ".xr-wrap {\n",
       "  display: block !important;\n",
       "  min-width: 300px;\n",
       "  max-width: 700px;\n",
       "}\n",
       "\n",
       ".xr-text-repr-fallback {\n",
       "  /* fallback to plain text repr when CSS is not injected (untrusted notebook) */\n",
       "  display: none;\n",
       "}\n",
       "\n",
       ".xr-header {\n",
       "  padding-top: 6px;\n",
       "  padding-bottom: 6px;\n",
       "  margin-bottom: 4px;\n",
       "  border-bottom: solid 1px var(--xr-border-color);\n",
       "}\n",
       "\n",
       ".xr-header > div,\n",
       ".xr-header > ul {\n",
       "  display: inline;\n",
       "  margin-top: 0;\n",
       "  margin-bottom: 0;\n",
       "}\n",
       "\n",
       ".xr-obj-type,\n",
       ".xr-array-name {\n",
       "  margin-left: 2px;\n",
       "  margin-right: 10px;\n",
       "}\n",
       "\n",
       ".xr-obj-type {\n",
       "  color: var(--xr-font-color2);\n",
       "}\n",
       "\n",
       ".xr-sections {\n",
       "  padding-left: 0 !important;\n",
       "  display: grid;\n",
       "  grid-template-columns: 150px auto auto 1fr 20px 20px;\n",
       "}\n",
       "\n",
       ".xr-section-item {\n",
       "  display: contents;\n",
       "}\n",
       "\n",
       ".xr-section-item input {\n",
       "  display: none;\n",
       "}\n",
       "\n",
       ".xr-section-item input + label {\n",
       "  color: var(--xr-disabled-color);\n",
       "}\n",
       "\n",
       ".xr-section-item input:enabled + label {\n",
       "  cursor: pointer;\n",
       "  color: var(--xr-font-color2);\n",
       "}\n",
       "\n",
       ".xr-section-item input:enabled + label:hover {\n",
       "  color: var(--xr-font-color0);\n",
       "}\n",
       "\n",
       ".xr-section-summary {\n",
       "  grid-column: 1;\n",
       "  color: var(--xr-font-color2);\n",
       "  font-weight: 500;\n",
       "}\n",
       "\n",
       ".xr-section-summary > span {\n",
       "  display: inline-block;\n",
       "  padding-left: 0.5em;\n",
       "}\n",
       "\n",
       ".xr-section-summary-in:disabled + label {\n",
       "  color: var(--xr-font-color2);\n",
       "}\n",
       "\n",
       ".xr-section-summary-in + label:before {\n",
       "  display: inline-block;\n",
       "  content: '►';\n",
       "  font-size: 11px;\n",
       "  width: 15px;\n",
       "  text-align: center;\n",
       "}\n",
       "\n",
       ".xr-section-summary-in:disabled + label:before {\n",
       "  color: var(--xr-disabled-color);\n",
       "}\n",
       "\n",
       ".xr-section-summary-in:checked + label:before {\n",
       "  content: '▼';\n",
       "}\n",
       "\n",
       ".xr-section-summary-in:checked + label > span {\n",
       "  display: none;\n",
       "}\n",
       "\n",
       ".xr-section-summary,\n",
       ".xr-section-inline-details {\n",
       "  padding-top: 4px;\n",
       "  padding-bottom: 4px;\n",
       "}\n",
       "\n",
       ".xr-section-inline-details {\n",
       "  grid-column: 2 / -1;\n",
       "}\n",
       "\n",
       ".xr-section-details {\n",
       "  display: none;\n",
       "  grid-column: 1 / -1;\n",
       "  margin-bottom: 5px;\n",
       "}\n",
       "\n",
       ".xr-section-summary-in:checked ~ .xr-section-details {\n",
       "  display: contents;\n",
       "}\n",
       "\n",
       ".xr-array-wrap {\n",
       "  grid-column: 1 / -1;\n",
       "  display: grid;\n",
       "  grid-template-columns: 20px auto;\n",
       "}\n",
       "\n",
       ".xr-array-wrap > label {\n",
       "  grid-column: 1;\n",
       "  vertical-align: top;\n",
       "}\n",
       "\n",
       ".xr-preview {\n",
       "  color: var(--xr-font-color3);\n",
       "}\n",
       "\n",
       ".xr-array-preview,\n",
       ".xr-array-data {\n",
       "  padding: 0 5px !important;\n",
       "  grid-column: 2;\n",
       "}\n",
       "\n",
       ".xr-array-data,\n",
       ".xr-array-in:checked ~ .xr-array-preview {\n",
       "  display: none;\n",
       "}\n",
       "\n",
       ".xr-array-in:checked ~ .xr-array-data,\n",
       ".xr-array-preview {\n",
       "  display: inline-block;\n",
       "}\n",
       "\n",
       ".xr-dim-list {\n",
       "  display: inline-block !important;\n",
       "  list-style: none;\n",
       "  padding: 0 !important;\n",
       "  margin: 0;\n",
       "}\n",
       "\n",
       ".xr-dim-list li {\n",
       "  display: inline-block;\n",
       "  padding: 0;\n",
       "  margin: 0;\n",
       "}\n",
       "\n",
       ".xr-dim-list:before {\n",
       "  content: '(';\n",
       "}\n",
       "\n",
       ".xr-dim-list:after {\n",
       "  content: ')';\n",
       "}\n",
       "\n",
       ".xr-dim-list li:not(:last-child):after {\n",
       "  content: ',';\n",
       "  padding-right: 5px;\n",
       "}\n",
       "\n",
       ".xr-has-index {\n",
       "  font-weight: bold;\n",
       "}\n",
       "\n",
       ".xr-var-list,\n",
       ".xr-var-item {\n",
       "  display: contents;\n",
       "}\n",
       "\n",
       ".xr-var-item > div,\n",
       ".xr-var-item label,\n",
       ".xr-var-item > .xr-var-name span {\n",
       "  background-color: var(--xr-background-color-row-even);\n",
       "  margin-bottom: 0;\n",
       "}\n",
       "\n",
       ".xr-var-item > .xr-var-name:hover span {\n",
       "  padding-right: 5px;\n",
       "}\n",
       "\n",
       ".xr-var-list > li:nth-child(odd) > div,\n",
       ".xr-var-list > li:nth-child(odd) > label,\n",
       ".xr-var-list > li:nth-child(odd) > .xr-var-name span {\n",
       "  background-color: var(--xr-background-color-row-odd);\n",
       "}\n",
       "\n",
       ".xr-var-name {\n",
       "  grid-column: 1;\n",
       "}\n",
       "\n",
       ".xr-var-dims {\n",
       "  grid-column: 2;\n",
       "}\n",
       "\n",
       ".xr-var-dtype {\n",
       "  grid-column: 3;\n",
       "  text-align: right;\n",
       "  color: var(--xr-font-color2);\n",
       "}\n",
       "\n",
       ".xr-var-preview {\n",
       "  grid-column: 4;\n",
       "}\n",
       "\n",
       ".xr-index-preview {\n",
       "  grid-column: 2 / 5;\n",
       "  color: var(--xr-font-color2);\n",
       "}\n",
       "\n",
       ".xr-var-name,\n",
       ".xr-var-dims,\n",
       ".xr-var-dtype,\n",
       ".xr-preview,\n",
       ".xr-attrs dt {\n",
       "  white-space: nowrap;\n",
       "  overflow: hidden;\n",
       "  text-overflow: ellipsis;\n",
       "  padding-right: 10px;\n",
       "}\n",
       "\n",
       ".xr-var-name:hover,\n",
       ".xr-var-dims:hover,\n",
       ".xr-var-dtype:hover,\n",
       ".xr-attrs dt:hover {\n",
       "  overflow: visible;\n",
       "  width: auto;\n",
       "  z-index: 1;\n",
       "}\n",
       "\n",
       ".xr-var-attrs,\n",
       ".xr-var-data,\n",
       ".xr-index-data {\n",
       "  display: none;\n",
       "  background-color: var(--xr-background-color) !important;\n",
       "  padding-bottom: 5px !important;\n",
       "}\n",
       "\n",
       ".xr-var-attrs-in:checked ~ .xr-var-attrs,\n",
       ".xr-var-data-in:checked ~ .xr-var-data,\n",
       ".xr-index-data-in:checked ~ .xr-index-data {\n",
       "  display: block;\n",
       "}\n",
       "\n",
       ".xr-var-data > table {\n",
       "  float: right;\n",
       "}\n",
       "\n",
       ".xr-var-name span,\n",
       ".xr-var-data,\n",
       ".xr-index-name div,\n",
       ".xr-index-data,\n",
       ".xr-attrs {\n",
       "  padding-left: 25px !important;\n",
       "}\n",
       "\n",
       ".xr-attrs,\n",
       ".xr-var-attrs,\n",
       ".xr-var-data,\n",
       ".xr-index-data {\n",
       "  grid-column: 1 / -1;\n",
       "}\n",
       "\n",
       "dl.xr-attrs {\n",
       "  padding: 0;\n",
       "  margin: 0;\n",
       "  display: grid;\n",
       "  grid-template-columns: 125px auto;\n",
       "}\n",
       "\n",
       ".xr-attrs dt,\n",
       ".xr-attrs dd {\n",
       "  padding: 0;\n",
       "  margin: 0;\n",
       "  float: left;\n",
       "  padding-right: 10px;\n",
       "  width: auto;\n",
       "}\n",
       "\n",
       ".xr-attrs dt {\n",
       "  font-weight: normal;\n",
       "  grid-column: 1;\n",
       "}\n",
       "\n",
       ".xr-attrs dt:hover span {\n",
       "  display: inline-block;\n",
       "  background: var(--xr-background-color);\n",
       "  padding-right: 10px;\n",
       "}\n",
       "\n",
       ".xr-attrs dd {\n",
       "  grid-column: 2;\n",
       "  white-space: pre-wrap;\n",
       "  word-break: break-all;\n",
       "}\n",
       "\n",
       ".xr-icon-database,\n",
       ".xr-icon-file-text2,\n",
       ".xr-no-icon {\n",
       "  display: inline-block;\n",
       "  vertical-align: middle;\n",
       "  width: 1em;\n",
       "  height: 1.5em !important;\n",
       "  stroke-width: 0;\n",
       "  stroke: currentColor;\n",
       "  fill: currentColor;\n",
       "}\n",
       "</style><pre class='xr-text-repr-fallback'>&lt;xarray.DataArray (band: 1, y: 14505, x: 37298)&gt;\n",
       "[541007490 values with dtype=float32]\n",
       "Coordinates:\n",
       "  * band     (band) int64 1\n",
       "  * y        (y) float64 80.0 79.99 79.98 79.97 ... -59.97 -59.98 -59.99 -60.0\n",
       "  * x        (x) float64 -180.0 -180.0 -180.0 -180.0 ... 180.0 180.0 180.0 180.0\n",
       "Attributes:\n",
       "    transform:      (0.00965199992060661, 0.0, -180.0, 0.0, -0.00965199992060...\n",
       "    crs:            +init=epsg:4326\n",
       "    res:            (0.00965199992060661, 0.00965199992060661)\n",
       "    is_tiled:       1\n",
       "    nodatavals:     (-3.4028234663852886e+38,)\n",
       "    scales:         (1.0,)\n",
       "    offsets:        (0.0,)\n",
       "    AREA_OR_POINT:  Area</pre><div class='xr-wrap' style='display:none'><div class='xr-header'><div class='xr-obj-type'>xarray.DataArray</div><div class='xr-array-name'></div><ul class='xr-dim-list'><li><span class='xr-has-index'>band</span>: 1</li><li><span class='xr-has-index'>y</span>: 14505</li><li><span class='xr-has-index'>x</span>: 37298</li></ul></div><ul class='xr-sections'><li class='xr-section-item'><div class='xr-array-wrap'><input id='section-03bbb476-1aaf-4b7f-bc3d-3e0b1707cf94' class='xr-array-in' type='checkbox' checked><label for='section-03bbb476-1aaf-4b7f-bc3d-3e0b1707cf94' title='Show/hide data repr'><svg class='icon xr-icon-database'><use xlink:href='#icon-database'></use></svg></label><div class='xr-array-preview xr-preview'><span>...</span></div><div class='xr-array-data'><pre>[541007490 values with dtype=float32]</pre></div></div></li><li class='xr-section-item'><input id='section-52e37e26-80b0-47c5-8b68-75cf2b26635f' class='xr-section-summary-in' type='checkbox'  checked><label for='section-52e37e26-80b0-47c5-8b68-75cf2b26635f' class='xr-section-summary' >Coordinates: <span>(3)</span></label><div class='xr-section-inline-details'></div><div class='xr-section-details'><ul class='xr-var-list'><li class='xr-var-item'><div class='xr-var-name'><span class='xr-has-index'>band</span></div><div class='xr-var-dims'>(band)</div><div class='xr-var-dtype'>int64</div><div class='xr-var-preview xr-preview'>1</div><input id='attrs-a47b6705-e6d1-4872-a017-d2a810c186b2' class='xr-var-attrs-in' type='checkbox' disabled><label for='attrs-a47b6705-e6d1-4872-a017-d2a810c186b2' title='Show/Hide attributes'><svg class='icon xr-icon-file-text2'><use xlink:href='#icon-file-text2'></use></svg></label><input id='data-4862bd1d-29f6-4962-9600-2f3c80d21182' class='xr-var-data-in' type='checkbox'><label for='data-4862bd1d-29f6-4962-9600-2f3c80d21182' title='Show/Hide data repr'><svg class='icon xr-icon-database'><use xlink:href='#icon-database'></use></svg></label><div class='xr-var-attrs'><dl class='xr-attrs'></dl></div><div class='xr-var-data'><pre>array([1])</pre></div></li><li class='xr-var-item'><div class='xr-var-name'><span class='xr-has-index'>y</span></div><div class='xr-var-dims'>(y)</div><div class='xr-var-dtype'>float64</div><div class='xr-var-preview xr-preview'>80.0 79.99 79.98 ... -59.99 -60.0</div><input id='attrs-f2481d78-7258-4022-8dd4-a12f566f9062' class='xr-var-attrs-in' type='checkbox' disabled><label for='attrs-f2481d78-7258-4022-8dd4-a12f566f9062' title='Show/Hide attributes'><svg class='icon xr-icon-file-text2'><use xlink:href='#icon-file-text2'></use></svg></label><input id='data-25b04002-f6bb-483a-a1e7-a6be0f3d9eef' class='xr-var-data-in' type='checkbox'><label for='data-25b04002-f6bb-483a-a1e7-a6be0f3d9eef' title='Show/Hide data repr'><svg class='icon xr-icon-database'><use xlink:href='#icon-database'></use></svg></label><div class='xr-var-attrs'><dl class='xr-attrs'></dl></div><div class='xr-var-data'><pre>array([ 79.995174,  79.985522,  79.97587 , ..., -59.978129, -59.987781,\n",
       "       -59.997433])</pre></div></li><li class='xr-var-item'><div class='xr-var-name'><span class='xr-has-index'>x</span></div><div class='xr-var-dims'>(x)</div><div class='xr-var-dtype'>float64</div><div class='xr-var-preview xr-preview'>-180.0 -180.0 ... 180.0 180.0</div><input id='attrs-e5e05f5e-b47a-4d2b-81cf-b36cb3932219' class='xr-var-attrs-in' type='checkbox' disabled><label for='attrs-e5e05f5e-b47a-4d2b-81cf-b36cb3932219' title='Show/Hide attributes'><svg class='icon xr-icon-file-text2'><use xlink:href='#icon-file-text2'></use></svg></label><input id='data-59c0364a-94c3-42d1-8549-8c6c02094502' class='xr-var-data-in' type='checkbox'><label for='data-59c0364a-94c3-42d1-8549-8c6c02094502' title='Show/Hide data repr'><svg class='icon xr-icon-database'><use xlink:href='#icon-database'></use></svg></label><div class='xr-var-attrs'><dl class='xr-attrs'></dl></div><div class='xr-var-data'><pre>array([-179.995174, -179.985522, -179.97587 , ...,  179.976163,  179.985815,\n",
       "        179.995467])</pre></div></li></ul></div></li><li class='xr-section-item'><input id='section-878fbbe8-f55c-46cb-ad44-177b0d0cda63' class='xr-section-summary-in' type='checkbox'  ><label for='section-878fbbe8-f55c-46cb-ad44-177b0d0cda63' class='xr-section-summary' >Indexes: <span>(3)</span></label><div class='xr-section-inline-details'></div><div class='xr-section-details'><ul class='xr-var-list'><li class='xr-var-item'><div class='xr-index-name'><div>band</div></div><div class='xr-index-preview'>PandasIndex</div><div></div><input id='index-d81e3f54-4410-4af3-92b0-9d5a008414dc' class='xr-index-data-in' type='checkbox'/><label for='index-d81e3f54-4410-4af3-92b0-9d5a008414dc' title='Show/Hide index repr'><svg class='icon xr-icon-database'><use xlink:href='#icon-database'></use></svg></label><div class='xr-index-data'><pre>PandasIndex(Int64Index([1], dtype=&#x27;int64&#x27;, name=&#x27;band&#x27;))</pre></div></li><li class='xr-var-item'><div class='xr-index-name'><div>y</div></div><div class='xr-index-preview'>PandasIndex</div><div></div><input id='index-6d868e3a-3616-4ef4-b025-b985ebcc6954' class='xr-index-data-in' type='checkbox'/><label for='index-6d868e3a-3616-4ef4-b025-b985ebcc6954' title='Show/Hide index repr'><svg class='icon xr-icon-database'><use xlink:href='#icon-database'></use></svg></label><div class='xr-index-data'><pre>PandasIndex(Float64Index([   79.9951740000397,   79.98552200011909,   79.97587000019848,\n",
       "                79.96621800027788,   79.95656600035727,   79.94691400043666,\n",
       "                79.93726200051606,   79.92761000059545,   79.91795800067484,\n",
       "                79.90830600075424,\n",
       "              ...\n",
       "              -59.910564849153104,  -59.92021684907371,  -59.92986884899432,\n",
       "              -59.939520848914924,  -59.94917284883553,  -59.95882484875614,\n",
       "              -59.968476848676744,  -59.97812884859735,  -59.98778084851796,\n",
       "              -59.997432848438564],\n",
       "             dtype=&#x27;float64&#x27;, name=&#x27;y&#x27;, length=14505))</pre></div></li><li class='xr-var-item'><div class='xr-index-name'><div>x</div></div><div class='xr-index-preview'>PandasIndex</div><div></div><input id='index-54808b01-554e-42da-86cd-0d3f08a44540' class='xr-index-data-in' type='checkbox'/><label for='index-54808b01-554e-42da-86cd-0d3f08a44540' title='Show/Hide index repr'><svg class='icon xr-icon-database'><use xlink:href='#icon-database'></use></svg></label><div class='xr-index-data'><pre>PandasIndex(Float64Index([ -179.9951740000397,  -179.9855220001191, -179.97587000019848,\n",
       "              -179.96621800027788, -179.95656600035727, -179.94691400043666,\n",
       "              -179.93726200051606, -179.92761000059545, -179.91795800067484,\n",
       "              -179.90830600075424,\n",
       "              ...\n",
       "               179.90859903953958,   179.9182510394602,   179.9279030393808,\n",
       "                179.9375550393014,    179.947207039222,   179.9568590391426,\n",
       "               179.96651103906322,  179.97616303898383,  179.98581503890443,\n",
       "               179.99546703882504],\n",
       "             dtype=&#x27;float64&#x27;, name=&#x27;x&#x27;, length=37298))</pre></div></li></ul></div></li><li class='xr-section-item'><input id='section-69981a8a-99fb-4396-8b14-3dfb4f8c37d9' class='xr-section-summary-in' type='checkbox'  checked><label for='section-69981a8a-99fb-4396-8b14-3dfb4f8c37d9' class='xr-section-summary' >Attributes: <span>(8)</span></label><div class='xr-section-inline-details'></div><div class='xr-section-details'><dl class='xr-attrs'><dt><span>transform :</span></dt><dd>(0.00965199992060661, 0.0, -180.0, 0.0, -0.00965199992060661, 80.0)</dd><dt><span>crs :</span></dt><dd>+init=epsg:4326</dd><dt><span>res :</span></dt><dd>(0.00965199992060661, 0.00965199992060661)</dd><dt><span>is_tiled :</span></dt><dd>1</dd><dt><span>nodatavals :</span></dt><dd>(-3.4028234663852886e+38,)</dd><dt><span>scales :</span></dt><dd>(1.0,)</dd><dt><span>offsets :</span></dt><dd>(0.0,)</dd><dt><span>AREA_OR_POINT :</span></dt><dd>Area</dd></dl></div></li></ul></div></div>"
      ],
      "text/plain": [
       "<xarray.DataArray (band: 1, y: 14505, x: 37298)>\n",
       "[541007490 values with dtype=float32]\n",
       "Coordinates:\n",
       "  * band     (band) int64 1\n",
       "  * y        (y) float64 80.0 79.99 79.98 79.97 ... -59.97 -59.98 -59.99 -60.0\n",
       "  * x        (x) float64 -180.0 -180.0 -180.0 -180.0 ... 180.0 180.0 180.0 180.0\n",
       "Attributes:\n",
       "    transform:      (0.00965199992060661, 0.0, -180.0, 0.0, -0.00965199992060...\n",
       "    crs:            +init=epsg:4326\n",
       "    res:            (0.00965199992060661, 0.00965199992060661)\n",
       "    is_tiled:       1\n",
       "    nodatavals:     (-3.4028234663852886e+38,)\n",
       "    scales:         (1.0,)\n",
       "    offsets:        (0.0,)\n",
       "    AREA_OR_POINT:  Area"
      ]
     },
     "execution_count": 9,
     "metadata": {},
     "output_type": "execute_result"
    }
   ],
   "source": [
    "da"
   ]
  },
  {
   "cell_type": "code",
   "execution_count": 10,
   "id": "563f5a08",
   "metadata": {},
   "outputs": [
    {
     "data": {
      "text/plain": [
       "96"
      ]
     },
     "execution_count": 10,
     "metadata": {},
     "output_type": "execute_result"
    }
   ],
   "source": [
    "import sys\n",
    "sys.getsizeof(da)"
   ]
  },
  {
   "cell_type": "code",
   "execution_count": 11,
   "id": "83468fbd",
   "metadata": {},
   "outputs": [
    {
     "data": {
      "text/plain": [
       "64"
      ]
     },
     "execution_count": 11,
     "metadata": {},
     "output_type": "execute_result"
    }
   ],
   "source": [
    "sys.getsizeof(da.copy)"
   ]
  },
  {
   "cell_type": "code",
   "execution_count": 12,
   "id": "a0f9b3bf",
   "metadata": {},
   "outputs": [
    {
     "data": {
      "text/plain": [
       "8"
      ]
     },
     "execution_count": 12,
     "metadata": {},
     "output_type": "execute_result"
    }
   ],
   "source": [
    "da.band.nbytes"
   ]
  },
  {
   "cell_type": "code",
   "execution_count": 13,
   "id": "bfd05539",
   "metadata": {},
   "outputs": [],
   "source": [
    "# da.nbytes - dont do this"
   ]
  },
  {
   "cell_type": "code",
   "execution_count": 14,
   "id": "ac0016d1",
   "metadata": {},
   "outputs": [
    {
     "data": {
      "text/plain": [
       "(1, 14505, 37298)"
      ]
     },
     "execution_count": 14,
     "metadata": {},
     "output_type": "execute_result"
    }
   ],
   "source": [
    "da.shape"
   ]
  },
  {
   "cell_type": "code",
   "execution_count": 15,
   "id": "581c6975",
   "metadata": {},
   "outputs": [
    {
     "data": {
      "text/plain": [
       "4.32805992"
      ]
     },
     "execution_count": 15,
     "metadata": {},
     "output_type": "execute_result"
    }
   ],
   "source": [
    "da.shape[0] * da.shape[1] * da.shape[2] * 8/ 1e9"
   ]
  },
  {
   "cell_type": "code",
   "execution_count": 16,
   "id": "d30e53b9",
   "metadata": {},
   "outputs": [
    {
     "data": {
      "text/plain": [
       "4.32805992"
      ]
     },
     "execution_count": 16,
     "metadata": {},
     "output_type": "execute_result"
    }
   ],
   "source": [
    "14505 * 37298 * 8 / 1e9"
   ]
  },
  {
   "cell_type": "code",
   "execution_count": 17,
   "id": "63d8e055",
   "metadata": {},
   "outputs": [],
   "source": [
    "# da.values.nbytes - dont do this either"
   ]
  },
  {
   "cell_type": "code",
   "execution_count": 18,
   "id": "fd85152a",
   "metadata": {},
   "outputs": [],
   "source": [
    "a = da.values"
   ]
  },
  {
   "cell_type": "code",
   "execution_count": 19,
   "id": "b132fe08",
   "metadata": {},
   "outputs": [
    {
     "data": {
      "text/plain": [
       "(1, 14505, 37298)"
      ]
     },
     "execution_count": 19,
     "metadata": {},
     "output_type": "execute_result"
    }
   ],
   "source": [
    "a.shape"
   ]
  },
  {
   "cell_type": "code",
   "execution_count": 20,
   "id": "955aec2e",
   "metadata": {},
   "outputs": [
    {
     "data": {
      "text/plain": [
       "80.6081"
      ]
     },
     "execution_count": 20,
     "metadata": {},
     "output_type": "execute_result"
    }
   ],
   "source": [
    "a.mean()"
   ]
  },
  {
   "cell_type": "code",
   "execution_count": 21,
   "id": "1e779280",
   "metadata": {},
   "outputs": [
    {
     "data": {
      "text/plain": [
       "599.45996"
      ]
     },
     "execution_count": 21,
     "metadata": {},
     "output_type": "execute_result"
    }
   ],
   "source": [
    "a.max()"
   ]
  },
  {
   "cell_type": "code",
   "execution_count": 22,
   "id": "8b3dc1d9",
   "metadata": {},
   "outputs": [
    {
     "data": {
      "text/plain": [
       "0.0"
      ]
     },
     "execution_count": 22,
     "metadata": {},
     "output_type": "execute_result"
    }
   ],
   "source": [
    "a.min()"
   ]
  },
  {
   "cell_type": "code",
   "execution_count": 23,
   "id": "713b024c",
   "metadata": {},
   "outputs": [
    {
     "data": {
      "text/plain": [
       "2164029960"
      ]
     },
     "execution_count": 23,
     "metadata": {},
     "output_type": "execute_result"
    }
   ],
   "source": [
    "a.nbytes"
   ]
  },
  {
   "cell_type": "code",
   "execution_count": 24,
   "id": "14ee930d",
   "metadata": {},
   "outputs": [
    {
     "data": {
      "text/plain": [
       "2.16402996"
      ]
     },
     "execution_count": 24,
     "metadata": {},
     "output_type": "execute_result"
    }
   ],
   "source": [
    "a.nbytes / 1e9"
   ]
  },
  {
   "cell_type": "code",
   "execution_count": 25,
   "id": "b1f1c6a5",
   "metadata": {},
   "outputs": [
    {
     "data": {
      "text/plain": [
       "dtype('float32')"
      ]
     },
     "execution_count": 25,
     "metadata": {},
     "output_type": "execute_result"
    }
   ],
   "source": [
    "a.dtype"
   ]
  },
  {
   "cell_type": "code",
   "execution_count": 26,
   "id": "31fbbf1a",
   "metadata": {},
   "outputs": [
    {
     "data": {
      "text/plain": [
       "['T',\n",
       " '__abs__',\n",
       " '__add__',\n",
       " '__and__',\n",
       " '__array__',\n",
       " '__array_finalize__',\n",
       " '__array_function__',\n",
       " '__array_interface__',\n",
       " '__array_prepare__',\n",
       " '__array_priority__',\n",
       " '__array_struct__',\n",
       " '__array_ufunc__',\n",
       " '__array_wrap__',\n",
       " '__bool__',\n",
       " '__class__',\n",
       " '__class_getitem__',\n",
       " '__complex__',\n",
       " '__contains__',\n",
       " '__copy__',\n",
       " '__deepcopy__',\n",
       " '__delattr__',\n",
       " '__delitem__',\n",
       " '__dir__',\n",
       " '__divmod__',\n",
       " '__dlpack__',\n",
       " '__dlpack_device__',\n",
       " '__doc__',\n",
       " '__eq__',\n",
       " '__float__',\n",
       " '__floordiv__',\n",
       " '__format__',\n",
       " '__ge__',\n",
       " '__getattribute__',\n",
       " '__getitem__',\n",
       " '__gt__',\n",
       " '__hash__',\n",
       " '__iadd__',\n",
       " '__iand__',\n",
       " '__ifloordiv__',\n",
       " '__ilshift__',\n",
       " '__imatmul__',\n",
       " '__imod__',\n",
       " '__imul__',\n",
       " '__index__',\n",
       " '__init__',\n",
       " '__init_subclass__',\n",
       " '__int__',\n",
       " '__invert__',\n",
       " '__ior__',\n",
       " '__ipow__',\n",
       " '__irshift__',\n",
       " '__isub__',\n",
       " '__iter__',\n",
       " '__itruediv__',\n",
       " '__ixor__',\n",
       " '__le__',\n",
       " '__len__',\n",
       " '__lshift__',\n",
       " '__lt__',\n",
       " '__matmul__',\n",
       " '__mod__',\n",
       " '__mul__',\n",
       " '__ne__',\n",
       " '__neg__',\n",
       " '__new__',\n",
       " '__or__',\n",
       " '__pos__',\n",
       " '__pow__',\n",
       " '__radd__',\n",
       " '__rand__',\n",
       " '__rdivmod__',\n",
       " '__reduce__',\n",
       " '__reduce_ex__',\n",
       " '__repr__',\n",
       " '__rfloordiv__',\n",
       " '__rlshift__',\n",
       " '__rmatmul__',\n",
       " '__rmod__',\n",
       " '__rmul__',\n",
       " '__ror__',\n",
       " '__rpow__',\n",
       " '__rrshift__',\n",
       " '__rshift__',\n",
       " '__rsub__',\n",
       " '__rtruediv__',\n",
       " '__rxor__',\n",
       " '__setattr__',\n",
       " '__setitem__',\n",
       " '__setstate__',\n",
       " '__sizeof__',\n",
       " '__str__',\n",
       " '__sub__',\n",
       " '__subclasshook__',\n",
       " '__truediv__',\n",
       " '__xor__',\n",
       " 'all',\n",
       " 'any',\n",
       " 'argmax',\n",
       " 'argmin',\n",
       " 'argpartition',\n",
       " 'argsort',\n",
       " 'astype',\n",
       " 'base',\n",
       " 'byteswap',\n",
       " 'choose',\n",
       " 'clip',\n",
       " 'compress',\n",
       " 'conj',\n",
       " 'conjugate',\n",
       " 'copy',\n",
       " 'ctypes',\n",
       " 'cumprod',\n",
       " 'cumsum',\n",
       " 'data',\n",
       " 'diagonal',\n",
       " 'dot',\n",
       " 'dtype',\n",
       " 'dump',\n",
       " 'dumps',\n",
       " 'fill',\n",
       " 'flags',\n",
       " 'flat',\n",
       " 'flatten',\n",
       " 'getfield',\n",
       " 'imag',\n",
       " 'item',\n",
       " 'itemset',\n",
       " 'itemsize',\n",
       " 'max',\n",
       " 'mean',\n",
       " 'min',\n",
       " 'nbytes',\n",
       " 'ndim',\n",
       " 'newbyteorder',\n",
       " 'nonzero',\n",
       " 'partition',\n",
       " 'prod',\n",
       " 'ptp',\n",
       " 'put',\n",
       " 'ravel',\n",
       " 'real',\n",
       " 'repeat',\n",
       " 'reshape',\n",
       " 'resize',\n",
       " 'round',\n",
       " 'searchsorted',\n",
       " 'setfield',\n",
       " 'setflags',\n",
       " 'shape',\n",
       " 'size',\n",
       " 'sort',\n",
       " 'squeeze',\n",
       " 'std',\n",
       " 'strides',\n",
       " 'sum',\n",
       " 'swapaxes',\n",
       " 'take',\n",
       " 'tobytes',\n",
       " 'tofile',\n",
       " 'tolist',\n",
       " 'tostring',\n",
       " 'trace',\n",
       " 'transpose',\n",
       " 'var',\n",
       " 'view']"
      ]
     },
     "execution_count": 26,
     "metadata": {},
     "output_type": "execute_result"
    }
   ],
   "source": [
    "dir(a)"
   ]
  },
  {
   "cell_type": "code",
   "execution_count": 27,
   "id": "2abb9233",
   "metadata": {},
   "outputs": [
    {
     "data": {
      "text/plain": [
       "['AREA_OR_POINT',\n",
       " 'T',\n",
       " '_HANDLED_TYPES',\n",
       " '__abs__',\n",
       " '__add__',\n",
       " '__and__',\n",
       " '__annotations__',\n",
       " '__array__',\n",
       " '__array_priority__',\n",
       " '__array_ufunc__',\n",
       " '__array_wrap__',\n",
       " '__bool__',\n",
       " '__class__',\n",
       " '__complex__',\n",
       " '__contains__',\n",
       " '__copy__',\n",
       " '__dask_graph__',\n",
       " '__dask_keys__',\n",
       " '__dask_layers__',\n",
       " '__dask_optimize__',\n",
       " '__dask_postcompute__',\n",
       " '__dask_postpersist__',\n",
       " '__dask_scheduler__',\n",
       " '__dask_tokenize__',\n",
       " '__deepcopy__',\n",
       " '__delattr__',\n",
       " '__delitem__',\n",
       " '__dir__',\n",
       " '__doc__',\n",
       " '__enter__',\n",
       " '__eq__',\n",
       " '__exit__',\n",
       " '__float__',\n",
       " '__floordiv__',\n",
       " '__format__',\n",
       " '__ge__',\n",
       " '__getattr__',\n",
       " '__getattribute__',\n",
       " '__getitem__',\n",
       " '__gt__',\n",
       " '__hash__',\n",
       " '__iadd__',\n",
       " '__iand__',\n",
       " '__ifloordiv__',\n",
       " '__imod__',\n",
       " '__imul__',\n",
       " '__init__',\n",
       " '__init_subclass__',\n",
       " '__int__',\n",
       " '__invert__',\n",
       " '__ior__',\n",
       " '__ipow__',\n",
       " '__isub__',\n",
       " '__iter__',\n",
       " '__itruediv__',\n",
       " '__ixor__',\n",
       " '__le__',\n",
       " '__len__',\n",
       " '__lt__',\n",
       " '__matmul__',\n",
       " '__mod__',\n",
       " '__module__',\n",
       " '__mul__',\n",
       " '__ne__',\n",
       " '__neg__',\n",
       " '__new__',\n",
       " '__or__',\n",
       " '__pos__',\n",
       " '__pow__',\n",
       " '__radd__',\n",
       " '__rand__',\n",
       " '__reduce__',\n",
       " '__reduce_ex__',\n",
       " '__repr__',\n",
       " '__rfloordiv__',\n",
       " '__rmatmul__',\n",
       " '__rmod__',\n",
       " '__rmul__',\n",
       " '__ror__',\n",
       " '__rpow__',\n",
       " '__rsub__',\n",
       " '__rtruediv__',\n",
       " '__rxor__',\n",
       " '__setattr__',\n",
       " '__setitem__',\n",
       " '__sizeof__',\n",
       " '__slots__',\n",
       " '__str__',\n",
       " '__sub__',\n",
       " '__subclasshook__',\n",
       " '__truediv__',\n",
       " '__weakref__',\n",
       " '__xor__',\n",
       " '_all_compat',\n",
       " '_attr_sources',\n",
       " '_binary_op',\n",
       " '_cache',\n",
       " '_calc_assign_results',\n",
       " '_close',\n",
       " '_construct_direct',\n",
       " '_coords',\n",
       " '_copy',\n",
       " '_copy_attrs_from',\n",
       " '_cum_extra_args_docstring',\n",
       " '_dask_finalize',\n",
       " '_from_temp_dataset',\n",
       " '_get_axis_num',\n",
       " '_getitem_coord',\n",
       " '_in_memory',\n",
       " '_indexes',\n",
       " '_inplace_binary_op',\n",
       " '_ipython_key_completions_',\n",
       " '_item_key_to_dict',\n",
       " '_item_sources',\n",
       " '_iter',\n",
       " '_name',\n",
       " '_overwrite_indexes',\n",
       " '_reduce_extra_args_docstring',\n",
       " '_reduce_method',\n",
       " '_reindex_callback',\n",
       " '_replace',\n",
       " '_replace_maybe_drop_dims',\n",
       " '_repr_html_',\n",
       " '_resample',\n",
       " '_result_name',\n",
       " '_setattr_dict',\n",
       " '_title_for_slice',\n",
       " '_to_dataset_split',\n",
       " '_to_dataset_whole',\n",
       " '_to_index',\n",
       " '_to_temp_dataset',\n",
       " '_unary_op',\n",
       " '_variable',\n",
       " 'all',\n",
       " 'any',\n",
       " 'argmax',\n",
       " 'argmin',\n",
       " 'argsort',\n",
       " 'as_numpy',\n",
       " 'assign_attrs',\n",
       " 'assign_coords',\n",
       " 'astype',\n",
       " 'attrs',\n",
       " 'band',\n",
       " 'bfill',\n",
       " 'broadcast_equals',\n",
       " 'broadcast_like',\n",
       " 'chunk',\n",
       " 'chunks',\n",
       " 'chunksizes',\n",
       " 'clip',\n",
       " 'close',\n",
       " 'coarsen',\n",
       " 'combine_first',\n",
       " 'compute',\n",
       " 'conj',\n",
       " 'conjugate',\n",
       " 'convert_calendar',\n",
       " 'coords',\n",
       " 'copy',\n",
       " 'count',\n",
       " 'crs',\n",
       " 'cumprod',\n",
       " 'cumsum',\n",
       " 'cumulative_integrate',\n",
       " 'curvefit',\n",
       " 'data',\n",
       " 'diff',\n",
       " 'differentiate',\n",
       " 'dims',\n",
       " 'dot',\n",
       " 'drop',\n",
       " 'drop_duplicates',\n",
       " 'drop_indexes',\n",
       " 'drop_isel',\n",
       " 'drop_sel',\n",
       " 'drop_vars',\n",
       " 'dropna',\n",
       " 'dt',\n",
       " 'dtype',\n",
       " 'encoding',\n",
       " 'equals',\n",
       " 'expand_dims',\n",
       " 'ffill',\n",
       " 'fillna',\n",
       " 'from_cdms2',\n",
       " 'from_dict',\n",
       " 'from_iris',\n",
       " 'from_series',\n",
       " 'get_axis_num',\n",
       " 'get_index',\n",
       " 'groupby',\n",
       " 'groupby_bins',\n",
       " 'head',\n",
       " 'identical',\n",
       " 'idxmax',\n",
       " 'idxmin',\n",
       " 'imag',\n",
       " 'indexes',\n",
       " 'integrate',\n",
       " 'interp',\n",
       " 'interp_calendar',\n",
       " 'interp_like',\n",
       " 'interpolate_na',\n",
       " 'is_tiled',\n",
       " 'isel',\n",
       " 'isin',\n",
       " 'isnull',\n",
       " 'item',\n",
       " 'load',\n",
       " 'loc',\n",
       " 'map_blocks',\n",
       " 'max',\n",
       " 'mean',\n",
       " 'median',\n",
       " 'min',\n",
       " 'name',\n",
       " 'nbytes',\n",
       " 'ndim',\n",
       " 'nodatavals',\n",
       " 'notnull',\n",
       " 'offsets',\n",
       " 'pad',\n",
       " 'persist',\n",
       " 'pipe',\n",
       " 'plot',\n",
       " 'polyfit',\n",
       " 'prod',\n",
       " 'quantile',\n",
       " 'query',\n",
       " 'rank',\n",
       " 'real',\n",
       " 'reduce',\n",
       " 'reindex',\n",
       " 'reindex_like',\n",
       " 'rename',\n",
       " 'reorder_levels',\n",
       " 'res',\n",
       " 'resample',\n",
       " 'reset_coords',\n",
       " 'reset_index',\n",
       " 'roll',\n",
       " 'rolling',\n",
       " 'rolling_exp',\n",
       " 'round',\n",
       " 'scales',\n",
       " 'searchsorted',\n",
       " 'sel',\n",
       " 'set_close',\n",
       " 'set_index',\n",
       " 'set_xindex',\n",
       " 'shape',\n",
       " 'shift',\n",
       " 'size',\n",
       " 'sizes',\n",
       " 'sortby',\n",
       " 'squeeze',\n",
       " 'stack',\n",
       " 'std',\n",
       " 'str',\n",
       " 'sum',\n",
       " 'swap_dims',\n",
       " 'tail',\n",
       " 'thin',\n",
       " 'to_cdms2',\n",
       " 'to_dataframe',\n",
       " 'to_dataset',\n",
       " 'to_dict',\n",
       " 'to_index',\n",
       " 'to_iris',\n",
       " 'to_masked_array',\n",
       " 'to_netcdf',\n",
       " 'to_numpy',\n",
       " 'to_pandas',\n",
       " 'to_series',\n",
       " 'to_unstacked_dataset',\n",
       " 'transform',\n",
       " 'transpose',\n",
       " 'unify_chunks',\n",
       " 'unstack',\n",
       " 'values',\n",
       " 'var',\n",
       " 'variable',\n",
       " 'weighted',\n",
       " 'where',\n",
       " 'x',\n",
       " 'xindexes',\n",
       " 'y']"
      ]
     },
     "execution_count": 27,
     "metadata": {},
     "output_type": "execute_result"
    }
   ],
   "source": [
    "dir(da)"
   ]
  },
  {
   "cell_type": "code",
   "execution_count": 28,
   "id": "bea59038",
   "metadata": {},
   "outputs": [
    {
     "data": {
      "text/plain": [
       "(0.00965199992060661, 0.0, -180.0, 0.0, -0.00965199992060661, 80.0)"
      ]
     },
     "execution_count": 28,
     "metadata": {},
     "output_type": "execute_result"
    }
   ],
   "source": [
    "da.transform"
   ]
  },
  {
   "cell_type": "code",
   "execution_count": 29,
   "id": "27ff054f",
   "metadata": {},
   "outputs": [
    {
     "data": {
      "text/plain": [
       "(1, 14505, 37298)"
      ]
     },
     "execution_count": 29,
     "metadata": {},
     "output_type": "execute_result"
    }
   ],
   "source": [
    "da.shape"
   ]
  },
  {
   "cell_type": "code",
   "execution_count": 30,
   "id": "ff1608b5",
   "metadata": {},
   "outputs": [
    {
     "data": {
      "text/plain": [
       "Coordinates:\n",
       "  * band     (band) int64 1\n",
       "  * y        (y) float64 80.0 79.99 79.98 79.97 ... -59.97 -59.98 -59.99 -60.0\n",
       "  * x        (x) float64 -180.0 -180.0 -180.0 -180.0 ... 180.0 180.0 180.0 180.0"
      ]
     },
     "execution_count": 30,
     "metadata": {},
     "output_type": "execute_result"
    }
   ],
   "source": [
    "da.coords"
   ]
  },
  {
   "cell_type": "code",
   "execution_count": 31,
   "id": "03819e4e",
   "metadata": {},
   "outputs": [
    {
     "data": {
      "text/plain": [
       "'+init=epsg:4326'"
      ]
     },
     "execution_count": 31,
     "metadata": {},
     "output_type": "execute_result"
    }
   ],
   "source": [
    "da.crs"
   ]
  },
  {
   "cell_type": "code",
   "execution_count": 32,
   "id": "006fd938",
   "metadata": {},
   "outputs": [
    {
     "data": {
      "text/plain": [
       "1"
      ]
     },
     "execution_count": 32,
     "metadata": {},
     "output_type": "execute_result"
    }
   ],
   "source": [
    "da.is_tiled"
   ]
  },
  {
   "cell_type": "code",
   "execution_count": 38,
   "id": "f9220603",
   "metadata": {},
   "outputs": [
    {
     "ename": "AttributeError",
     "evalue": "'DataArray' object has no attribute 'bounds'",
     "output_type": "error",
     "traceback": [
      "\u001b[0;31m---------------------------------------------------------------------------\u001b[0m",
      "\u001b[0;31mAttributeError\u001b[0m                            Traceback (most recent call last)",
      "Cell \u001b[0;32mIn [38], line 1\u001b[0m\n\u001b[0;32m----> 1\u001b[0m \u001b[43mda\u001b[49m\u001b[38;5;241;43m.\u001b[39;49m\u001b[43mbounds\u001b[49m\n",
      "File \u001b[0;32m/wsefs/miniconda3/envs/ssebop-study/lib/python3.10/site-packages/xarray/core/common.py:272\u001b[0m, in \u001b[0;36mAttrAccessMixin.__getattr__\u001b[0;34m(self, name)\u001b[0m\n\u001b[1;32m    270\u001b[0m         \u001b[38;5;28;01mwith\u001b[39;00m suppress(\u001b[38;5;167;01mKeyError\u001b[39;00m):\n\u001b[1;32m    271\u001b[0m             \u001b[38;5;28;01mreturn\u001b[39;00m source[name]\n\u001b[0;32m--> 272\u001b[0m \u001b[38;5;28;01mraise\u001b[39;00m \u001b[38;5;167;01mAttributeError\u001b[39;00m(\n\u001b[1;32m    273\u001b[0m     \u001b[38;5;124mf\u001b[39m\u001b[38;5;124m\"\u001b[39m\u001b[38;5;132;01m{\u001b[39;00m\u001b[38;5;28mtype\u001b[39m(\u001b[38;5;28mself\u001b[39m)\u001b[38;5;241m.\u001b[39m\u001b[38;5;18m__name__\u001b[39m\u001b[38;5;132;01m!r}\u001b[39;00m\u001b[38;5;124m object has no attribute \u001b[39m\u001b[38;5;132;01m{\u001b[39;00mname\u001b[38;5;132;01m!r}\u001b[39;00m\u001b[38;5;124m\"\u001b[39m\n\u001b[1;32m    274\u001b[0m )\n",
      "\u001b[0;31mAttributeError\u001b[0m: 'DataArray' object has no attribute 'bounds'"
     ]
    }
   ],
   "source": [
    "da.bounds"
   ]
  },
  {
   "cell_type": "code",
   "execution_count": 35,
   "id": "3e872201",
   "metadata": {},
   "outputs": [
    {
     "data": {
      "text/plain": [
       "0.54100749"
      ]
     },
     "execution_count": 35,
     "metadata": {},
     "output_type": "execute_result"
    }
   ],
   "source": [
    "da.size/1e9"
   ]
  },
  {
   "cell_type": "code",
   "execution_count": 37,
   "id": "5d9e185c",
   "metadata": {},
   "outputs": [
    {
     "name": "stdout",
     "output_type": "stream",
     "text": [
      "\u001b[1;39m{\r\n",
      "  \u001b[0m\u001b[34;1m\"blockxsize\"\u001b[0m\u001b[1;39m: \u001b[0m\u001b[0;39m128\u001b[0m\u001b[1;39m,\r\n",
      "  \u001b[0m\u001b[34;1m\"blockysize\"\u001b[0m\u001b[1;39m: \u001b[0m\u001b[0;39m128\u001b[0m\u001b[1;39m,\r\n",
      "  \u001b[0m\u001b[34;1m\"bounds\"\u001b[0m\u001b[1;39m: \u001b[0m\u001b[1;39m[\r\n",
      "    \u001b[0;39m-180\u001b[0m\u001b[1;39m,\r\n",
      "    \u001b[0;39m-60.00225884839887\u001b[0m\u001b[1;39m,\r\n",
      "    \u001b[0;39m180.00029303878534\u001b[0m\u001b[1;39m,\r\n",
      "    \u001b[0;39m80\u001b[0m\u001b[1;39m\r\n",
      "  \u001b[1;39m]\u001b[0m\u001b[1;39m,\r\n",
      "  \u001b[0m\u001b[34;1m\"colorinterp\"\u001b[0m\u001b[1;39m: \u001b[0m\u001b[1;39m[\r\n",
      "    \u001b[0;32m\"gray\"\u001b[0m\u001b[1;39m\r\n",
      "  \u001b[1;39m]\u001b[0m\u001b[1;39m,\r\n",
      "  \u001b[0m\u001b[34;1m\"count\"\u001b[0m\u001b[1;39m: \u001b[0m\u001b[0;39m1\u001b[0m\u001b[1;39m,\r\n",
      "  \u001b[0m\u001b[34;1m\"crs\"\u001b[0m\u001b[1;39m: \u001b[0m\u001b[0;32m\"EPSG:4326\"\u001b[0m\u001b[1;39m,\r\n",
      "  \u001b[0m\u001b[34;1m\"descriptions\"\u001b[0m\u001b[1;39m: \u001b[0m\u001b[1;39m[\r\n",
      "    \u001b[1;30mnull\u001b[0m\u001b[1;39m\r\n",
      "  \u001b[1;39m]\u001b[0m\u001b[1;39m,\r\n",
      "  \u001b[0m\u001b[34;1m\"driver\"\u001b[0m\u001b[1;39m: \u001b[0m\u001b[0;32m\"GTiff\"\u001b[0m\u001b[1;39m,\r\n",
      "  \u001b[0m\u001b[34;1m\"dtype\"\u001b[0m\u001b[1;39m: \u001b[0m\u001b[0;32m\"float32\"\u001b[0m\u001b[1;39m,\r\n",
      "  \u001b[0m\u001b[34;1m\"height\"\u001b[0m\u001b[1;39m: \u001b[0m\u001b[0;39m14505\u001b[0m\u001b[1;39m,\r\n",
      "  \u001b[0m\u001b[34;1m\"indexes\"\u001b[0m\u001b[1;39m: \u001b[0m\u001b[1;39m[\r\n",
      "    \u001b[0;39m1\u001b[0m\u001b[1;39m\r\n",
      "  \u001b[1;39m]\u001b[0m\u001b[1;39m,\r\n",
      "  \u001b[0m\u001b[34;1m\"interleave\"\u001b[0m\u001b[1;39m: \u001b[0m\u001b[0;32m\"band\"\u001b[0m\u001b[1;39m,\r\n",
      "  \u001b[0m\u001b[34;1m\"lnglat\"\u001b[0m\u001b[1;39m: \u001b[0m\u001b[1;39m[\r\n",
      "    \u001b[0;39m0.00014651939267196212\u001b[0m\u001b[1;39m,\r\n",
      "    \u001b[0;39m9.998870575800566\u001b[0m\u001b[1;39m\r\n",
      "  \u001b[1;39m]\u001b[0m\u001b[1;39m,\r\n",
      "  \u001b[0m\u001b[34;1m\"mask_flags\"\u001b[0m\u001b[1;39m: \u001b[0m\u001b[1;39m[\r\n",
      "    \u001b[1;39m[\r\n",
      "      \u001b[0;32m\"nodata\"\u001b[0m\u001b[1;39m\r\n",
      "    \u001b[1;39m]\u001b[0m\u001b[1;39m\r\n",
      "  \u001b[1;39m]\u001b[0m\u001b[1;39m,\r\n",
      "  \u001b[0m\u001b[34;1m\"nodata\"\u001b[0m\u001b[1;39m: \u001b[0m\u001b[0;39m-3.4028234663852886e+38\u001b[0m\u001b[1;39m,\r\n",
      "  \u001b[0m\u001b[34;1m\"res\"\u001b[0m\u001b[1;39m: \u001b[0m\u001b[1;39m[\r\n",
      "    \u001b[0;39m0.00965199992060661\u001b[0m\u001b[1;39m,\r\n",
      "    \u001b[0;39m0.00965199992060661\u001b[0m\u001b[1;39m\r\n",
      "  \u001b[1;39m]\u001b[0m\u001b[1;39m,\r\n",
      "  \u001b[0m\u001b[34;1m\"shape\"\u001b[0m\u001b[1;39m: \u001b[0m\u001b[1;39m[\r\n",
      "    \u001b[0;39m14505\u001b[0m\u001b[1;39m,\r\n",
      "    \u001b[0;39m37298\u001b[0m\u001b[1;39m\r\n",
      "  \u001b[1;39m]\u001b[0m\u001b[1;39m,\r\n",
      "  \u001b[0m\u001b[34;1m\"tiled\"\u001b[0m\u001b[1;39m: \u001b[0m\u001b[0;39mtrue\u001b[0m\u001b[1;39m,\r\n",
      "  \u001b[0m\u001b[34;1m\"transform\"\u001b[0m\u001b[1;39m: \u001b[0m\u001b[1;39m[\r\n",
      "    \u001b[0;39m0.00965199992060661\u001b[0m\u001b[1;39m,\r\n",
      "    \u001b[0;39m0\u001b[0m\u001b[1;39m,\r\n",
      "    \u001b[0;39m-180\u001b[0m\u001b[1;39m,\r\n",
      "    \u001b[0;39m0\u001b[0m\u001b[1;39m,\r\n",
      "    \u001b[0;39m-0.00965199992060661\u001b[0m\u001b[1;39m,\r\n",
      "    \u001b[0;39m80\u001b[0m\u001b[1;39m,\r\n",
      "    \u001b[0;39m0\u001b[0m\u001b[1;39m,\r\n",
      "    \u001b[0;39m0\u001b[0m\u001b[1;39m,\r\n",
      "    \u001b[0;39m1\u001b[0m\u001b[1;39m\r\n",
      "  \u001b[1;39m]\u001b[0m\u001b[1;39m,\r\n",
      "  \u001b[0m\u001b[34;1m\"units\"\u001b[0m\u001b[1;39m: \u001b[0m\u001b[1;39m[\r\n",
      "    \u001b[1;30mnull\u001b[0m\u001b[1;39m\r\n",
      "  \u001b[1;39m]\u001b[0m\u001b[1;39m,\r\n",
      "  \u001b[0m\u001b[34;1m\"width\"\u001b[0m\u001b[1;39m: \u001b[0m\u001b[0;39m37298\u001b[0m\u001b[1;39m\r\n",
      "\u001b[1;39m}\u001b[0m\r\n"
     ]
    }
   ],
   "source": [
    "!rio info s3://ws-in/ssebop/lst/2012/2012021.1_km_VIIRS_LST.tif| jq\n"
   ]
  },
  {
   "cell_type": "code",
   "execution_count": 39,
   "id": "6fafd628",
   "metadata": {},
   "outputs": [
    {
     "data": {
      "text/plain": [
       "<bound method DataArrayAggregations.all of <xarray.DataArray (band: 1, y: 14505, x: 37298)>\n",
       "array([[[0., 0., ..., 0., 0.],\n",
       "        [0., 0., ..., 0., 0.],\n",
       "        ...,\n",
       "        [0., 0., ..., 0., 0.],\n",
       "        [0., 0., ..., 0., 0.]]], dtype=float32)\n",
       "Coordinates:\n",
       "  * band     (band) int64 1\n",
       "  * y        (y) float64 80.0 79.99 79.98 79.97 ... -59.97 -59.98 -59.99 -60.0\n",
       "  * x        (x) float64 -180.0 -180.0 -180.0 -180.0 ... 180.0 180.0 180.0 180.0\n",
       "Attributes:\n",
       "    transform:      (0.00965199992060661, 0.0, -180.0, 0.0, -0.00965199992060...\n",
       "    crs:            +init=epsg:4326\n",
       "    res:            (0.00965199992060661, 0.00965199992060661)\n",
       "    is_tiled:       1\n",
       "    nodatavals:     (-3.4028234663852886e+38,)\n",
       "    scales:         (1.0,)\n",
       "    offsets:        (0.0,)\n",
       "    AREA_OR_POINT:  Area>"
      ]
     },
     "execution_count": 39,
     "metadata": {},
     "output_type": "execute_result"
    }
   ],
   "source": [
    "da.all"
   ]
  },
  {
   "cell_type": "code",
   "execution_count": 40,
   "id": "333185c0",
   "metadata": {},
   "outputs": [
    {
     "data": {
      "text/html": [
       "<div><svg style=\"position: absolute; width: 0; height: 0; overflow: hidden\">\n",
       "<defs>\n",
       "<symbol id=\"icon-database\" viewBox=\"0 0 32 32\">\n",
       "<path d=\"M16 0c-8.837 0-16 2.239-16 5v4c0 2.761 7.163 5 16 5s16-2.239 16-5v-4c0-2.761-7.163-5-16-5z\"></path>\n",
       "<path d=\"M16 17c-8.837 0-16-2.239-16-5v6c0 2.761 7.163 5 16 5s16-2.239 16-5v-6c0 2.761-7.163 5-16 5z\"></path>\n",
       "<path d=\"M16 26c-8.837 0-16-2.239-16-5v6c0 2.761 7.163 5 16 5s16-2.239 16-5v-6c0 2.761-7.163 5-16 5z\"></path>\n",
       "</symbol>\n",
       "<symbol id=\"icon-file-text2\" viewBox=\"0 0 32 32\">\n",
       "<path d=\"M28.681 7.159c-0.694-0.947-1.662-2.053-2.724-3.116s-2.169-2.030-3.116-2.724c-1.612-1.182-2.393-1.319-2.841-1.319h-15.5c-1.378 0-2.5 1.121-2.5 2.5v27c0 1.378 1.122 2.5 2.5 2.5h23c1.378 0 2.5-1.122 2.5-2.5v-19.5c0-0.448-0.137-1.23-1.319-2.841zM24.543 5.457c0.959 0.959 1.712 1.825 2.268 2.543h-4.811v-4.811c0.718 0.556 1.584 1.309 2.543 2.268zM28 29.5c0 0.271-0.229 0.5-0.5 0.5h-23c-0.271 0-0.5-0.229-0.5-0.5v-27c0-0.271 0.229-0.5 0.5-0.5 0 0 15.499-0 15.5 0v7c0 0.552 0.448 1 1 1h7v19.5z\"></path>\n",
       "<path d=\"M23 26h-14c-0.552 0-1-0.448-1-1s0.448-1 1-1h14c0.552 0 1 0.448 1 1s-0.448 1-1 1z\"></path>\n",
       "<path d=\"M23 22h-14c-0.552 0-1-0.448-1-1s0.448-1 1-1h14c0.552 0 1 0.448 1 1s-0.448 1-1 1z\"></path>\n",
       "<path d=\"M23 18h-14c-0.552 0-1-0.448-1-1s0.448-1 1-1h14c0.552 0 1 0.448 1 1s-0.448 1-1 1z\"></path>\n",
       "</symbol>\n",
       "</defs>\n",
       "</svg>\n",
       "<style>/* CSS stylesheet for displaying xarray objects in jupyterlab.\n",
       " *\n",
       " */\n",
       "\n",
       ":root {\n",
       "  --xr-font-color0: var(--jp-content-font-color0, rgba(0, 0, 0, 1));\n",
       "  --xr-font-color2: var(--jp-content-font-color2, rgba(0, 0, 0, 0.54));\n",
       "  --xr-font-color3: var(--jp-content-font-color3, rgba(0, 0, 0, 0.38));\n",
       "  --xr-border-color: var(--jp-border-color2, #e0e0e0);\n",
       "  --xr-disabled-color: var(--jp-layout-color3, #bdbdbd);\n",
       "  --xr-background-color: var(--jp-layout-color0, white);\n",
       "  --xr-background-color-row-even: var(--jp-layout-color1, white);\n",
       "  --xr-background-color-row-odd: var(--jp-layout-color2, #eeeeee);\n",
       "}\n",
       "\n",
       "html[theme=dark],\n",
       "body[data-theme=dark],\n",
       "body.vscode-dark {\n",
       "  --xr-font-color0: rgba(255, 255, 255, 1);\n",
       "  --xr-font-color2: rgba(255, 255, 255, 0.54);\n",
       "  --xr-font-color3: rgba(255, 255, 255, 0.38);\n",
       "  --xr-border-color: #1F1F1F;\n",
       "  --xr-disabled-color: #515151;\n",
       "  --xr-background-color: #111111;\n",
       "  --xr-background-color-row-even: #111111;\n",
       "  --xr-background-color-row-odd: #313131;\n",
       "}\n",
       "\n",
       ".xr-wrap {\n",
       "  display: block !important;\n",
       "  min-width: 300px;\n",
       "  max-width: 700px;\n",
       "}\n",
       "\n",
       ".xr-text-repr-fallback {\n",
       "  /* fallback to plain text repr when CSS is not injected (untrusted notebook) */\n",
       "  display: none;\n",
       "}\n",
       "\n",
       ".xr-header {\n",
       "  padding-top: 6px;\n",
       "  padding-bottom: 6px;\n",
       "  margin-bottom: 4px;\n",
       "  border-bottom: solid 1px var(--xr-border-color);\n",
       "}\n",
       "\n",
       ".xr-header > div,\n",
       ".xr-header > ul {\n",
       "  display: inline;\n",
       "  margin-top: 0;\n",
       "  margin-bottom: 0;\n",
       "}\n",
       "\n",
       ".xr-obj-type,\n",
       ".xr-array-name {\n",
       "  margin-left: 2px;\n",
       "  margin-right: 10px;\n",
       "}\n",
       "\n",
       ".xr-obj-type {\n",
       "  color: var(--xr-font-color2);\n",
       "}\n",
       "\n",
       ".xr-sections {\n",
       "  padding-left: 0 !important;\n",
       "  display: grid;\n",
       "  grid-template-columns: 150px auto auto 1fr 20px 20px;\n",
       "}\n",
       "\n",
       ".xr-section-item {\n",
       "  display: contents;\n",
       "}\n",
       "\n",
       ".xr-section-item input {\n",
       "  display: none;\n",
       "}\n",
       "\n",
       ".xr-section-item input + label {\n",
       "  color: var(--xr-disabled-color);\n",
       "}\n",
       "\n",
       ".xr-section-item input:enabled + label {\n",
       "  cursor: pointer;\n",
       "  color: var(--xr-font-color2);\n",
       "}\n",
       "\n",
       ".xr-section-item input:enabled + label:hover {\n",
       "  color: var(--xr-font-color0);\n",
       "}\n",
       "\n",
       ".xr-section-summary {\n",
       "  grid-column: 1;\n",
       "  color: var(--xr-font-color2);\n",
       "  font-weight: 500;\n",
       "}\n",
       "\n",
       ".xr-section-summary > span {\n",
       "  display: inline-block;\n",
       "  padding-left: 0.5em;\n",
       "}\n",
       "\n",
       ".xr-section-summary-in:disabled + label {\n",
       "  color: var(--xr-font-color2);\n",
       "}\n",
       "\n",
       ".xr-section-summary-in + label:before {\n",
       "  display: inline-block;\n",
       "  content: '►';\n",
       "  font-size: 11px;\n",
       "  width: 15px;\n",
       "  text-align: center;\n",
       "}\n",
       "\n",
       ".xr-section-summary-in:disabled + label:before {\n",
       "  color: var(--xr-disabled-color);\n",
       "}\n",
       "\n",
       ".xr-section-summary-in:checked + label:before {\n",
       "  content: '▼';\n",
       "}\n",
       "\n",
       ".xr-section-summary-in:checked + label > span {\n",
       "  display: none;\n",
       "}\n",
       "\n",
       ".xr-section-summary,\n",
       ".xr-section-inline-details {\n",
       "  padding-top: 4px;\n",
       "  padding-bottom: 4px;\n",
       "}\n",
       "\n",
       ".xr-section-inline-details {\n",
       "  grid-column: 2 / -1;\n",
       "}\n",
       "\n",
       ".xr-section-details {\n",
       "  display: none;\n",
       "  grid-column: 1 / -1;\n",
       "  margin-bottom: 5px;\n",
       "}\n",
       "\n",
       ".xr-section-summary-in:checked ~ .xr-section-details {\n",
       "  display: contents;\n",
       "}\n",
       "\n",
       ".xr-array-wrap {\n",
       "  grid-column: 1 / -1;\n",
       "  display: grid;\n",
       "  grid-template-columns: 20px auto;\n",
       "}\n",
       "\n",
       ".xr-array-wrap > label {\n",
       "  grid-column: 1;\n",
       "  vertical-align: top;\n",
       "}\n",
       "\n",
       ".xr-preview {\n",
       "  color: var(--xr-font-color3);\n",
       "}\n",
       "\n",
       ".xr-array-preview,\n",
       ".xr-array-data {\n",
       "  padding: 0 5px !important;\n",
       "  grid-column: 2;\n",
       "}\n",
       "\n",
       ".xr-array-data,\n",
       ".xr-array-in:checked ~ .xr-array-preview {\n",
       "  display: none;\n",
       "}\n",
       "\n",
       ".xr-array-in:checked ~ .xr-array-data,\n",
       ".xr-array-preview {\n",
       "  display: inline-block;\n",
       "}\n",
       "\n",
       ".xr-dim-list {\n",
       "  display: inline-block !important;\n",
       "  list-style: none;\n",
       "  padding: 0 !important;\n",
       "  margin: 0;\n",
       "}\n",
       "\n",
       ".xr-dim-list li {\n",
       "  display: inline-block;\n",
       "  padding: 0;\n",
       "  margin: 0;\n",
       "}\n",
       "\n",
       ".xr-dim-list:before {\n",
       "  content: '(';\n",
       "}\n",
       "\n",
       ".xr-dim-list:after {\n",
       "  content: ')';\n",
       "}\n",
       "\n",
       ".xr-dim-list li:not(:last-child):after {\n",
       "  content: ',';\n",
       "  padding-right: 5px;\n",
       "}\n",
       "\n",
       ".xr-has-index {\n",
       "  font-weight: bold;\n",
       "}\n",
       "\n",
       ".xr-var-list,\n",
       ".xr-var-item {\n",
       "  display: contents;\n",
       "}\n",
       "\n",
       ".xr-var-item > div,\n",
       ".xr-var-item label,\n",
       ".xr-var-item > .xr-var-name span {\n",
       "  background-color: var(--xr-background-color-row-even);\n",
       "  margin-bottom: 0;\n",
       "}\n",
       "\n",
       ".xr-var-item > .xr-var-name:hover span {\n",
       "  padding-right: 5px;\n",
       "}\n",
       "\n",
       ".xr-var-list > li:nth-child(odd) > div,\n",
       ".xr-var-list > li:nth-child(odd) > label,\n",
       ".xr-var-list > li:nth-child(odd) > .xr-var-name span {\n",
       "  background-color: var(--xr-background-color-row-odd);\n",
       "}\n",
       "\n",
       ".xr-var-name {\n",
       "  grid-column: 1;\n",
       "}\n",
       "\n",
       ".xr-var-dims {\n",
       "  grid-column: 2;\n",
       "}\n",
       "\n",
       ".xr-var-dtype {\n",
       "  grid-column: 3;\n",
       "  text-align: right;\n",
       "  color: var(--xr-font-color2);\n",
       "}\n",
       "\n",
       ".xr-var-preview {\n",
       "  grid-column: 4;\n",
       "}\n",
       "\n",
       ".xr-index-preview {\n",
       "  grid-column: 2 / 5;\n",
       "  color: var(--xr-font-color2);\n",
       "}\n",
       "\n",
       ".xr-var-name,\n",
       ".xr-var-dims,\n",
       ".xr-var-dtype,\n",
       ".xr-preview,\n",
       ".xr-attrs dt {\n",
       "  white-space: nowrap;\n",
       "  overflow: hidden;\n",
       "  text-overflow: ellipsis;\n",
       "  padding-right: 10px;\n",
       "}\n",
       "\n",
       ".xr-var-name:hover,\n",
       ".xr-var-dims:hover,\n",
       ".xr-var-dtype:hover,\n",
       ".xr-attrs dt:hover {\n",
       "  overflow: visible;\n",
       "  width: auto;\n",
       "  z-index: 1;\n",
       "}\n",
       "\n",
       ".xr-var-attrs,\n",
       ".xr-var-data,\n",
       ".xr-index-data {\n",
       "  display: none;\n",
       "  background-color: var(--xr-background-color) !important;\n",
       "  padding-bottom: 5px !important;\n",
       "}\n",
       "\n",
       ".xr-var-attrs-in:checked ~ .xr-var-attrs,\n",
       ".xr-var-data-in:checked ~ .xr-var-data,\n",
       ".xr-index-data-in:checked ~ .xr-index-data {\n",
       "  display: block;\n",
       "}\n",
       "\n",
       ".xr-var-data > table {\n",
       "  float: right;\n",
       "}\n",
       "\n",
       ".xr-var-name span,\n",
       ".xr-var-data,\n",
       ".xr-index-name div,\n",
       ".xr-index-data,\n",
       ".xr-attrs {\n",
       "  padding-left: 25px !important;\n",
       "}\n",
       "\n",
       ".xr-attrs,\n",
       ".xr-var-attrs,\n",
       ".xr-var-data,\n",
       ".xr-index-data {\n",
       "  grid-column: 1 / -1;\n",
       "}\n",
       "\n",
       "dl.xr-attrs {\n",
       "  padding: 0;\n",
       "  margin: 0;\n",
       "  display: grid;\n",
       "  grid-template-columns: 125px auto;\n",
       "}\n",
       "\n",
       ".xr-attrs dt,\n",
       ".xr-attrs dd {\n",
       "  padding: 0;\n",
       "  margin: 0;\n",
       "  float: left;\n",
       "  padding-right: 10px;\n",
       "  width: auto;\n",
       "}\n",
       "\n",
       ".xr-attrs dt {\n",
       "  font-weight: normal;\n",
       "  grid-column: 1;\n",
       "}\n",
       "\n",
       ".xr-attrs dt:hover span {\n",
       "  display: inline-block;\n",
       "  background: var(--xr-background-color);\n",
       "  padding-right: 10px;\n",
       "}\n",
       "\n",
       ".xr-attrs dd {\n",
       "  grid-column: 2;\n",
       "  white-space: pre-wrap;\n",
       "  word-break: break-all;\n",
       "}\n",
       "\n",
       ".xr-icon-database,\n",
       ".xr-icon-file-text2,\n",
       ".xr-no-icon {\n",
       "  display: inline-block;\n",
       "  vertical-align: middle;\n",
       "  width: 1em;\n",
       "  height: 1.5em !important;\n",
       "  stroke-width: 0;\n",
       "  stroke: currentColor;\n",
       "  fill: currentColor;\n",
       "}\n",
       "</style><pre class='xr-text-repr-fallback'>&lt;xarray.DataArray &#x27;y&#x27; ()&gt;\n",
       "array(-59.99743285)\n",
       "Coordinates:\n",
       "    y        float64 -60.0</pre><div class='xr-wrap' style='display:none'><div class='xr-header'><div class='xr-obj-type'>xarray.DataArray</div><div class='xr-array-name'>'y'</div></div><ul class='xr-sections'><li class='xr-section-item'><div class='xr-array-wrap'><input id='section-f70828f1-c193-4b57-9403-b6e6484d1533' class='xr-array-in' type='checkbox' checked><label for='section-f70828f1-c193-4b57-9403-b6e6484d1533' title='Show/hide data repr'><svg class='icon xr-icon-database'><use xlink:href='#icon-database'></use></svg></label><div class='xr-array-preview xr-preview'><span>-60.0</span></div><div class='xr-array-data'><pre>array(-59.99743285)</pre></div></div></li><li class='xr-section-item'><input id='section-50305856-3a89-4588-97c0-00ae344b8546' class='xr-section-summary-in' type='checkbox'  checked><label for='section-50305856-3a89-4588-97c0-00ae344b8546' class='xr-section-summary' >Coordinates: <span>(1)</span></label><div class='xr-section-inline-details'></div><div class='xr-section-details'><ul class='xr-var-list'><li class='xr-var-item'><div class='xr-var-name'><span>y</span></div><div class='xr-var-dims'>()</div><div class='xr-var-dtype'>float64</div><div class='xr-var-preview xr-preview'>-60.0</div><input id='attrs-a6a8efe8-e451-4d2b-bc20-10c4a47ae6ec' class='xr-var-attrs-in' type='checkbox' disabled><label for='attrs-a6a8efe8-e451-4d2b-bc20-10c4a47ae6ec' title='Show/Hide attributes'><svg class='icon xr-icon-file-text2'><use xlink:href='#icon-file-text2'></use></svg></label><input id='data-33a636ee-379f-40b3-b690-f932844c14aa' class='xr-var-data-in' type='checkbox'><label for='data-33a636ee-379f-40b3-b690-f932844c14aa' title='Show/Hide data repr'><svg class='icon xr-icon-database'><use xlink:href='#icon-database'></use></svg></label><div class='xr-var-attrs'><dl class='xr-attrs'></dl></div><div class='xr-var-data'><pre>array(-59.99743285)</pre></div></li></ul></div></li><li class='xr-section-item'><input id='section-4b82c0ab-b736-4a90-aaa1-ab8e8c2f6c60' class='xr-section-summary-in' type='checkbox' disabled ><label for='section-4b82c0ab-b736-4a90-aaa1-ab8e8c2f6c60' class='xr-section-summary'  title='Expand/collapse section'>Indexes: <span>(0)</span></label><div class='xr-section-inline-details'></div><div class='xr-section-details'><ul class='xr-var-list'></ul></div></li><li class='xr-section-item'><input id='section-f3a418f1-4f65-4ebd-bba6-594774c27867' class='xr-section-summary-in' type='checkbox' disabled ><label for='section-f3a418f1-4f65-4ebd-bba6-594774c27867' class='xr-section-summary'  title='Expand/collapse section'>Attributes: <span>(0)</span></label><div class='xr-section-inline-details'></div><div class='xr-section-details'><dl class='xr-attrs'></dl></div></li></ul></div></div>"
      ],
      "text/plain": [
       "<xarray.DataArray 'y' ()>\n",
       "array(-59.99743285)\n",
       "Coordinates:\n",
       "    y        float64 -60.0"
      ]
     },
     "execution_count": 40,
     "metadata": {},
     "output_type": "execute_result"
    }
   ],
   "source": [
    "da.coords['y'][-1]"
   ]
  },
  {
   "cell_type": "code",
   "execution_count": 41,
   "id": "78cac955",
   "metadata": {},
   "outputs": [],
   "source": [
    "src = rasterio.open(f's3://{s3_tif_object}')"
   ]
  },
  {
   "cell_type": "code",
   "execution_count": 42,
   "id": "44f79919",
   "metadata": {},
   "outputs": [
    {
     "data": {
      "text/plain": [
       "['__class__',\n",
       " '__delattr__',\n",
       " '__dict__',\n",
       " '__dir__',\n",
       " '__doc__',\n",
       " '__enter__',\n",
       " '__eq__',\n",
       " '__exit__',\n",
       " '__format__',\n",
       " '__ge__',\n",
       " '__getattribute__',\n",
       " '__gt__',\n",
       " '__hash__',\n",
       " '__init__',\n",
       " '__init_subclass__',\n",
       " '__le__',\n",
       " '__lt__',\n",
       " '__module__',\n",
       " '__ne__',\n",
       " '__new__',\n",
       " '__pyx_vtable__',\n",
       " '__reduce__',\n",
       " '__reduce_ex__',\n",
       " '__repr__',\n",
       " '__setattr__',\n",
       " '__setstate__',\n",
       " '__sizeof__',\n",
       " '__str__',\n",
       " '__subclasshook__',\n",
       " '__weakref__',\n",
       " '_block_shapes',\n",
       " '_closed',\n",
       " '_count',\n",
       " '_crs',\n",
       " '_crs_wkt',\n",
       " '_descriptions',\n",
       " '_dtypes',\n",
       " '_env',\n",
       " '_gcps',\n",
       " '_get_crs',\n",
       " '_get_rpcs',\n",
       " '_handle_crswkt',\n",
       " '_has_band',\n",
       " '_has_gcps_or_rpcs',\n",
       " '_mask_flags',\n",
       " '_nodatavals',\n",
       " '_offsets',\n",
       " '_read',\n",
       " '_rpcs',\n",
       " '_scales',\n",
       " '_set_all_descriptions',\n",
       " '_set_all_offsets',\n",
       " '_set_all_scales',\n",
       " '_set_all_units',\n",
       " '_set_attrs_from_dataset_handle',\n",
       " '_set_crs',\n",
       " '_set_gcps',\n",
       " '_set_nodatavals',\n",
       " '_set_rpcs',\n",
       " '_transform',\n",
       " '_units',\n",
       " 'block_shapes',\n",
       " 'block_size',\n",
       " 'block_window',\n",
       " 'block_windows',\n",
       " 'bounds',\n",
       " 'checksum',\n",
       " 'close',\n",
       " 'closed',\n",
       " 'colorinterp',\n",
       " 'colormap',\n",
       " 'compression',\n",
       " 'count',\n",
       " 'crs',\n",
       " 'dataset_mask',\n",
       " 'descriptions',\n",
       " 'driver',\n",
       " 'dtypes',\n",
       " 'files',\n",
       " 'gcps',\n",
       " 'get_gcps',\n",
       " 'get_nodatavals',\n",
       " 'get_tag_item',\n",
       " 'get_transform',\n",
       " 'height',\n",
       " 'index',\n",
       " 'indexes',\n",
       " 'interleaving',\n",
       " 'is_tiled',\n",
       " 'lnglat',\n",
       " 'mask_flag_enums',\n",
       " 'meta',\n",
       " 'mode',\n",
       " 'name',\n",
       " 'nodata',\n",
       " 'nodatavals',\n",
       " 'offsets',\n",
       " 'options',\n",
       " 'overviews',\n",
       " 'photometric',\n",
       " 'profile',\n",
       " 'read',\n",
       " 'read_crs',\n",
       " 'read_masks',\n",
       " 'read_transform',\n",
       " 'res',\n",
       " 'rpcs',\n",
       " 'sample',\n",
       " 'scales',\n",
       " 'shape',\n",
       " 'start',\n",
       " 'statistics',\n",
       " 'stop',\n",
       " 'subdatasets',\n",
       " 'tag_namespaces',\n",
       " 'tags',\n",
       " 'transform',\n",
       " 'units',\n",
       " 'width',\n",
       " 'window',\n",
       " 'window_bounds',\n",
       " 'window_transform',\n",
       " 'write_transform',\n",
       " 'xy']"
      ]
     },
     "execution_count": 42,
     "metadata": {},
     "output_type": "execute_result"
    }
   ],
   "source": [
    "dir(src)"
   ]
  },
  {
   "cell_type": "code",
   "execution_count": 43,
   "id": "438c6729",
   "metadata": {},
   "outputs": [
    {
     "data": {
      "text/plain": [
       "14505"
      ]
     },
     "execution_count": 43,
     "metadata": {},
     "output_type": "execute_result"
    }
   ],
   "source": [
    "src.height"
   ]
  },
  {
   "cell_type": "code",
   "execution_count": 46,
   "id": "f2e5b48e",
   "metadata": {},
   "outputs": [
    {
     "data": {
      "text/plain": [
       "37298"
      ]
     },
     "execution_count": 46,
     "metadata": {},
     "output_type": "execute_result"
    }
   ],
   "source": [
    "src.width"
   ]
  },
  {
   "cell_type": "code",
   "execution_count": 47,
   "id": "dc51b5d7",
   "metadata": {},
   "outputs": [
    {
     "data": {
      "text/plain": [
       "BoundingBox(left=-180.0, bottom=-60.00225884839887, right=180.00029303878534, top=80.0)"
      ]
     },
     "execution_count": 47,
     "metadata": {},
     "output_type": "execute_result"
    }
   ],
   "source": [
    "src.bounds"
   ]
  },
  {
   "cell_type": "code",
   "execution_count": 48,
   "id": "bc951588",
   "metadata": {},
   "outputs": [],
   "source": [
    "src.compression"
   ]
  },
  {
   "cell_type": "code",
   "execution_count": 50,
   "id": "50897191",
   "metadata": {},
   "outputs": [
    {
     "data": {
      "text/plain": [
       "True"
      ]
     },
     "execution_count": 50,
     "metadata": {},
     "output_type": "execute_result"
    }
   ],
   "source": [
    "src.is_tiled"
   ]
  },
  {
   "cell_type": "code",
   "execution_count": 52,
   "id": "62379620",
   "metadata": {},
   "outputs": [
    {
     "data": {
      "text/plain": [
       "Affine(0.00965199992060661, 0.0, -180.0,\n",
       "       0.0, -0.00965199992060661, 80.0)"
      ]
     },
     "execution_count": 52,
     "metadata": {},
     "output_type": "execute_result"
    }
   ],
   "source": [
    "src.transform"
   ]
  },
  {
   "cell_type": "code",
   "execution_count": 53,
   "id": "b77ad036",
   "metadata": {},
   "outputs": [
    {
     "data": {
      "text/plain": [
       "CRS.from_epsg(4326)"
      ]
     },
     "execution_count": 53,
     "metadata": {},
     "output_type": "execute_result"
    }
   ],
   "source": [
    "src.crs"
   ]
  },
  {
   "cell_type": "code",
   "execution_count": 54,
   "id": "ec912956",
   "metadata": {},
   "outputs": [
    {
     "data": {
      "text/plain": [
       "['__bool__',\n",
       " '__class__',\n",
       " '__copy__',\n",
       " '__delattr__',\n",
       " '__dir__',\n",
       " '__doc__',\n",
       " '__eq__',\n",
       " '__format__',\n",
       " '__ge__',\n",
       " '__getattribute__',\n",
       " '__getitem__',\n",
       " '__getstate__',\n",
       " '__gt__',\n",
       " '__hash__',\n",
       " '__init__',\n",
       " '__init_subclass__',\n",
       " '__iter__',\n",
       " '__le__',\n",
       " '__len__',\n",
       " '__lt__',\n",
       " '__ne__',\n",
       " '__new__',\n",
       " '__nonzero__',\n",
       " '__reduce__',\n",
       " '__reduce_cython__',\n",
       " '__reduce_ex__',\n",
       " '__repr__',\n",
       " '__setattr__',\n",
       " '__setstate__',\n",
       " '__setstate_cython__',\n",
       " '__sizeof__',\n",
       " '__str__',\n",
       " '__subclasshook__',\n",
       " '_matches',\n",
       " '_projjson',\n",
       " 'data',\n",
       " 'from_authority',\n",
       " 'from_dict',\n",
       " 'from_epsg',\n",
       " 'from_proj4',\n",
       " 'from_string',\n",
       " 'from_user_input',\n",
       " 'from_wkt',\n",
       " 'get',\n",
       " 'is_epsg_code',\n",
       " 'is_geographic',\n",
       " 'is_projected',\n",
       " 'is_valid',\n",
       " 'items',\n",
       " 'linear_units',\n",
       " 'linear_units_factor',\n",
       " 'to_authority',\n",
       " 'to_dict',\n",
       " 'to_epsg',\n",
       " 'to_proj4',\n",
       " 'to_string',\n",
       " 'to_wkt',\n",
       " 'units_factor',\n",
       " 'wkt']"
      ]
     },
     "execution_count": 54,
     "metadata": {},
     "output_type": "execute_result"
    }
   ],
   "source": [
    "dir(src.crs)"
   ]
  },
  {
   "cell_type": "code",
   "execution_count": null,
   "id": "9cb5fefa",
   "metadata": {},
   "outputs": [],
   "source": []
  }
 ],
 "metadata": {
  "kernelspec": {
   "display_name": "Python 3 (ipykernel)",
   "language": "python",
   "name": "python3"
  },
  "language_info": {
   "codemirror_mode": {
    "name": "ipython",
    "version": 3
   },
   "file_extension": ".py",
   "mimetype": "text/x-python",
   "name": "python",
   "nbconvert_exporter": "python",
   "pygments_lexer": "ipython3",
   "version": "3.10.6"
  }
 },
 "nbformat": 4,
 "nbformat_minor": 5
}
