{
 "cells": [
  {
   "cell_type": "code",
   "execution_count": 1,
   "id": "edf437ef",
   "metadata": {},
   "outputs": [
    {
     "name": "stdout",
     "output_type": "stream",
     "text": [
      "                           PRE 2012/\r\n",
      "                           PRE 2013/\r\n",
      "                           PRE 2014/\r\n",
      "                           PRE 2015/\r\n",
      "                           PRE 2016/\r\n",
      "                           PRE 2017/\r\n",
      "                           PRE 2018/\r\n",
      "                           PRE 2019/\r\n",
      "                           PRE 2020/\r\n",
      "                           PRE 2021/\r\n",
      "2022-08-18 03:39:54          0 \r\n"
     ]
    }
   ],
   "source": [
    "! aws s3 ls ws-in/ssebop/lst/"
   ]
  },
  {
   "cell_type": "code",
   "execution_count": 2,
   "id": "c672bfdd",
   "metadata": {},
   "outputs": [
    {
     "name": "stdout",
     "output_type": "stream",
     "text": [
      "2022-08-22 14:06:57          0 \r\n",
      "2022-08-22 14:13:02 2182363138 2012021.1_km_VIIRS_LST.tif\r\n",
      "2022-08-22 14:19:19 2182363138 2012022.1_km_VIIRS_LST.tif\r\n",
      "2022-08-22 14:25:11 2182363138 2012023.1_km_VIIRS_LST.tif\r\n",
      "2022-08-22 14:30:34 2182363138 2012031.1_km_VIIRS_LST.tif\r\n",
      "2022-08-22 14:36:36 2182363138 2012032.1_km_VIIRS_LST.tif\r\n",
      "2022-08-22 14:42:11 2182363138 2012033.1_km_VIIRS_LST.tif\r\n",
      "2022-08-22 14:47:49 2182363138 2012041.1_km_VIIRS_LST.tif\r\n",
      "2022-08-22 14:54:08 2182363138 2012042.1_km_VIIRS_LST.tif\r\n",
      "2022-08-22 15:00:14 2182363138 2012043.1_km_VIIRS_LST.tif\r\n",
      "2022-08-22 15:06:43 2182363138 2012051.1_km_VIIRS_LST.tif\r\n",
      "2022-08-22 15:12:57 2182363138 2012052.1_km_VIIRS_LST.tif\r\n",
      "2022-08-22 15:18:03 2182363138 2012053.1_km_VIIRS_LST.tif\r\n",
      "2022-08-22 15:23:11 2182363138 2012061.1_km_VIIRS_LST.tif\r\n",
      "2022-08-22 15:28:05 2182363138 2012062.1_km_VIIRS_LST.tif\r\n",
      "2022-08-22 15:33:27 2182363138 2012063.1_km_VIIRS_LST.tif\r\n",
      "2022-08-22 15:38:26 2182363138 2012071.1_km_VIIRS_LST.tif\r\n",
      "2022-08-22 15:44:18 2182363138 2012072.1_km_VIIRS_LST.tif\r\n",
      "2022-08-22 15:49:48 2182363138 2012073.1_km_VIIRS_LST.tif\r\n",
      "2022-08-22 15:55:43 2182363138 2012081.1_km_VIIRS_LST.tif\r\n",
      "2022-08-22 16:00:34 2182363138 2012082.1_km_VIIRS_LST.tif\r\n",
      "2022-08-22 16:06:04 2182363138 2012083.1_km_VIIRS_LST.tif\r\n",
      "2022-08-22 16:11:52 2182363138 2012091.1_km_VIIRS_LST.tif\r\n",
      "2022-08-22 16:17:29 2182363138 2012092.1_km_VIIRS_LST.tif\r\n",
      "2022-08-22 16:22:44 2182363138 2012093.1_km_VIIRS_LST.tif\r\n",
      "2022-08-22 16:28:54 2182363138 2012101.1_km_VIIRS_LST.tif\r\n",
      "2022-08-22 16:34:27 2182363138 2012102.1_km_VIIRS_LST.tif\r\n",
      "2022-08-22 16:40:26 2182363138 2012103.1_km_VIIRS_LST.tif\r\n",
      "2022-08-22 16:46:10 2182363138 2012111.1_km_VIIRS_LST.tif\r\n",
      "2022-08-22 18:07:07 2182363138 2012112.1_km_VIIRS_LST.tif\r\n",
      "2022-08-22 17:07:41 2182363138 2012113.1_km_VIIRS_LST.tif\r\n",
      "2022-08-22 17:23:45 2182363138 2012121.1_km_VIIRS_LST.tif\r\n",
      "2022-08-22 17:38:05 2182363138 2012122.1_km_VIIRS_LST.tif\r\n",
      "2022-08-22 17:52:45 2182363138 2012123.1_km_VIIRS_LST.tif\r\n"
     ]
    }
   ],
   "source": [
    "! aws s3 ls ws-in/ssebop/lst/2012/"
   ]
  },
  {
   "cell_type": "code",
   "execution_count": 3,
   "id": "7bdae8db",
   "metadata": {},
   "outputs": [
    {
     "name": "stdout",
     "output_type": "stream",
     "text": [
      "# conda environments:\n",
      "#\n",
      "base                     /wsefs/miniconda3\n",
      "gabe_1                   /wsefs/miniconda3/envs/gabe_1\n",
      "olena                    /wsefs/miniconda3/envs/olena\n",
      "ssconus1121              /wsefs/miniconda3/envs/ssconus1121\n",
      "ssebop-study          *  /wsefs/miniconda3/envs/ssebop-study\n",
      "tony                     /wsefs/miniconda3/envs/tony\n",
      "tony1                    /wsefs/miniconda3/envs/tony1\n",
      "vegetProd                /wsefs/miniconda3/envs/vegetProd\n",
      "\n",
      "\n",
      "Note: you may need to restart the kernel to use updated packages.\n"
     ]
    }
   ],
   "source": [
    "conda env list"
   ]
  },
  {
   "cell_type": "code",
   "execution_count": 4,
   "id": "7f107b95",
   "metadata": {},
   "outputs": [],
   "source": [
    "#! pip install jupyter-resource-usage"
   ]
  },
  {
   "cell_type": "code",
   "execution_count": 5,
   "id": "cf86daa5",
   "metadata": {},
   "outputs": [],
   "source": [
    "# %%bash\n",
    "# jupyter serverextension enable --py jupyter-resource-usage --sys-prefix\n",
    "# jupyter nbextension install --py jupyter-resource-usage --sys-prefix\n",
    "# jupyter nbextension enable --py jupyter-resource-usage --sys-prefix"
   ]
  },
  {
   "cell_type": "code",
   "execution_count": 6,
   "id": "3e4720dc",
   "metadata": {},
   "outputs": [],
   "source": [
    "import rasterio\n",
    "import xarray as xr"
   ]
  },
  {
   "cell_type": "code",
   "execution_count": 7,
   "id": "9010cabc",
   "metadata": {},
   "outputs": [],
   "source": [
    "mys3path = 'ws-in/ssebop/lst/2012/'\n",
    "tif='2012021.1_km_VIIRS_LST.tif'\n",
    "\n",
    "s3_tif_object=mys3path+tif"
   ]
  },
  {
   "cell_type": "code",
   "execution_count": 8,
   "id": "c0efafa1",
   "metadata": {},
   "outputs": [
    {
     "name": "stderr",
     "output_type": "stream",
     "text": [
      "/tmp/ipykernel_26534/4073233213.py:1: DeprecationWarning: open_rasterio is Deprecated in favor of rioxarray. For information about transitioning, see: https://corteva.github.io/rioxarray/stable/getting_started/getting_started.html\n",
      "  da = xr.open_rasterio(f's3://{s3_tif_object}')\n"
     ]
    }
   ],
   "source": [
    "da = xr.open_rasterio(f's3://{s3_tif_object}')"
   ]
  },
  {
   "cell_type": "code",
   "execution_count": 9,
   "id": "7309adfe",
   "metadata": {},
   "outputs": [
    {
     "data": {
      "text/html": [
       "<div><svg style=\"position: absolute; width: 0; height: 0; overflow: hidden\">\n",
       "<defs>\n",
       "<symbol id=\"icon-database\" viewBox=\"0 0 32 32\">\n",
       "<path d=\"M16 0c-8.837 0-16 2.239-16 5v4c0 2.761 7.163 5 16 5s16-2.239 16-5v-4c0-2.761-7.163-5-16-5z\"></path>\n",
       "<path d=\"M16 17c-8.837 0-16-2.239-16-5v6c0 2.761 7.163 5 16 5s16-2.239 16-5v-6c0 2.761-7.163 5-16 5z\"></path>\n",
       "<path d=\"M16 26c-8.837 0-16-2.239-16-5v6c0 2.761 7.163 5 16 5s16-2.239 16-5v-6c0 2.761-7.163 5-16 5z\"></path>\n",
       "</symbol>\n",
       "<symbol id=\"icon-file-text2\" viewBox=\"0 0 32 32\">\n",
       "<path d=\"M28.681 7.159c-0.694-0.947-1.662-2.053-2.724-3.116s-2.169-2.030-3.116-2.724c-1.612-1.182-2.393-1.319-2.841-1.319h-15.5c-1.378 0-2.5 1.121-2.5 2.5v27c0 1.378 1.122 2.5 2.5 2.5h23c1.378 0 2.5-1.122 2.5-2.5v-19.5c0-0.448-0.137-1.23-1.319-2.841zM24.543 5.457c0.959 0.959 1.712 1.825 2.268 2.543h-4.811v-4.811c0.718 0.556 1.584 1.309 2.543 2.268zM28 29.5c0 0.271-0.229 0.5-0.5 0.5h-23c-0.271 0-0.5-0.229-0.5-0.5v-27c0-0.271 0.229-0.5 0.5-0.5 0 0 15.499-0 15.5 0v7c0 0.552 0.448 1 1 1h7v19.5z\"></path>\n",
       "<path d=\"M23 26h-14c-0.552 0-1-0.448-1-1s0.448-1 1-1h14c0.552 0 1 0.448 1 1s-0.448 1-1 1z\"></path>\n",
       "<path d=\"M23 22h-14c-0.552 0-1-0.448-1-1s0.448-1 1-1h14c0.552 0 1 0.448 1 1s-0.448 1-1 1z\"></path>\n",
       "<path d=\"M23 18h-14c-0.552 0-1-0.448-1-1s0.448-1 1-1h14c0.552 0 1 0.448 1 1s-0.448 1-1 1z\"></path>\n",
       "</symbol>\n",
       "</defs>\n",
       "</svg>\n",
       "<style>/* CSS stylesheet for displaying xarray objects in jupyterlab.\n",
       " *\n",
       " */\n",
       "\n",
       ":root {\n",
       "  --xr-font-color0: var(--jp-content-font-color0, rgba(0, 0, 0, 1));\n",
       "  --xr-font-color2: var(--jp-content-font-color2, rgba(0, 0, 0, 0.54));\n",
       "  --xr-font-color3: var(--jp-content-font-color3, rgba(0, 0, 0, 0.38));\n",
       "  --xr-border-color: var(--jp-border-color2, #e0e0e0);\n",
       "  --xr-disabled-color: var(--jp-layout-color3, #bdbdbd);\n",
       "  --xr-background-color: var(--jp-layout-color0, white);\n",
       "  --xr-background-color-row-even: var(--jp-layout-color1, white);\n",
       "  --xr-background-color-row-odd: var(--jp-layout-color2, #eeeeee);\n",
       "}\n",
       "\n",
       "html[theme=dark],\n",
       "body[data-theme=dark],\n",
       "body.vscode-dark {\n",
       "  --xr-font-color0: rgba(255, 255, 255, 1);\n",
       "  --xr-font-color2: rgba(255, 255, 255, 0.54);\n",
       "  --xr-font-color3: rgba(255, 255, 255, 0.38);\n",
       "  --xr-border-color: #1F1F1F;\n",
       "  --xr-disabled-color: #515151;\n",
       "  --xr-background-color: #111111;\n",
       "  --xr-background-color-row-even: #111111;\n",
       "  --xr-background-color-row-odd: #313131;\n",
       "}\n",
       "\n",
       ".xr-wrap {\n",
       "  display: block !important;\n",
       "  min-width: 300px;\n",
       "  max-width: 700px;\n",
       "}\n",
       "\n",
       ".xr-text-repr-fallback {\n",
       "  /* fallback to plain text repr when CSS is not injected (untrusted notebook) */\n",
       "  display: none;\n",
       "}\n",
       "\n",
       ".xr-header {\n",
       "  padding-top: 6px;\n",
       "  padding-bottom: 6px;\n",
       "  margin-bottom: 4px;\n",
       "  border-bottom: solid 1px var(--xr-border-color);\n",
       "}\n",
       "\n",
       ".xr-header > div,\n",
       ".xr-header > ul {\n",
       "  display: inline;\n",
       "  margin-top: 0;\n",
       "  margin-bottom: 0;\n",
       "}\n",
       "\n",
       ".xr-obj-type,\n",
       ".xr-array-name {\n",
       "  margin-left: 2px;\n",
       "  margin-right: 10px;\n",
       "}\n",
       "\n",
       ".xr-obj-type {\n",
       "  color: var(--xr-font-color2);\n",
       "}\n",
       "\n",
       ".xr-sections {\n",
       "  padding-left: 0 !important;\n",
       "  display: grid;\n",
       "  grid-template-columns: 150px auto auto 1fr 20px 20px;\n",
       "}\n",
       "\n",
       ".xr-section-item {\n",
       "  display: contents;\n",
       "}\n",
       "\n",
       ".xr-section-item input {\n",
       "  display: none;\n",
       "}\n",
       "\n",
       ".xr-section-item input + label {\n",
       "  color: var(--xr-disabled-color);\n",
       "}\n",
       "\n",
       ".xr-section-item input:enabled + label {\n",
       "  cursor: pointer;\n",
       "  color: var(--xr-font-color2);\n",
       "}\n",
       "\n",
       ".xr-section-item input:enabled + label:hover {\n",
       "  color: var(--xr-font-color0);\n",
       "}\n",
       "\n",
       ".xr-section-summary {\n",
       "  grid-column: 1;\n",
       "  color: var(--xr-font-color2);\n",
       "  font-weight: 500;\n",
       "}\n",
       "\n",
       ".xr-section-summary > span {\n",
       "  display: inline-block;\n",
       "  padding-left: 0.5em;\n",
       "}\n",
       "\n",
       ".xr-section-summary-in:disabled + label {\n",
       "  color: var(--xr-font-color2);\n",
       "}\n",
       "\n",
       ".xr-section-summary-in + label:before {\n",
       "  display: inline-block;\n",
       "  content: '►';\n",
       "  font-size: 11px;\n",
       "  width: 15px;\n",
       "  text-align: center;\n",
       "}\n",
       "\n",
       ".xr-section-summary-in:disabled + label:before {\n",
       "  color: var(--xr-disabled-color);\n",
       "}\n",
       "\n",
       ".xr-section-summary-in:checked + label:before {\n",
       "  content: '▼';\n",
       "}\n",
       "\n",
       ".xr-section-summary-in:checked + label > span {\n",
       "  display: none;\n",
       "}\n",
       "\n",
       ".xr-section-summary,\n",
       ".xr-section-inline-details {\n",
       "  padding-top: 4px;\n",
       "  padding-bottom: 4px;\n",
       "}\n",
       "\n",
       ".xr-section-inline-details {\n",
       "  grid-column: 2 / -1;\n",
       "}\n",
       "\n",
       ".xr-section-details {\n",
       "  display: none;\n",
       "  grid-column: 1 / -1;\n",
       "  margin-bottom: 5px;\n",
       "}\n",
       "\n",
       ".xr-section-summary-in:checked ~ .xr-section-details {\n",
       "  display: contents;\n",
       "}\n",
       "\n",
       ".xr-array-wrap {\n",
       "  grid-column: 1 / -1;\n",
       "  display: grid;\n",
       "  grid-template-columns: 20px auto;\n",
       "}\n",
       "\n",
       ".xr-array-wrap > label {\n",
       "  grid-column: 1;\n",
       "  vertical-align: top;\n",
       "}\n",
       "\n",
       ".xr-preview {\n",
       "  color: var(--xr-font-color3);\n",
       "}\n",
       "\n",
       ".xr-array-preview,\n",
       ".xr-array-data {\n",
       "  padding: 0 5px !important;\n",
       "  grid-column: 2;\n",
       "}\n",
       "\n",
       ".xr-array-data,\n",
       ".xr-array-in:checked ~ .xr-array-preview {\n",
       "  display: none;\n",
       "}\n",
       "\n",
       ".xr-array-in:checked ~ .xr-array-data,\n",
       ".xr-array-preview {\n",
       "  display: inline-block;\n",
       "}\n",
       "\n",
       ".xr-dim-list {\n",
       "  display: inline-block !important;\n",
       "  list-style: none;\n",
       "  padding: 0 !important;\n",
       "  margin: 0;\n",
       "}\n",
       "\n",
       ".xr-dim-list li {\n",
       "  display: inline-block;\n",
       "  padding: 0;\n",
       "  margin: 0;\n",
       "}\n",
       "\n",
       ".xr-dim-list:before {\n",
       "  content: '(';\n",
       "}\n",
       "\n",
       ".xr-dim-list:after {\n",
       "  content: ')';\n",
       "}\n",
       "\n",
       ".xr-dim-list li:not(:last-child):after {\n",
       "  content: ',';\n",
       "  padding-right: 5px;\n",
       "}\n",
       "\n",
       ".xr-has-index {\n",
       "  font-weight: bold;\n",
       "}\n",
       "\n",
       ".xr-var-list,\n",
       ".xr-var-item {\n",
       "  display: contents;\n",
       "}\n",
       "\n",
       ".xr-var-item > div,\n",
       ".xr-var-item label,\n",
       ".xr-var-item > .xr-var-name span {\n",
       "  background-color: var(--xr-background-color-row-even);\n",
       "  margin-bottom: 0;\n",
       "}\n",
       "\n",
       ".xr-var-item > .xr-var-name:hover span {\n",
       "  padding-right: 5px;\n",
       "}\n",
       "\n",
       ".xr-var-list > li:nth-child(odd) > div,\n",
       ".xr-var-list > li:nth-child(odd) > label,\n",
       ".xr-var-list > li:nth-child(odd) > .xr-var-name span {\n",
       "  background-color: var(--xr-background-color-row-odd);\n",
       "}\n",
       "\n",
       ".xr-var-name {\n",
       "  grid-column: 1;\n",
       "}\n",
       "\n",
       ".xr-var-dims {\n",
       "  grid-column: 2;\n",
       "}\n",
       "\n",
       ".xr-var-dtype {\n",
       "  grid-column: 3;\n",
       "  text-align: right;\n",
       "  color: var(--xr-font-color2);\n",
       "}\n",
       "\n",
       ".xr-var-preview {\n",
       "  grid-column: 4;\n",
       "}\n",
       "\n",
       ".xr-index-preview {\n",
       "  grid-column: 2 / 5;\n",
       "  color: var(--xr-font-color2);\n",
       "}\n",
       "\n",
       ".xr-var-name,\n",
       ".xr-var-dims,\n",
       ".xr-var-dtype,\n",
       ".xr-preview,\n",
       ".xr-attrs dt {\n",
       "  white-space: nowrap;\n",
       "  overflow: hidden;\n",
       "  text-overflow: ellipsis;\n",
       "  padding-right: 10px;\n",
       "}\n",
       "\n",
       ".xr-var-name:hover,\n",
       ".xr-var-dims:hover,\n",
       ".xr-var-dtype:hover,\n",
       ".xr-attrs dt:hover {\n",
       "  overflow: visible;\n",
       "  width: auto;\n",
       "  z-index: 1;\n",
       "}\n",
       "\n",
       ".xr-var-attrs,\n",
       ".xr-var-data,\n",
       ".xr-index-data {\n",
       "  display: none;\n",
       "  background-color: var(--xr-background-color) !important;\n",
       "  padding-bottom: 5px !important;\n",
       "}\n",
       "\n",
       ".xr-var-attrs-in:checked ~ .xr-var-attrs,\n",
       ".xr-var-data-in:checked ~ .xr-var-data,\n",
       ".xr-index-data-in:checked ~ .xr-index-data {\n",
       "  display: block;\n",
       "}\n",
       "\n",
       ".xr-var-data > table {\n",
       "  float: right;\n",
       "}\n",
       "\n",
       ".xr-var-name span,\n",
       ".xr-var-data,\n",
       ".xr-index-name div,\n",
       ".xr-index-data,\n",
       ".xr-attrs {\n",
       "  padding-left: 25px !important;\n",
       "}\n",
       "\n",
       ".xr-attrs,\n",
       ".xr-var-attrs,\n",
       ".xr-var-data,\n",
       ".xr-index-data {\n",
       "  grid-column: 1 / -1;\n",
       "}\n",
       "\n",
       "dl.xr-attrs {\n",
       "  padding: 0;\n",
       "  margin: 0;\n",
       "  display: grid;\n",
       "  grid-template-columns: 125px auto;\n",
       "}\n",
       "\n",
       ".xr-attrs dt,\n",
       ".xr-attrs dd {\n",
       "  padding: 0;\n",
       "  margin: 0;\n",
       "  float: left;\n",
       "  padding-right: 10px;\n",
       "  width: auto;\n",
       "}\n",
       "\n",
       ".xr-attrs dt {\n",
       "  font-weight: normal;\n",
       "  grid-column: 1;\n",
       "}\n",
       "\n",
       ".xr-attrs dt:hover span {\n",
       "  display: inline-block;\n",
       "  background: var(--xr-background-color);\n",
       "  padding-right: 10px;\n",
       "}\n",
       "\n",
       ".xr-attrs dd {\n",
       "  grid-column: 2;\n",
       "  white-space: pre-wrap;\n",
       "  word-break: break-all;\n",
       "}\n",
       "\n",
       ".xr-icon-database,\n",
       ".xr-icon-file-text2,\n",
       ".xr-no-icon {\n",
       "  display: inline-block;\n",
       "  vertical-align: middle;\n",
       "  width: 1em;\n",
       "  height: 1.5em !important;\n",
       "  stroke-width: 0;\n",
       "  stroke: currentColor;\n",
       "  fill: currentColor;\n",
       "}\n",
       "</style><pre class='xr-text-repr-fallback'>&lt;xarray.DataArray (band: 1, y: 14505, x: 37298)&gt;\n",
       "[541007490 values with dtype=float32]\n",
       "Coordinates:\n",
       "  * band     (band) int64 1\n",
       "  * y        (y) float64 80.0 79.99 79.98 79.97 ... -59.97 -59.98 -59.99 -60.0\n",
       "  * x        (x) float64 -180.0 -180.0 -180.0 -180.0 ... 180.0 180.0 180.0 180.0\n",
       "Attributes:\n",
       "    transform:      (0.00965199992060661, 0.0, -180.0, 0.0, -0.00965199992060...\n",
       "    crs:            +init=epsg:4326\n",
       "    res:            (0.00965199992060661, 0.00965199992060661)\n",
       "    is_tiled:       1\n",
       "    nodatavals:     (-3.4028234663852886e+38,)\n",
       "    scales:         (1.0,)\n",
       "    offsets:        (0.0,)\n",
       "    AREA_OR_POINT:  Area</pre><div class='xr-wrap' style='display:none'><div class='xr-header'><div class='xr-obj-type'>xarray.DataArray</div><div class='xr-array-name'></div><ul class='xr-dim-list'><li><span class='xr-has-index'>band</span>: 1</li><li><span class='xr-has-index'>y</span>: 14505</li><li><span class='xr-has-index'>x</span>: 37298</li></ul></div><ul class='xr-sections'><li class='xr-section-item'><div class='xr-array-wrap'><input id='section-c2eee26b-be6b-4520-86e1-c58cef453dad' class='xr-array-in' type='checkbox' checked><label for='section-c2eee26b-be6b-4520-86e1-c58cef453dad' title='Show/hide data repr'><svg class='icon xr-icon-database'><use xlink:href='#icon-database'></use></svg></label><div class='xr-array-preview xr-preview'><span>...</span></div><div class='xr-array-data'><pre>[541007490 values with dtype=float32]</pre></div></div></li><li class='xr-section-item'><input id='section-fd6b58da-2605-4a36-a5ab-d0cae6cb6990' class='xr-section-summary-in' type='checkbox'  checked><label for='section-fd6b58da-2605-4a36-a5ab-d0cae6cb6990' class='xr-section-summary' >Coordinates: <span>(3)</span></label><div class='xr-section-inline-details'></div><div class='xr-section-details'><ul class='xr-var-list'><li class='xr-var-item'><div class='xr-var-name'><span class='xr-has-index'>band</span></div><div class='xr-var-dims'>(band)</div><div class='xr-var-dtype'>int64</div><div class='xr-var-preview xr-preview'>1</div><input id='attrs-96ad7d0e-91fd-45f8-8aef-b9e330c751c0' class='xr-var-attrs-in' type='checkbox' disabled><label for='attrs-96ad7d0e-91fd-45f8-8aef-b9e330c751c0' title='Show/Hide attributes'><svg class='icon xr-icon-file-text2'><use xlink:href='#icon-file-text2'></use></svg></label><input id='data-8ec5bd8d-9af7-4b39-af4a-8e681c57adb4' class='xr-var-data-in' type='checkbox'><label for='data-8ec5bd8d-9af7-4b39-af4a-8e681c57adb4' title='Show/Hide data repr'><svg class='icon xr-icon-database'><use xlink:href='#icon-database'></use></svg></label><div class='xr-var-attrs'><dl class='xr-attrs'></dl></div><div class='xr-var-data'><pre>array([1])</pre></div></li><li class='xr-var-item'><div class='xr-var-name'><span class='xr-has-index'>y</span></div><div class='xr-var-dims'>(y)</div><div class='xr-var-dtype'>float64</div><div class='xr-var-preview xr-preview'>80.0 79.99 79.98 ... -59.99 -60.0</div><input id='attrs-46e1081c-c132-4930-aa95-bdb2476be425' class='xr-var-attrs-in' type='checkbox' disabled><label for='attrs-46e1081c-c132-4930-aa95-bdb2476be425' title='Show/Hide attributes'><svg class='icon xr-icon-file-text2'><use xlink:href='#icon-file-text2'></use></svg></label><input id='data-3d19cfe8-6380-45d9-abcd-6db1b2584f8e' class='xr-var-data-in' type='checkbox'><label for='data-3d19cfe8-6380-45d9-abcd-6db1b2584f8e' title='Show/Hide data repr'><svg class='icon xr-icon-database'><use xlink:href='#icon-database'></use></svg></label><div class='xr-var-attrs'><dl class='xr-attrs'></dl></div><div class='xr-var-data'><pre>array([ 79.995174,  79.985522,  79.97587 , ..., -59.978129, -59.987781,\n",
       "       -59.997433])</pre></div></li><li class='xr-var-item'><div class='xr-var-name'><span class='xr-has-index'>x</span></div><div class='xr-var-dims'>(x)</div><div class='xr-var-dtype'>float64</div><div class='xr-var-preview xr-preview'>-180.0 -180.0 ... 180.0 180.0</div><input id='attrs-1b9b1cc2-200e-47e3-9a65-4953d901b18c' class='xr-var-attrs-in' type='checkbox' disabled><label for='attrs-1b9b1cc2-200e-47e3-9a65-4953d901b18c' title='Show/Hide attributes'><svg class='icon xr-icon-file-text2'><use xlink:href='#icon-file-text2'></use></svg></label><input id='data-3c5040d5-f1fe-4321-a9e1-1f5d1cc037fa' class='xr-var-data-in' type='checkbox'><label for='data-3c5040d5-f1fe-4321-a9e1-1f5d1cc037fa' title='Show/Hide data repr'><svg class='icon xr-icon-database'><use xlink:href='#icon-database'></use></svg></label><div class='xr-var-attrs'><dl class='xr-attrs'></dl></div><div class='xr-var-data'><pre>array([-179.995174, -179.985522, -179.97587 , ...,  179.976163,  179.985815,\n",
       "        179.995467])</pre></div></li></ul></div></li><li class='xr-section-item'><input id='section-8d89b705-9bdb-4bcc-b0e6-0cac9fb62c1f' class='xr-section-summary-in' type='checkbox'  ><label for='section-8d89b705-9bdb-4bcc-b0e6-0cac9fb62c1f' class='xr-section-summary' >Indexes: <span>(3)</span></label><div class='xr-section-inline-details'></div><div class='xr-section-details'><ul class='xr-var-list'><li class='xr-var-item'><div class='xr-index-name'><div>band</div></div><div class='xr-index-preview'>PandasIndex</div><div></div><input id='index-bfca4c33-7964-4193-b2fc-ed6fad6ca408' class='xr-index-data-in' type='checkbox'/><label for='index-bfca4c33-7964-4193-b2fc-ed6fad6ca408' title='Show/Hide index repr'><svg class='icon xr-icon-database'><use xlink:href='#icon-database'></use></svg></label><div class='xr-index-data'><pre>PandasIndex(Int64Index([1], dtype=&#x27;int64&#x27;, name=&#x27;band&#x27;))</pre></div></li><li class='xr-var-item'><div class='xr-index-name'><div>y</div></div><div class='xr-index-preview'>PandasIndex</div><div></div><input id='index-e5b4a5ec-e094-4a58-a66c-8910331ff061' class='xr-index-data-in' type='checkbox'/><label for='index-e5b4a5ec-e094-4a58-a66c-8910331ff061' title='Show/Hide index repr'><svg class='icon xr-icon-database'><use xlink:href='#icon-database'></use></svg></label><div class='xr-index-data'><pre>PandasIndex(Float64Index([   79.9951740000397,   79.98552200011909,   79.97587000019848,\n",
       "                79.96621800027788,   79.95656600035727,   79.94691400043666,\n",
       "                79.93726200051606,   79.92761000059545,   79.91795800067484,\n",
       "                79.90830600075424,\n",
       "              ...\n",
       "              -59.910564849153104,  -59.92021684907371,  -59.92986884899432,\n",
       "              -59.939520848914924,  -59.94917284883553,  -59.95882484875614,\n",
       "              -59.968476848676744,  -59.97812884859735,  -59.98778084851796,\n",
       "              -59.997432848438564],\n",
       "             dtype=&#x27;float64&#x27;, name=&#x27;y&#x27;, length=14505))</pre></div></li><li class='xr-var-item'><div class='xr-index-name'><div>x</div></div><div class='xr-index-preview'>PandasIndex</div><div></div><input id='index-a7c5c875-a1e3-4d99-ad59-eab639f0adeb' class='xr-index-data-in' type='checkbox'/><label for='index-a7c5c875-a1e3-4d99-ad59-eab639f0adeb' title='Show/Hide index repr'><svg class='icon xr-icon-database'><use xlink:href='#icon-database'></use></svg></label><div class='xr-index-data'><pre>PandasIndex(Float64Index([ -179.9951740000397,  -179.9855220001191, -179.97587000019848,\n",
       "              -179.96621800027788, -179.95656600035727, -179.94691400043666,\n",
       "              -179.93726200051606, -179.92761000059545, -179.91795800067484,\n",
       "              -179.90830600075424,\n",
       "              ...\n",
       "               179.90859903953958,   179.9182510394602,   179.9279030393808,\n",
       "                179.9375550393014,    179.947207039222,   179.9568590391426,\n",
       "               179.96651103906322,  179.97616303898383,  179.98581503890443,\n",
       "               179.99546703882504],\n",
       "             dtype=&#x27;float64&#x27;, name=&#x27;x&#x27;, length=37298))</pre></div></li></ul></div></li><li class='xr-section-item'><input id='section-7e5085ea-c9ae-4580-9460-d34479121d43' class='xr-section-summary-in' type='checkbox'  checked><label for='section-7e5085ea-c9ae-4580-9460-d34479121d43' class='xr-section-summary' >Attributes: <span>(8)</span></label><div class='xr-section-inline-details'></div><div class='xr-section-details'><dl class='xr-attrs'><dt><span>transform :</span></dt><dd>(0.00965199992060661, 0.0, -180.0, 0.0, -0.00965199992060661, 80.0)</dd><dt><span>crs :</span></dt><dd>+init=epsg:4326</dd><dt><span>res :</span></dt><dd>(0.00965199992060661, 0.00965199992060661)</dd><dt><span>is_tiled :</span></dt><dd>1</dd><dt><span>nodatavals :</span></dt><dd>(-3.4028234663852886e+38,)</dd><dt><span>scales :</span></dt><dd>(1.0,)</dd><dt><span>offsets :</span></dt><dd>(0.0,)</dd><dt><span>AREA_OR_POINT :</span></dt><dd>Area</dd></dl></div></li></ul></div></div>"
      ],
      "text/plain": [
       "<xarray.DataArray (band: 1, y: 14505, x: 37298)>\n",
       "[541007490 values with dtype=float32]\n",
       "Coordinates:\n",
       "  * band     (band) int64 1\n",
       "  * y        (y) float64 80.0 79.99 79.98 79.97 ... -59.97 -59.98 -59.99 -60.0\n",
       "  * x        (x) float64 -180.0 -180.0 -180.0 -180.0 ... 180.0 180.0 180.0 180.0\n",
       "Attributes:\n",
       "    transform:      (0.00965199992060661, 0.0, -180.0, 0.0, -0.00965199992060...\n",
       "    crs:            +init=epsg:4326\n",
       "    res:            (0.00965199992060661, 0.00965199992060661)\n",
       "    is_tiled:       1\n",
       "    nodatavals:     (-3.4028234663852886e+38,)\n",
       "    scales:         (1.0,)\n",
       "    offsets:        (0.0,)\n",
       "    AREA_OR_POINT:  Area"
      ]
     },
     "execution_count": 9,
     "metadata": {},
     "output_type": "execute_result"
    }
   ],
   "source": [
    "da"
   ]
  },
  {
   "cell_type": "code",
   "execution_count": 10,
   "id": "563f5a08",
   "metadata": {},
   "outputs": [
    {
     "data": {
      "text/plain": [
       "96"
      ]
     },
     "execution_count": 10,
     "metadata": {},
     "output_type": "execute_result"
    }
   ],
   "source": [
    "import sys\n",
    "sys.getsizeof(da)"
   ]
  },
  {
   "cell_type": "code",
   "execution_count": 11,
   "id": "83468fbd",
   "metadata": {},
   "outputs": [
    {
     "data": {
      "text/plain": [
       "64"
      ]
     },
     "execution_count": 11,
     "metadata": {},
     "output_type": "execute_result"
    }
   ],
   "source": [
    "sys.getsizeof(da.copy)"
   ]
  },
  {
   "cell_type": "code",
   "execution_count": 12,
   "id": "a0f9b3bf",
   "metadata": {},
   "outputs": [
    {
     "data": {
      "text/plain": [
       "8"
      ]
     },
     "execution_count": 12,
     "metadata": {},
     "output_type": "execute_result"
    }
   ],
   "source": [
    "da.band.nbytes"
   ]
  },
  {
   "cell_type": "code",
   "execution_count": 13,
   "id": "bfd05539",
   "metadata": {},
   "outputs": [],
   "source": [
    "# da.nbytes - dont do this"
   ]
  },
  {
   "cell_type": "code",
   "execution_count": 14,
   "id": "ac0016d1",
   "metadata": {},
   "outputs": [
    {
     "data": {
      "text/plain": [
       "(1, 14505, 37298)"
      ]
     },
     "execution_count": 14,
     "metadata": {},
     "output_type": "execute_result"
    }
   ],
   "source": [
    "da.shape"
   ]
  },
  {
   "cell_type": "code",
   "execution_count": 15,
   "id": "581c6975",
   "metadata": {},
   "outputs": [
    {
     "data": {
      "text/plain": [
       "4.32805992"
      ]
     },
     "execution_count": 15,
     "metadata": {},
     "output_type": "execute_result"
    }
   ],
   "source": [
    "da.shape[0] * da.shape[1] * da.shape[2] * 8/ 1e9"
   ]
  },
  {
   "cell_type": "code",
   "execution_count": 16,
   "id": "d30e53b9",
   "metadata": {},
   "outputs": [
    {
     "data": {
      "text/plain": [
       "4.32805992"
      ]
     },
     "execution_count": 16,
     "metadata": {},
     "output_type": "execute_result"
    }
   ],
   "source": [
    "14505 * 37298 * 8 / 1e9"
   ]
  },
  {
   "cell_type": "code",
   "execution_count": 17,
   "id": "63d8e055",
   "metadata": {},
   "outputs": [],
   "source": [
    "# da.values.nbytes - dont do this either"
   ]
  },
  {
   "cell_type": "code",
   "execution_count": 18,
   "id": "fd85152a",
   "metadata": {},
   "outputs": [],
   "source": [
    "a = da.values"
   ]
  },
  {
   "cell_type": "code",
   "execution_count": 19,
   "id": "b132fe08",
   "metadata": {},
   "outputs": [
    {
     "data": {
      "text/plain": [
       "(1, 14505, 37298)"
      ]
     },
     "execution_count": 19,
     "metadata": {},
     "output_type": "execute_result"
    }
   ],
   "source": [
    "a.shape"
   ]
  },
  {
   "cell_type": "code",
   "execution_count": 24,
   "id": "955aec2e",
   "metadata": {},
   "outputs": [
    {
     "data": {
      "text/plain": [
       "80.6081"
      ]
     },
     "execution_count": 24,
     "metadata": {},
     "output_type": "execute_result"
    }
   ],
   "source": [
    "a.mean()"
   ]
  },
  {
   "cell_type": "code",
   "execution_count": 25,
   "id": "1e779280",
   "metadata": {},
   "outputs": [
    {
     "data": {
      "text/plain": [
       "599.45996"
      ]
     },
     "execution_count": 25,
     "metadata": {},
     "output_type": "execute_result"
    }
   ],
   "source": [
    "a.max()"
   ]
  },
  {
   "cell_type": "code",
   "execution_count": 27,
   "id": "8b3dc1d9",
   "metadata": {},
   "outputs": [
    {
     "data": {
      "text/plain": [
       "0.0"
      ]
     },
     "execution_count": 27,
     "metadata": {},
     "output_type": "execute_result"
    }
   ],
   "source": [
    "a.min()"
   ]
  },
  {
   "cell_type": "code",
   "execution_count": 28,
   "id": "713b024c",
   "metadata": {},
   "outputs": [
    {
     "data": {
      "text/plain": [
       "2164029960"
      ]
     },
     "execution_count": 28,
     "metadata": {},
     "output_type": "execute_result"
    }
   ],
   "source": [
    "a.nbytes"
   ]
  },
  {
   "cell_type": "code",
   "execution_count": 29,
   "id": "14ee930d",
   "metadata": {},
   "outputs": [
    {
     "data": {
      "text/plain": [
       "2.16402996"
      ]
     },
     "execution_count": 29,
     "metadata": {},
     "output_type": "execute_result"
    }
   ],
   "source": [
    "a.nbytes / 1e9"
   ]
  },
  {
   "cell_type": "code",
   "execution_count": 30,
   "id": "b1f1c6a5",
   "metadata": {},
   "outputs": [
    {
     "data": {
      "text/plain": [
       "dtype('float32')"
      ]
     },
     "execution_count": 30,
     "metadata": {},
     "output_type": "execute_result"
    }
   ],
   "source": [
    "a.dtype"
   ]
  },
  {
   "cell_type": "code",
   "execution_count": null,
   "id": "31fbbf1a",
   "metadata": {},
   "outputs": [],
   "source": []
  }
 ],
 "metadata": {
  "kernelspec": {
   "display_name": "Python 3 (ipykernel)",
   "language": "python",
   "name": "python3"
  },
  "language_info": {
   "codemirror_mode": {
    "name": "ipython",
    "version": 3
   },
   "file_extension": ".py",
   "mimetype": "text/x-python",
   "name": "python",
   "nbconvert_exporter": "python",
   "pygments_lexer": "ipython3",
   "version": "3.10.6"
  }
 },
 "nbformat": 4,
 "nbformat_minor": 5
}
