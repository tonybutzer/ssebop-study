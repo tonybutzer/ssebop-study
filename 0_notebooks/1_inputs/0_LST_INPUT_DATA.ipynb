{
 "cells": [
  {
   "cell_type": "code",
   "execution_count": 1,
   "id": "edf437ef",
   "metadata": {},
   "outputs": [
    {
     "name": "stdout",
     "output_type": "stream",
     "text": [
      "                           PRE 2012/\r\n",
      "                           PRE 2013/\r\n",
      "                           PRE 2014/\r\n",
      "                           PRE 2015/\r\n",
      "                           PRE 2016/\r\n",
      "                           PRE 2017/\r\n",
      "                           PRE 2018/\r\n",
      "                           PRE 2019/\r\n",
      "                           PRE 2020/\r\n",
      "                           PRE 2021/\r\n",
      "2022-08-18 03:39:54          0 \r\n"
     ]
    }
   ],
   "source": [
    "! aws s3 ls ws-in/ssebop/lst/"
   ]
  },
  {
   "cell_type": "code",
   "execution_count": 2,
   "id": "c672bfdd",
   "metadata": {},
   "outputs": [
    {
     "name": "stdout",
     "output_type": "stream",
     "text": [
      "2022-08-22 14:06:57          0 \n",
      "2022-08-22 14:13:02 2182363138 2012021.1_km_VIIRS_LST.tif\n",
      "2022-08-22 14:19:19 2182363138 2012022.1_km_VIIRS_LST.tif\n",
      "2022-08-22 14:25:11 2182363138 2012023.1_km_VIIRS_LST.tif\n",
      "2022-08-22 14:30:34 2182363138 2012031.1_km_VIIRS_LST.tif\n",
      "2022-08-22 14:36:36 2182363138 2012032.1_km_VIIRS_LST.tif\n",
      "2022-08-22 14:42:11 2182363138 2012033.1_km_VIIRS_LST.tif\n",
      "2022-08-22 14:47:49 2182363138 2012041.1_km_VIIRS_LST.tif\n",
      "2022-08-22 14:54:08 2182363138 2012042.1_km_VIIRS_LST.tif\n",
      "2022-08-22 15:00:14 2182363138 2012043.1_km_VIIRS_LST.tif\n",
      "2022-08-22 15:06:43 2182363138 2012051.1_km_VIIRS_LST.tif\n",
      "2022-08-22 15:12:57 2182363138 2012052.1_km_VIIRS_LST.tif\n",
      "2022-08-22 15:18:03 2182363138 2012053.1_km_VIIRS_LST.tif\n",
      "2022-08-22 15:23:11 2182363138 2012061.1_km_VIIRS_LST.tif\n",
      "2022-08-22 15:28:05 2182363138 2012062.1_km_VIIRS_LST.tif\n",
      "2022-08-22 15:33:27 2182363138 2012063.1_km_VIIRS_LST.tif\n",
      "2022-08-22 15:38:26 2182363138 2012071.1_km_VIIRS_LST.tif\n",
      "2022-08-22 15:44:18 2182363138 2012072.1_km_VIIRS_LST.tif\n",
      "2022-08-22 15:49:48 2182363138 2012073.1_km_VIIRS_LST.tif\n",
      "2022-08-22 15:55:43 2182363138 2012081.1_km_VIIRS_LST.tif\n",
      "2022-08-22 16:00:34 2182363138 2012082.1_km_VIIRS_LST.tif\n",
      "2022-08-22 16:06:04 2182363138 2012083.1_km_VIIRS_LST.tif\n",
      "2022-08-22 16:11:52 2182363138 2012091.1_km_VIIRS_LST.tif\n",
      "2022-08-22 16:17:29 2182363138 2012092.1_km_VIIRS_LST.tif\n",
      "2022-08-22 16:22:44 2182363138 2012093.1_km_VIIRS_LST.tif\n",
      "2022-08-22 16:28:54 2182363138 2012101.1_km_VIIRS_LST.tif\n",
      "2022-08-22 16:34:27 2182363138 2012102.1_km_VIIRS_LST.tif\n",
      "2022-08-22 16:40:26 2182363138 2012103.1_km_VIIRS_LST.tif\n",
      "2022-08-22 16:46:10 2182363138 2012111.1_km_VIIRS_LST.tif\n",
      "2022-08-22 18:07:07 2182363138 2012112.1_km_VIIRS_LST.tif\n",
      "2022-08-22 17:07:41 2182363138 2012113.1_km_VIIRS_LST.tif\n",
      "2022-08-22 17:23:45 2182363138 2012121.1_km_VIIRS_LST.tif\n",
      "2022-08-22 17:38:05 2182363138 2012122.1_km_VIIRS_LST.tif\n",
      "2022-08-22 17:52:45 2182363138 2012123.1_km_VIIRS_LST.tif\n"
     ]
    }
   ],
   "source": [
    "! aws s3 ls ws-in/ssebop/lst/2012/"
   ]
  },
  {
   "cell_type": "code",
   "execution_count": 3,
   "id": "7bdae8db",
   "metadata": {},
   "outputs": [
    {
     "name": "stdout",
     "output_type": "stream",
     "text": [
      "# conda environments:\n",
      "#\n",
      "base                     /wsefs/miniconda3\n",
      "gabe_1                   /wsefs/miniconda3/envs/gabe_1\n",
      "olena                 *  /wsefs/miniconda3/envs/olena\n",
      "ssconus1121              /wsefs/miniconda3/envs/ssconus1121\n",
      "tony                     /wsefs/miniconda3/envs/tony\n",
      "tony1                    /wsefs/miniconda3/envs/tony1\n",
      "vegetProd                /wsefs/miniconda3/envs/vegetProd\n",
      "\n",
      "\n",
      "Note: you may need to restart the kernel to use updated packages.\n"
     ]
    }
   ],
   "source": [
    "conda env list"
   ]
  },
  {
   "cell_type": "code",
   "execution_count": 4,
   "id": "7f107b95",
   "metadata": {},
   "outputs": [],
   "source": [
    "#! pip install jupyter-resource-usage"
   ]
  },
  {
   "cell_type": "code",
   "execution_count": 6,
   "id": "cf86daa5",
   "metadata": {},
   "outputs": [
    {
     "name": "stderr",
     "output_type": "stream",
     "text": [
      "Traceback (most recent call last):\n",
      "  File \"/wsefs/miniconda3/envs/olena/bin/jupyter-serverextension\", line 10, in <module>\n",
      "    sys.exit(main())\n",
      "  File \"/wsefs/miniconda3/envs/olena/lib/python3.10/site-packages/jupyter_core/application.py\", line 269, in launch_instance\n",
      "    return super().launch_instance(argv=argv, **kwargs)\n",
      "  File \"/wsefs/miniconda3/envs/olena/lib/python3.10/site-packages/traitlets/config/application.py\", line 982, in launch_instance\n",
      "    app.start()\n",
      "  File \"/wsefs/miniconda3/envs/olena/lib/python3.10/site-packages/notebook/serverextensions.py\", line 289, in start\n",
      "    super().start()\n",
      "  File \"/wsefs/miniconda3/envs/olena/lib/python3.10/site-packages/jupyter_core/application.py\", line 258, in start\n",
      "    self.subapp.start()\n",
      "  File \"/wsefs/miniconda3/envs/olena/lib/python3.10/site-packages/notebook/serverextensions.py\", line 208, in start\n",
      "    self.toggle_server_extension_python(arg)\n",
      "  File \"/wsefs/miniconda3/envs/olena/lib/python3.10/site-packages/notebook/serverextensions.py\", line 197, in toggle_server_extension_python\n",
      "    m, server_exts = _get_server_extension_metadata(package)\n",
      "  File \"/wsefs/miniconda3/envs/olena/lib/python3.10/site-packages/notebook/serverextensions.py\", line 323, in _get_server_extension_metadata\n",
      "    m = import_item(module)\n",
      "  File \"/wsefs/miniconda3/envs/olena/lib/python3.10/site-packages/traitlets/utils/importstring.py\", line 38, in import_item\n",
      "    return __import__(parts[0])\n",
      "ModuleNotFoundError: No module named 'jupyter-resource-usage'\n",
      "Traceback (most recent call last):\n",
      "  File \"/wsefs/miniconda3/envs/olena/bin/jupyter-nbextension\", line 10, in <module>\n",
      "    sys.exit(main())\n",
      "  File \"/wsefs/miniconda3/envs/olena/lib/python3.10/site-packages/jupyter_core/application.py\", line 269, in launch_instance\n",
      "    return super().launch_instance(argv=argv, **kwargs)\n",
      "  File \"/wsefs/miniconda3/envs/olena/lib/python3.10/site-packages/traitlets/config/application.py\", line 982, in launch_instance\n",
      "    app.start()\n",
      "  File \"/wsefs/miniconda3/envs/olena/lib/python3.10/site-packages/notebook/nbextensions.py\", line 972, in start\n",
      "    super().start()\n",
      "  File \"/wsefs/miniconda3/envs/olena/lib/python3.10/site-packages/jupyter_core/application.py\", line 258, in start\n",
      "    self.subapp.start()\n",
      "  File \"/wsefs/miniconda3/envs/olena/lib/python3.10/site-packages/notebook/nbextensions.py\", line 702, in start\n",
      "    self.install_extensions()\n",
      "  File \"/wsefs/miniconda3/envs/olena/lib/python3.10/site-packages/notebook/nbextensions.py\", line 675, in install_extensions\n",
      "    full_dests = install(self.extra_args[0],\n",
      "  File \"/wsefs/miniconda3/envs/olena/lib/python3.10/site-packages/notebook/nbextensions.py\", line 203, in install_nbextension_python\n",
      "    m, nbexts = _get_nbextension_metadata(module)\n",
      "  File \"/wsefs/miniconda3/envs/olena/lib/python3.10/site-packages/notebook/nbextensions.py\", line 1107, in _get_nbextension_metadata\n",
      "    m = import_item(module)\n",
      "  File \"/wsefs/miniconda3/envs/olena/lib/python3.10/site-packages/traitlets/utils/importstring.py\", line 38, in import_item\n",
      "    return __import__(parts[0])\n",
      "ModuleNotFoundError: No module named 'jupyter-resource-usage'\n",
      "Traceback (most recent call last):\n",
      "  File \"/wsefs/miniconda3/envs/olena/bin/jupyter-nbextension\", line 10, in <module>\n",
      "    sys.exit(main())\n",
      "  File \"/wsefs/miniconda3/envs/olena/lib/python3.10/site-packages/jupyter_core/application.py\", line 269, in launch_instance\n",
      "    return super().launch_instance(argv=argv, **kwargs)\n",
      "  File \"/wsefs/miniconda3/envs/olena/lib/python3.10/site-packages/traitlets/config/application.py\", line 982, in launch_instance\n",
      "    app.start()\n",
      "  File \"/wsefs/miniconda3/envs/olena/lib/python3.10/site-packages/notebook/nbextensions.py\", line 972, in start\n",
      "    super().start()\n",
      "  File \"/wsefs/miniconda3/envs/olena/lib/python3.10/site-packages/jupyter_core/application.py\", line 258, in start\n",
      "    self.subapp.start()\n",
      "  File \"/wsefs/miniconda3/envs/olena/lib/python3.10/site-packages/notebook/nbextensions.py\", line 882, in start\n",
      "    self.toggle_nbextension_python(self.extra_args[0])\n",
      "  File \"/wsefs/miniconda3/envs/olena/lib/python3.10/site-packages/notebook/nbextensions.py\", line 855, in toggle_nbextension_python\n",
      "    return toggle(module,\n",
      "  File \"/wsefs/miniconda3/envs/olena/lib/python3.10/site-packages/notebook/nbextensions.py\", line 470, in enable_nbextension_python\n",
      "    return _set_nbextension_state_python(True, module, user, sys_prefix,\n",
      "  File \"/wsefs/miniconda3/envs/olena/lib/python3.10/site-packages/notebook/nbextensions.py\", line 368, in _set_nbextension_state_python\n",
      "    m, nbexts = _get_nbextension_metadata(module)\n",
      "  File \"/wsefs/miniconda3/envs/olena/lib/python3.10/site-packages/notebook/nbextensions.py\", line 1107, in _get_nbextension_metadata\n",
      "    m = import_item(module)\n",
      "  File \"/wsefs/miniconda3/envs/olena/lib/python3.10/site-packages/traitlets/utils/importstring.py\", line 38, in import_item\n",
      "    return __import__(parts[0])\n",
      "ModuleNotFoundError: No module named 'jupyter-resource-usage'\n"
     ]
    },
    {
     "ename": "CalledProcessError",
     "evalue": "Command 'b'jupyter serverextension enable --py jupyter-resource-usage --sys-prefix\\njupyter nbextension install --py jupyter-resource-usage --sys-prefix\\njupyter nbextension enable --py jupyter-resource-usage --sys-prefix\\n'' returned non-zero exit status 1.",
     "output_type": "error",
     "traceback": [
      "\u001b[0;31m---------------------------------------------------------------------------\u001b[0m",
      "\u001b[0;31mCalledProcessError\u001b[0m                        Traceback (most recent call last)",
      "Cell \u001b[0;32mIn [6], line 1\u001b[0m\n\u001b[0;32m----> 1\u001b[0m \u001b[43mget_ipython\u001b[49m\u001b[43m(\u001b[49m\u001b[43m)\u001b[49m\u001b[38;5;241;43m.\u001b[39;49m\u001b[43mrun_cell_magic\u001b[49m\u001b[43m(\u001b[49m\u001b[38;5;124;43m'\u001b[39;49m\u001b[38;5;124;43mbash\u001b[39;49m\u001b[38;5;124;43m'\u001b[39;49m\u001b[43m,\u001b[49m\u001b[43m \u001b[49m\u001b[38;5;124;43m'\u001b[39;49m\u001b[38;5;124;43m'\u001b[39;49m\u001b[43m,\u001b[49m\u001b[43m \u001b[49m\u001b[38;5;124;43m'\u001b[39;49m\u001b[38;5;124;43mjupyter serverextension enable --py jupyter-resource-usage --sys-prefix\u001b[39;49m\u001b[38;5;130;43;01m\\n\u001b[39;49;00m\u001b[38;5;124;43mjupyter nbextension install --py jupyter-resource-usage --sys-prefix\u001b[39;49m\u001b[38;5;130;43;01m\\n\u001b[39;49;00m\u001b[38;5;124;43mjupyter nbextension enable --py jupyter-resource-usage --sys-prefix\u001b[39;49m\u001b[38;5;130;43;01m\\n\u001b[39;49;00m\u001b[38;5;124;43m'\u001b[39;49m\u001b[43m)\u001b[49m\n",
      "File \u001b[0;32m/wsefs/miniconda3/envs/olena/lib/python3.10/site-packages/IPython/core/interactiveshell.py:2362\u001b[0m, in \u001b[0;36mInteractiveShell.run_cell_magic\u001b[0;34m(self, magic_name, line, cell)\u001b[0m\n\u001b[1;32m   2360\u001b[0m \u001b[38;5;28;01mwith\u001b[39;00m \u001b[38;5;28mself\u001b[39m\u001b[38;5;241m.\u001b[39mbuiltin_trap:\n\u001b[1;32m   2361\u001b[0m     args \u001b[38;5;241m=\u001b[39m (magic_arg_s, cell)\n\u001b[0;32m-> 2362\u001b[0m     result \u001b[38;5;241m=\u001b[39m \u001b[43mfn\u001b[49m\u001b[43m(\u001b[49m\u001b[38;5;241;43m*\u001b[39;49m\u001b[43margs\u001b[49m\u001b[43m,\u001b[49m\u001b[43m \u001b[49m\u001b[38;5;241;43m*\u001b[39;49m\u001b[38;5;241;43m*\u001b[39;49m\u001b[43mkwargs\u001b[49m\u001b[43m)\u001b[49m\n\u001b[1;32m   2363\u001b[0m \u001b[38;5;28;01mreturn\u001b[39;00m result\n",
      "File \u001b[0;32m/wsefs/miniconda3/envs/olena/lib/python3.10/site-packages/IPython/core/magics/script.py:153\u001b[0m, in \u001b[0;36mScriptMagics._make_script_magic.<locals>.named_script_magic\u001b[0;34m(line, cell)\u001b[0m\n\u001b[1;32m    151\u001b[0m \u001b[38;5;28;01melse\u001b[39;00m:\n\u001b[1;32m    152\u001b[0m     line \u001b[38;5;241m=\u001b[39m script\n\u001b[0;32m--> 153\u001b[0m \u001b[38;5;28;01mreturn\u001b[39;00m \u001b[38;5;28;43mself\u001b[39;49m\u001b[38;5;241;43m.\u001b[39;49m\u001b[43mshebang\u001b[49m\u001b[43m(\u001b[49m\u001b[43mline\u001b[49m\u001b[43m,\u001b[49m\u001b[43m \u001b[49m\u001b[43mcell\u001b[49m\u001b[43m)\u001b[49m\n",
      "File \u001b[0;32m/wsefs/miniconda3/envs/olena/lib/python3.10/site-packages/IPython/core/magics/script.py:305\u001b[0m, in \u001b[0;36mScriptMagics.shebang\u001b[0;34m(self, line, cell)\u001b[0m\n\u001b[1;32m    300\u001b[0m \u001b[38;5;28;01mif\u001b[39;00m args\u001b[38;5;241m.\u001b[39mraise_error \u001b[38;5;129;01mand\u001b[39;00m p\u001b[38;5;241m.\u001b[39mreturncode \u001b[38;5;241m!=\u001b[39m \u001b[38;5;241m0\u001b[39m:\n\u001b[1;32m    301\u001b[0m     \u001b[38;5;66;03m# If we get here and p.returncode is still None, we must have\u001b[39;00m\n\u001b[1;32m    302\u001b[0m     \u001b[38;5;66;03m# killed it but not yet seen its return code. We don't wait for it,\u001b[39;00m\n\u001b[1;32m    303\u001b[0m     \u001b[38;5;66;03m# in case it's stuck in uninterruptible sleep. -9 = SIGKILL\u001b[39;00m\n\u001b[1;32m    304\u001b[0m     rc \u001b[38;5;241m=\u001b[39m p\u001b[38;5;241m.\u001b[39mreturncode \u001b[38;5;129;01mor\u001b[39;00m \u001b[38;5;241m-\u001b[39m\u001b[38;5;241m9\u001b[39m\n\u001b[0;32m--> 305\u001b[0m     \u001b[38;5;28;01mraise\u001b[39;00m CalledProcessError(rc, cell)\n",
      "\u001b[0;31mCalledProcessError\u001b[0m: Command 'b'jupyter serverextension enable --py jupyter-resource-usage --sys-prefix\\njupyter nbextension install --py jupyter-resource-usage --sys-prefix\\njupyter nbextension enable --py jupyter-resource-usage --sys-prefix\\n'' returned non-zero exit status 1."
     ]
    }
   ],
   "source": [
    "%%bash\n",
    "jupyter serverextension enable --py jupyter-resource-usage --sys-prefix\n",
    "jupyter nbextension install --py jupyter-resource-usage --sys-prefix\n",
    "jupyter nbextension enable --py jupyter-resource-usage --sys-prefix"
   ]
  },
  {
   "cell_type": "code",
   "execution_count": null,
   "id": "c0efafa1",
   "metadata": {},
   "outputs": [],
   "source": []
  }
 ],
 "metadata": {
  "kernelspec": {
   "display_name": "Python 3 (ipykernel)",
   "language": "python",
   "name": "python3"
  },
  "language_info": {
   "codemirror_mode": {
    "name": "ipython",
    "version": 3
   },
   "file_extension": ".py",
   "mimetype": "text/x-python",
   "name": "python",
   "nbconvert_exporter": "python",
   "pygments_lexer": "ipython3",
   "version": "3.10.6"
  }
 },
 "nbformat": 4,
 "nbformat_minor": 5
}
