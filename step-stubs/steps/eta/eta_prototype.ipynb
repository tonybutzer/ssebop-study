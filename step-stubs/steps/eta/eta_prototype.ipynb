{
 "cells": [
  {
   "cell_type": "code",
   "execution_count": 1,
   "id": "2cae4fca-88fa-4596-8bb4-5665a9b3f3ac",
   "metadata": {},
   "outputs": [],
   "source": [
    "#! mkdir /wsefs/pipeline/etadata"
   ]
  },
  {
   "cell_type": "code",
   "execution_count": 2,
   "id": "6c9c4cde-2c5d-4fe8-9b3b-ff9633c6525d",
   "metadata": {},
   "outputs": [
    {
     "name": "stdout",
     "output_type": "stream",
     "text": [
      "<Client: 'tcp://127.0.0.1:40505' processes=4 threads=16, memory=61.58 GiB>\n",
      "LocalCluster(1b929acc, 'tcp://127.0.0.1:40505', workers=4, threads=16, memory=61.58 GiB)\n",
      "<xarray.DataArray (y: 14500, x: 37200)>\n",
      "dask.array<mul, shape=(14500, 37200), dtype=float32, chunksize=(5632, 5632), chunktype=numpy.ndarray>\n",
      "Coordinates:\n",
      "  * x            (x) float64 -180.0 -180.0 -180.0 -180.0 ... 179.0 179.0 179.0\n",
      "  * y            (y) float64 80.0 79.99 79.98 79.97 ... -59.93 -59.94 -59.95\n",
      "    spatial_ref  int64 0\n"
     ]
    }
   ],
   "source": [
    "import rioxarray as rioxa\n",
    "from glob import glob\n",
    "from dask.distributed import Client, LocalCluster, Lock\n",
    "import os\n",
    "\n",
    "def main():\n",
    "    # instantiate the client as the do-er\n",
    "    # docs.das.org/en/latest/deploying-python.html\n",
    "    cluster = LocalCluster()\n",
    "    # client = Client(n_workers=2, threads_per_worker=2, memory_limit='1GB')\n",
    "    client = Client(cluster)\n",
    "    print(client)\n",
    "    print(cluster)\n",
    "\n",
    "    etf = '/wsefs/pipeline/babadata/etfca_2022102.tif'\n",
    "    # refet_location = 's3://ws-in/ssebop/etr/Hobbins/etr_102.tif'\n",
    "    etr = '/wsefs/pipeline/ndata/etr_raster.tif'\n",
    "    output_location = '/wsefs/pipeline/etadata/eta_2022102.tif'\n",
    "\n",
    "    # open the fill raster\n",
    "    etf_ds = rioxa.open_rasterio(etf, chunks='auto').squeeze().drop(labels='band')\n",
    "\n",
    "    # the refet needs to get virtualwarped\n",
    "    refet_ds = rioxa.open_rasterio(etr, chunks='auto').squeeze().drop(labels='band')\n",
    "    eta = etf_ds * refet_ds\n",
    "    print(eta)\n",
    "    eta.rio.to_raster(output_location,compress='LZW', tiled=True, lock=Lock('rio', client=client))\n",
    "\n",
    "\n",
    "if __name__ == \"__main__\":\n",
    "    main()"
   ]
  }
 ],
 "metadata": {
  "kernelspec": {
   "display_name": "Python 3 (ipykernel)",
   "language": "python",
   "name": "python3"
  },
  "language_info": {
   "codemirror_mode": {
    "name": "ipython",
    "version": 3
   },
   "file_extension": ".py",
   "mimetype": "text/x-python",
   "name": "python",
   "nbconvert_exporter": "python",
   "pygments_lexer": "ipython3",
   "version": "3.10.6"
  }
 },
 "nbformat": 4,
 "nbformat_minor": 5
}
