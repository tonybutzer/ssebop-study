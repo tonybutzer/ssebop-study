{
 "cells": [
  {
   "cell_type": "code",
   "execution_count": 1,
   "id": "08c2c4f3-9d90-4572-b177-58d380e560a7",
   "metadata": {},
   "outputs": [],
   "source": [
    "  import rioxarray as rioxa\n",
    "from glob import glob\n",
    "from dask.distributed import Client, LocalCluster, Lock\n",
    "import os\n",
    "import s3fs\n",
    "\n",
    "# s3 = s3fs.S3FileSystem()\n",
    "\n",
    "# def timeseries_creator_op(raster_root, key='etf_*', suffix='.tif', recur=False):\n",
    "#     \"\"\"Takes a\n",
    "#      directory full of etf timeseries and makes a dictionary of\n",
    "#      {key(raster_name): (subject_rasterpath, [before_lst], [after_lst])}, where before_lst and after_lst are paths of\n",
    "#      rasters that come temporally before and after the 'subject_rasterpath'.\"\"\"\n",
    "\n",
    "#     # print(f'{raster_root}{os.sep}{key}{suffix}')\n",
    "#     # print(glob(f'{raster_root}{os.sep}{key}{suffix}'))\n",
    "#     rasters_list = sorted(s3.glob(f'{raster_root}{os.sep}{key}{suffix}'))\n",
    "#     print('raster list')\n",
    "#     print(rasters_list)\n",
    "\n",
    "#     ras_dict = {}\n",
    "#     for i, ras in enumerate(rasters_list):\n",
    "#         # get the rastername\n",
    "#         # rasname = s3fs.split_path(ras)[1]\n",
    "#         rasname = ras.split('/')[-1]\n",
    "#         print('raslist to split')\n",
    "#         print(ras.split('/'))\n",
    "#         # grab before and after rasters where possible\n",
    "#         if i > 0:\n",
    "#             before_rasters = rasters_list[0:i]\n",
    "#             # we reverse order the before rasters... for going backwards...\n",
    "#             before_rasters.reverse()\n",
    "#         if i < (len(rasters_list) - 1):\n",
    "#             after_rasters = rasters_list[i+1:]\n",
    "#         # if at the beginning or end, put in none for the last value.\n",
    "#         if i == 0:\n",
    "#             value_tuple = (ras, None, after_rasters)\n",
    "#         elif i == (len(rasters_list) - 1):\n",
    "#             value_tuple = (ras, before_rasters, None)\n",
    "#         else:\n",
    "#             value_tuple = (ras, before_rasters, after_rasters)\n",
    "\n",
    "\n",
    "#         ras_dict[rasname] = value_tuple\n",
    "\n",
    "#     return ras_dict\n",
    "\n",
    "\n",
    "# def baba_gapfill_op(output_location, name, path, before_lst, index=2, client=None, climo_fill=None):\n",
    "#     \"\"\"\"\"\"\n",
    "#     # todo - check to make sure that index < before_list and index < after_lst\n",
    "\n",
    "#     print('name: ', name)\n",
    "#     print(before_lst)\n",
    "\n",
    "\n",
    "#     raster_ds = rioxa.open_rasterio(path, chunks='auto').squeeze().drop(labels='band')\n",
    "\n",
    "#     for i in range(index):\n",
    "#         # open the fill raster\n",
    "#         try:\n",
    "#             fill_ras = before_lst[i]\n",
    "#             a_ds = rioxa.open_rasterio(fill_ras, chunks='auto').squeeze().drop(labels='band')\n",
    "#             #  fill raster_ds with the fill value\n",
    "#             raster_ds = raster_ds.fillna(value=a_ds)\n",
    "#         except IndexError:\n",
    "#             # if there isn't enough fill data\n",
    "#             raster_ds = raster_ds.fillna(value=0.75)\n",
    "#         except TypeError:\n",
    "#             # if the raster is the start of the series\n",
    "#             raster_ds = raster_ds.fillna(value=0.75)\n",
    "\n",
    "#     if climo_fill is not None:\n",
    "#         climo_ds = rioxa.open_rasterio(climo_fill, chunks='auto').squeeze().drop(labels='band')\n",
    "#         raster_ds = raster_ds.fillna(value=climo_ds)\n",
    "#     # even if there are two fill rasters available in the before list. still fill gaps with 0.75\n",
    "#     # this doesn't do anything if the raster was already gapfilled by 0.75 during the exceptions above\n",
    "#     raster_ds = raster_ds.fillna(value=0.75)\n",
    "\n",
    "#     raster_ds.rio.to_raster(os.path.join(output_location, name),\n",
    "#                             tiled=True, lock=Lock('rio', client=client))"
   ]
  },
  {
   "cell_type": "code",
   "execution_count": 2,
   "id": "ca5163dd-4032-4946-8699-ac9e20dbe62e",
   "metadata": {},
   "outputs": [],
   "source": [
    "def baba_gapfill_op_simple(output_location, name, current_etf, prev_raster_list, client=None, climo_fill=None):\n",
    "    \"\"\"\"\"\"\n",
    "    # todo - check to make sure that index < before_list and index < after_lst\n",
    "\n",
    "    # print('name: ', name)\n",
    "    # print(before_lst)\n",
    "\n",
    "    path = current_etf\n",
    "    raster_ds = rioxa.open_rasterio(path, chunks='auto').squeeze().drop(labels='band')\n",
    "\n",
    "    before_lst = prev_raster_list\n",
    "    for i in range(2):\n",
    "        # open the fill raster\n",
    "        try:\n",
    "            fill_ras = before_lst[i]\n",
    "            a_ds = rioxa.open_rasterio(fill_ras, chunks='auto').squeeze().drop(labels='band')\n",
    "            #  fill raster_ds with the fill value\n",
    "            raster_ds = raster_ds.fillna(value=a_ds)\n",
    "        except IndexError:\n",
    "            # if there isn't enough fill data\n",
    "            raster_ds = raster_ds.fillna(value=0.75)\n",
    "        except TypeError:\n",
    "            # if the raster is the start of the series\n",
    "            raster_ds = raster_ds.fillna(value=0.75)\n",
    "\n",
    "    if climo_fill is not None:\n",
    "        climo_ds = rioxa.open_rasterio(climo_fill, chunks='auto').squeeze().drop(labels='band')\n",
    "        raster_ds = raster_ds.fillna(value=climo_ds)\n",
    "    # even if there are two fill rasters available in the before list. still fill gaps with 0.75\n",
    "    # this doesn't do anything if the raster was already gapfilled by 0.75 during the exceptions above\n",
    "    raster_ds = raster_ds.fillna(value=0.75)\n",
    "\n",
    "    raster_ds.rio.to_raster(os.path.join(output_location, name),\n",
    "                            compress='LZW', tiled=True, lock=Lock('rio', client=client))"
   ]
  },
  {
   "cell_type": "code",
   "execution_count": 3,
   "id": "026292d0-9e0e-4da2-992b-8ebd1633c9ff",
   "metadata": {},
   "outputs": [
    {
     "name": "stdout",
     "output_type": "stream",
     "text": [
      "<Client: 'tcp://127.0.0.1:42095' processes=4 threads=16, memory=61.58 GiB>\n",
      "LocalCluster(b56db65e, 'tcp://127.0.0.1:42095', workers=4, threads=16, memory=61.58 GiB)\n"
     ]
    }
   ],
   "source": [
    "    # Initialize local hardware with Dask\n",
    "    cluster = LocalCluster()\n",
    "    client = Client(cluster)\n",
    "    print(client)\n",
    "    print(cluster)"
   ]
  },
  {
   "cell_type": "code",
   "execution_count": 4,
   "id": "26930467-127c-4926-a5c3-a8943a096702",
   "metadata": {},
   "outputs": [],
   "source": [
    "    # where the rasters are...\n",
    "    raster_root = r's3://ws-out/ssebop_viirs/'\n",
    "    # set up an output location\n",
    "    output_path = '/wsefs/pipeline/babadata/'\n",
    "    #ras_dict = timeseries_creator_op(raster_root=raster_root)"
   ]
  },
  {
   "cell_type": "code",
   "execution_count": 5,
   "id": "e748cfd9-46a4-42c0-a7e9-392d5001f499",
   "metadata": {},
   "outputs": [],
   "source": [
    "prev_raster_list = ['/wsefs/pipeline/etfdata/etf_2022101.tif',\n",
    "                    '/wsefs/pipeline/etfdata/etf_2022093.tif']\n",
    "current_etf = '/wsefs/pipeline/etfdata/etf_2022102.tif'\n",
    "name='etfca_2022102.tif'\n",
    "\n",
    "baba_gapfill_op_simple(output_path, name, current_etf, prev_raster_list, client=client, climo_fill=None)"
   ]
  },
  {
   "cell_type": "code",
   "execution_count": 6,
   "id": "e2d9f554-add8-42a9-a58d-0c74ff7c6702",
   "metadata": {},
   "outputs": [
    {
     "name": "stdout",
     "output_type": "stream",
     "text": [
      "total 490M\n",
      "-rw-rw-r-- 1 ec2-user ec2-user 490M Dec 22 20:35 etfca_2022102.tif\n"
     ]
    }
   ],
   "source": [
    "! ls -lh /wsefs/pipeline/babadata/"
   ]
  },
  {
   "cell_type": "code",
   "execution_count": 7,
   "id": "0ac0431a-8214-4ad6-9862-dd8440ffe28f",
   "metadata": {},
   "outputs": [
    {
     "name": "stdout",
     "output_type": "stream",
     "text": [
      "LS_eVSE_TEMP.2022.284-293.1KM.LST_ACQT.006.2022294042535.txt\n",
      "LS_eVSE_TEMP.2022.284-293.1KM.LST_ANGL.006.2022294042535.tif\n",
      "LS_eVSE_TEMP.2022.284-293.1KM.LST_EM14.006.2022294042535.tif\n",
      "LS_eVSE_TEMP.2022.284-293.1KM.LST_EM15.006.2022294042535.tif\n",
      "LS_eVSE_TEMP.2022.284-293.1KM.LST_NMBR.006.2022294042535.tif\n",
      "LS_eVSE_TEMP.2022.284-293.1KM.LST_QLTY.006.2022294042535.tif\n",
      "LS_eVSE_TEMP.2022.284-293.1KM.LST_TEMP.006.2022294042535.tif\n"
     ]
    }
   ],
   "source": [
    "! ls /wsefs/pipeline/sdata/"
   ]
  },
  {
   "cell_type": "code",
   "execution_count": 8,
   "id": "1465b460-12c4-4f80-a78e-4bb1b7279290",
   "metadata": {},
   "outputs": [
    {
     "name": "stdout",
     "output_type": "stream",
     "text": [
      "etf_2022093.tif  etf_2022101.tif  etf_2022102.tif  etf_test.tif\n"
     ]
    }
   ],
   "source": [
    "! ls /wsefs/pipeline/etfdata/"
   ]
  },
  {
   "cell_type": "code",
   "execution_count": 9,
   "id": "e6234a78-4ec1-4aa8-b587-be9198c6d969",
   "metadata": {},
   "outputs": [],
   "source": [
    "#! cp /wsefs/pipeline/etfdata/etf_test.tif /wsefs/pipeline/etfdata/etf_2022102.tif"
   ]
  },
  {
   "cell_type": "code",
   "execution_count": 10,
   "id": "01a939b2-e762-40f3-a261-4c5ffb007e6e",
   "metadata": {},
   "outputs": [
    {
     "name": "stdout",
     "output_type": "stream",
     "text": [
      "total 8.2G\n",
      "-rw-r--r-- 1 ec2-user ec2-user 2.1G Dec 22 20:02 etf_2022093.tif\n",
      "-rw-r--r-- 1 ec2-user ec2-user 2.1G Dec 22 20:02 etf_2022101.tif\n",
      "-rw-r--r-- 1 ec2-user ec2-user 2.1G Dec 22 20:03 etf_2022102.tif\n",
      "-rw-r--r-- 1 ec2-user ec2-user 2.1G Dec 19 20:34 etf_test.tif\n"
     ]
    }
   ],
   "source": [
    "! ls -lh /wsefs/pipeline/etfdata/"
   ]
  }
 ],
 "metadata": {
  "kernelspec": {
   "display_name": "Python 3 (ipykernel)",
   "language": "python",
   "name": "python3"
  },
  "language_info": {
   "codemirror_mode": {
    "name": "ipython",
    "version": 3
   },
   "file_extension": ".py",
   "mimetype": "text/x-python",
   "name": "python",
   "nbconvert_exporter": "python",
   "pygments_lexer": "ipython3",
   "version": "3.10.6"
  }
 },
 "nbformat": 4,
 "nbformat_minor": 5
}
