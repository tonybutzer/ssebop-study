{
 "cells": [
  {
   "cell_type": "code",
   "execution_count": 1,
   "id": "36706479",
   "metadata": {},
   "outputs": [],
   "source": [
    "import os\n",
    "import rasterio"
   ]
  },
  {
   "cell_type": "code",
   "execution_count": 2,
   "id": "d666bb84",
   "metadata": {},
   "outputs": [],
   "source": [
    "def my_favorite_rasters():\n",
    "    \n",
    "    my_inputs={}\n",
    "    # hardcoding some paths to files\n",
    "    root = '/wsefs/pipeline/data_test_normToGrid'\n",
    "    lst_raster = os.path.join(root, 'LS_eVSE_TEMP.2022.284-293.1KM.LST_TEMP.006.2022294042535.tif')\n",
    "    ndvi_raster = os.path.join(root, 'GN_eVSH_NDVI.2022.284-293.1KM.VI_NDVI.001.2022310010552.tif')\n",
    "    ndwi_raster = os.path.join(root, 'GN_eVSH_NDWI.2022.284-293.1KM.WI_NDWI.006.2022310173428.tif')\n",
    "    ndvi_qa = os.path.join(root, 'GN_eVSH_NDVI.2022.284-293.1KM.VI_QUAL.001.2022310010552.tif')\n",
    "\n",
    "\n",
    "    s3_img_root = 's3://ws-in/ssebop/'\n",
    "    dt_raster = os.path.join(s3_img_root, 'dT/dT_102.tif')\n",
    "    tmax_raster = os.path.join(s3_img_root, 'air_temp/tmax_102.tif')\n",
    "    global_water_raster = os.path.join(s3_img_root, 'masks/global_water_mask_inland.tif')\n",
    "    \n",
    "    print('WHAT about ndwi_qa do we need that?')\n",
    "    \n",
    "    my_inputs['gold_standard'] = lst_raster\n",
    "    my_inputs['lst_raster'] = lst_raster\n",
    "\n",
    "    my_inputs['ndvi_raster'] = ndvi_raster\n",
    "    my_inputs['ndwi_raster'] = ndwi_raster\n",
    "    \n",
    "    my_inputs['ndvi_qa'] = ndvi_qa\n",
    "    \n",
    "    my_inputs['dt_raster'] = dt_raster\n",
    "    my_inputs['tmax_raster'] = tmax_raster\n",
    "    my_inputs['global_water_raster'] = global_water_raster\n",
    "    \n",
    "    return(my_inputs)\n",
    "\n",
    "    \n",
    "\n",
    "    "
   ]
  },
  {
   "cell_type": "code",
   "execution_count": 3,
   "id": "9a698657",
   "metadata": {},
   "outputs": [
    {
     "name": "stdout",
     "output_type": "stream",
     "text": [
      "WHAT about ndwi_qa do we need that?\n"
     ]
    }
   ],
   "source": [
    "my_inputs = my_favorite_rasters()"
   ]
  },
  {
   "cell_type": "code",
   "execution_count": 4,
   "id": "c67d0069",
   "metadata": {},
   "outputs": [
    {
     "data": {
      "text/plain": [
       "{'gold_standard': '/wsefs/pipeline/data_test_normToGrid/LS_eVSE_TEMP.2022.284-293.1KM.LST_TEMP.006.2022294042535.tif',\n",
       " 'lst_raster': '/wsefs/pipeline/data_test_normToGrid/LS_eVSE_TEMP.2022.284-293.1KM.LST_TEMP.006.2022294042535.tif',\n",
       " 'ndvi_raster': '/wsefs/pipeline/data_test_normToGrid/GN_eVSH_NDVI.2022.284-293.1KM.VI_NDVI.001.2022310010552.tif',\n",
       " 'ndwi_raster': '/wsefs/pipeline/data_test_normToGrid/GN_eVSH_NDWI.2022.284-293.1KM.WI_NDWI.006.2022310173428.tif',\n",
       " 'ndvi_qa': '/wsefs/pipeline/data_test_normToGrid/GN_eVSH_NDVI.2022.284-293.1KM.VI_QUAL.001.2022310010552.tif',\n",
       " 'dt_raster': 's3://ws-in/ssebop/dT/dT_102.tif',\n",
       " 'tmax_raster': 's3://ws-in/ssebop/air_temp/tmax_102.tif',\n",
       " 'global_water_raster': 's3://ws-in/ssebop/masks/global_water_mask_inland.tif'}"
      ]
     },
     "execution_count": 4,
     "metadata": {},
     "output_type": "execute_result"
    }
   ],
   "source": [
    "my_inputs"
   ]
  },
  {
   "cell_type": "code",
   "execution_count": 19,
   "id": "b538195b",
   "metadata": {},
   "outputs": [],
   "source": [
    "def get_src_dict(file_url):\n",
    "    d={}\n",
    "    src = rasterio.open(file_url)\n",
    "    d['crs'] = src.crs.to_string()\n",
    "    d['height'] = src.height\n",
    "    d['width]'] = src.width\n",
    "    d['bounds'] = src.bounds\n",
    "    d['compression'] = src.compression\n",
    "    return(d)"
   ]
  },
  {
   "cell_type": "code",
   "execution_count": 20,
   "id": "3c0ef987",
   "metadata": {},
   "outputs": [],
   "source": [
    "def return_characteristics(the_inputs):\n",
    "    #print(the_inputs.keys())\n",
    "    d={}\n",
    "    for ky in the_inputs.keys():\n",
    "        d['name'] = ky\n",
    "        d['file_url'] = the_inputs[ky]\n",
    "        cool_dict = get_src_dict(d['file_url'])\n",
    "        print(ky,cool_dict)"
   ]
  },
  {
   "cell_type": "code",
   "execution_count": 21,
   "id": "9af2a247",
   "metadata": {},
   "outputs": [
    {
     "name": "stdout",
     "output_type": "stream",
     "text": [
      "gold_standard {'crs': 'EPSG:4326', 'height': 14505, 'width]': 37298, 'bounds': BoundingBox(left=-180.0, bottom=-60.002258848398924, right=180.00029303878546, top=80.0), 'compression': None}\n",
      "lst_raster {'crs': 'EPSG:4326', 'height': 14505, 'width]': 37298, 'bounds': BoundingBox(left=-180.0, bottom=-60.002258848398924, right=180.00029303878546, top=80.0), 'compression': None}\n",
      "ndvi_raster {'crs': 'EPSG:4326', 'height': 14505, 'width]': 37298, 'bounds': BoundingBox(left=-180.0, bottom=-60.002258848398924, right=180.00029303878546, top=80.0), 'compression': None}\n",
      "ndwi_raster {'crs': 'EPSG:4326', 'height': 14505, 'width]': 37298, 'bounds': BoundingBox(left=-180.0, bottom=-60.002258848398924, right=180.00029303878546, top=80.0), 'compression': None}\n",
      "ndvi_qa {'crs': 'EPSG:4326', 'height': 14505, 'width]': 37298, 'bounds': BoundingBox(left=-180.0, bottom=-60.002258848398924, right=180.00029303878546, top=80.0), 'compression': None}\n",
      "dt_raster {'crs': 'EPSG:4326', 'height': 17894, 'width]': 37297, 'bounds': BoundingBox(left=-180.0, bottom=-89.02070305299998, right=179.9906402703, top=83.69218315760003), 'compression': None}\n",
      "tmax_raster {'crs': 'EPSG:4326', 'height': 18027, 'width]': 37298, 'bounds': BoundingBox(left=-180.00013888885002, bottom=-90.00013888884999, right=180.00015338134995, top=83.99646330844999), 'compression': None}\n",
      "global_water_raster {'crs': 'EPSG:4326', 'height': 81301, 'width]': 172993, 'bounds': BoundingBox(left=-179.99999999990004, bottom=-85.56249999977513, right=179.9992114686, top=83.62524685472488), 'compression': <Compression.lzw: 'LZW'>}\n"
     ]
    }
   ],
   "source": [
    "return_characteristics(my_inputs)"
   ]
  },
  {
   "cell_type": "code",
   "execution_count": 22,
   "id": "9f58fade",
   "metadata": {},
   "outputs": [],
   "source": [
    "#! mkdir /wsefs/pipeline/data_temp"
   ]
  },
  {
   "cell_type": "code",
   "execution_count": 23,
   "id": "4a2d1469",
   "metadata": {},
   "outputs": [
    {
     "name": "stdout",
     "output_type": "stream",
     "text": [
      "Help on built-in function system in module posix:\n",
      "\n",
      "system(command)\n",
      "    Execute the command in a subshell.\n",
      "\n"
     ]
    }
   ],
   "source": [
    "help(os.system)"
   ]
  },
  {
   "cell_type": "code",
   "execution_count": 24,
   "id": "2de34366",
   "metadata": {},
   "outputs": [
    {
     "name": "stdout",
     "output_type": "stream",
     "text": [
      "Usage: rio [OPTIONS] COMMAND [ARGS]...\r\n",
      "\r\n",
      "  Rasterio command line interface.\r\n",
      "\r\n",
      "Options:\r\n",
      "  -v, --verbose           Increase verbosity.\r\n",
      "  -q, --quiet             Decrease verbosity.\r\n",
      "  --aws-profile TEXT      Select a profile from the AWS credentials file\r\n",
      "  --aws-no-sign-requests  Make requests anonymously\r\n",
      "  --aws-requester-pays    Requester pays data transfer costs\r\n",
      "  --version               Show the version and exit.\r\n",
      "  --gdal-version\r\n",
      "  --show-versions         Show dependency versions\r\n",
      "  --help                  Show this message and exit.\r\n",
      "\r\n",
      "Commands:\r\n",
      "  blocks     Write dataset blocks as GeoJSON features.\r\n",
      "  bounds     Write bounding boxes to stdout as GeoJSON.\r\n",
      "  calc       Raster data calculator.\r\n",
      "  clip       Clip a raster to given bounds.\r\n",
      "  convert    Copy and convert raster dataset.\r\n",
      "  edit-info  Edit dataset metadata.\r\n",
      "  env        Print information about the Rasterio environment.\r\n",
      "  gcps       Print ground control points as GeoJSON.\r\n",
      "  info       Print information about a data file.\r\n",
      "  insp       Open a data file and start an interpreter.\r\n",
      "  mask       Mask in raster using features.\r\n",
      "  merge      Merge a stack of raster datasets.\r\n",
      "  overview   Construct overviews in an existing dataset.\r\n",
      "  rasterize  Rasterize features.\r\n",
      "  rm         Delete a dataset.\r\n",
      "  sample     Sample a dataset.\r\n",
      "  shapes     Write shapes extracted from bands or masks.\r\n",
      "  stack      Stack a number of bands into a multiband dataset.\r\n",
      "  transform  Transform coordinates.\r\n",
      "  warp       Warp a raster dataset.\r\n"
     ]
    }
   ],
   "source": [
    "! rio --help"
   ]
  },
  {
   "cell_type": "code",
   "execution_count": 25,
   "id": "1707ec72",
   "metadata": {},
   "outputs": [
    {
     "name": "stdout",
     "output_type": "stream",
     "text": [
      "Usage: rio clip [OPTIONS] INPUT OUTPUT\r\n",
      "\r\n",
      "  Clips a raster using projected or geographic bounds.\r\n",
      "\r\n",
      "  The values of --bounds are presumed to be from the coordinate reference\r\n",
      "  system of the input dataset unless the --geographic option is used, in which\r\n",
      "  case the values may be longitude and latitude bounds. Either JSON, for\r\n",
      "  example \"[west, south, east, north]\", or plain text \"west south east north\"\r\n",
      "  representations of a bounding box are acceptable.\r\n",
      "\r\n",
      "  If using --like, bounds will automatically be transformed to match the\r\n",
      "  coordinate reference system of the input.\r\n",
      "\r\n",
      "  Datasets with non-rectilinear geo transforms (i.e. with rotation and/or\r\n",
      "  shear) may not be cropped using this command. They must be processed with\r\n",
      "  rio-warp.\r\n",
      "\r\n",
      "  Examples -------- $ rio clip input.tif output.tif --bounds xmin ymin xmax\r\n",
      "  ymax\r\n",
      "\r\n",
      "  $ rio clip input.tif output.tif --like template.tif\r\n",
      "\r\n",
      "Options:\r\n",
      "  -o, --output PATH               Path to output file (optional alternative to\r\n",
      "                                  a positional arg).\r\n",
      "  --bounds TEXT                   Bounds: \"left bottom right top\" or \"[left,\r\n",
      "                                  bottom, right, top]\".\r\n",
      "  --like PATH                     Raster dataset to use as a template for\r\n",
      "                                  bounds\r\n",
      "  -f, --format, --driver TEXT     Output format driver\r\n",
      "  --nodata NUMBER|nan             Set a Nodata value.\r\n",
      "  --geographic                    Bounds in geographic coordinates.\r\n",
      "  --projected                     Bounds in input's own projected coordinates\r\n",
      "                                  (the default).\r\n",
      "  --overwrite                     Always overwrite an existing output file.\r\n",
      "  --co, --profile NAME=VALUE      Driver specific creation options. See the\r\n",
      "                                  documentation for the selected output driver\r\n",
      "                                  for more information.\r\n",
      "  --with-complement / --without-complement\r\n",
      "                                  Include the relative complement of the\r\n",
      "                                  raster in the given bounds (giving a larger\r\n",
      "                                  result), else return results only from the\r\n",
      "                                  intersection of the raster and the bounds\r\n",
      "                                  (the default).\r\n",
      "  --help                          Show this message and exit.\r\n"
     ]
    }
   ],
   "source": [
    "! rio clip --help"
   ]
  },
  {
   "cell_type": "code",
   "execution_count": 26,
   "id": "114b30f5",
   "metadata": {},
   "outputs": [
    {
     "data": {
      "text/plain": [
       "'/wsefs/pipeline/data_test_normToGrid/LS_eVSE_TEMP.2022.284-293.1KM.LST_TEMP.006.2022294042535.tif'"
      ]
     },
     "execution_count": 26,
     "metadata": {},
     "output_type": "execute_result"
    }
   ],
   "source": [
    "my_inputs['gold_standard']"
   ]
  },
  {
   "cell_type": "code",
   "execution_count": 27,
   "id": "4c0c516a",
   "metadata": {},
   "outputs": [
    {
     "data": {
      "text/plain": [
       "{'gold_standard': '/wsefs/pipeline/data_test_normToGrid/LS_eVSE_TEMP.2022.284-293.1KM.LST_TEMP.006.2022294042535.tif',\n",
       " 'lst_raster': '/wsefs/pipeline/data_test_normToGrid/LS_eVSE_TEMP.2022.284-293.1KM.LST_TEMP.006.2022294042535.tif',\n",
       " 'ndvi_raster': '/wsefs/pipeline/data_test_normToGrid/GN_eVSH_NDVI.2022.284-293.1KM.VI_NDVI.001.2022310010552.tif',\n",
       " 'ndwi_raster': '/wsefs/pipeline/data_test_normToGrid/GN_eVSH_NDWI.2022.284-293.1KM.WI_NDWI.006.2022310173428.tif',\n",
       " 'ndvi_qa': '/wsefs/pipeline/data_test_normToGrid/GN_eVSH_NDVI.2022.284-293.1KM.VI_QUAL.001.2022310010552.tif',\n",
       " 'dt_raster': 's3://ws-in/ssebop/dT/dT_102.tif',\n",
       " 'tmax_raster': 's3://ws-in/ssebop/air_temp/tmax_102.tif',\n",
       " 'global_water_raster': 's3://ws-in/ssebop/masks/global_water_mask_inland.tif'}"
      ]
     },
     "execution_count": 27,
     "metadata": {},
     "output_type": "execute_result"
    }
   ],
   "source": [
    "my_inputs"
   ]
  },
  {
   "cell_type": "code",
   "execution_count": 30,
   "id": "bd539e4d",
   "metadata": {},
   "outputs": [
    {
     "name": "stdout",
     "output_type": "stream",
     "text": [
      "Traceback (most recent call last):\n",
      "  File \"rasterio/_io.pyx\", line 936, in rasterio._io.DatasetReaderBase._read\n",
      "  File \"rasterio/_io.pyx\", line 174, in rasterio._io.io_multi_band\n",
      "  File \"rasterio/_err.pyx\", line 191, in rasterio._err.exc_wrap_int\n",
      "rasterio._err.CPLE_OutOfMemoryError: vrtsources.cpp, 2750: cannot allocate 46553108272 bytes\n",
      "\n",
      "During handling of the above exception, another exception occurred:\n",
      "\n",
      "Traceback (most recent call last):\n",
      "  File \"/wsefs/miniconda3/envs/ssebop-study/bin/rio\", line 11, in <module>\n",
      "    sys.exit(main_group())\n",
      "  File \"/wsefs/miniconda3/envs/ssebop-study/lib/python3.10/site-packages/click/core.py\", line 1130, in __call__\n",
      "    return self.main(*args, **kwargs)\n",
      "  File \"/wsefs/miniconda3/envs/ssebop-study/lib/python3.10/site-packages/click/core.py\", line 1055, in main\n",
      "    rv = self.invoke(ctx)\n",
      "  File \"/wsefs/miniconda3/envs/ssebop-study/lib/python3.10/site-packages/click/core.py\", line 1657, in invoke\n",
      "    return _process_result(sub_ctx.command.invoke(sub_ctx))\n",
      "  File \"/wsefs/miniconda3/envs/ssebop-study/lib/python3.10/site-packages/click/core.py\", line 1404, in invoke\n",
      "    return ctx.invoke(self.callback, **ctx.params)\n",
      "  File \"/wsefs/miniconda3/envs/ssebop-study/lib/python3.10/site-packages/click/core.py\", line 760, in invoke\n",
      "    return __callback(*args, **kwargs)\n",
      "  File \"/wsefs/miniconda3/envs/ssebop-study/lib/python3.10/site-packages/click/decorators.py\", line 26, in new_func\n",
      "    return f(get_current_context(), *args, **kwargs)\n",
      "  File \"/wsefs/miniconda3/envs/ssebop-study/lib/python3.10/site-packages/rasterio/rio/clip.py\", line 173, in clip\n",
      "    src.read(\n",
      "  File \"rasterio/_io.pyx\", line 653, in rasterio._io.DatasetReaderBase.read\n",
      "  File \"rasterio/_io.pyx\", line 655, in rasterio._io.DatasetReaderBase.read\n",
      "  File \"rasterio/_io.pyx\", line 939, in rasterio._io.DatasetReaderBase._read\n",
      "rasterio.errors.RasterioIOError: Read or write failed. vrtsources.cpp, 2750: cannot allocate 46553108272 bytes\n"
     ]
    }
   ],
   "source": [
    "! rio clip s3://ws-in/ssebop/masks/global_water_mask_inland.tif /wsefs/pipeline/data_temp/global_water_mask_inland.tif --like /wsefs/pipeline/data_test_normToGrid/LS_eVSE_TEMP.2022.284-293.1KM.LST_TEMP.006.2022294042535.tif --co tiled=true --co blockxsize=256 --co blockysize=256 --co compress=LZW"
   ]
  },
  {
   "cell_type": "code",
   "execution_count": 29,
   "id": "139784ce",
   "metadata": {},
   "outputs": [
    {
     "name": "stdout",
     "output_type": "stream",
     "text": [
      "defaults = {\r\n",
      "        'driver': 'GTiff',\r\n",
      "        'interleave': 'band',\r\n",
      "        'tiled': True,\r\n",
      "        'blockxsize': 256,\r\n",
      "        'blockysize': 256,\r\n",
      "        'compress': 'lzw',\r\n",
      "        'nodata': 0,\r\n",
      "        'dtype': uint16\r\n",
      "    }"
     ]
    }
   ],
   "source": [
    "! cat my_profile.json"
   ]
  },
  {
   "cell_type": "code",
   "execution_count": null,
   "id": "34afe678",
   "metadata": {},
   "outputs": [],
   "source": []
  }
 ],
 "metadata": {
  "kernelspec": {
   "display_name": "Python 3 (ipykernel)",
   "language": "python",
   "name": "python3"
  },
  "language_info": {
   "codemirror_mode": {
    "name": "ipython",
    "version": 3
   },
   "file_extension": ".py",
   "mimetype": "text/x-python",
   "name": "python",
   "nbconvert_exporter": "python",
   "pygments_lexer": "ipython3",
   "version": "3.10.6"
  }
 },
 "nbformat": 4,
 "nbformat_minor": 5
}
