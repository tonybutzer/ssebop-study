{
 "cells": [
  {
   "cell_type": "code",
   "execution_count": 4,
   "id": "36706479",
   "metadata": {},
   "outputs": [],
   "source": [
    "import os\n",
    "import rasterio"
   ]
  },
  {
   "cell_type": "code",
   "execution_count": 5,
   "id": "d666bb84",
   "metadata": {},
   "outputs": [],
   "source": [
    "def my_favorite_rasters():\n",
    "    \n",
    "    my_inputs={}\n",
    "    # hardcoding some paths to files\n",
    "    root = '/wsefs/pipeline/data_test_normToGrid'\n",
    "    lst_raster = os.path.join(root, 'LS_eVSE_TEMP.2022.284-293.1KM.LST_TEMP.006.2022294042535.tif')\n",
    "    ndvi_raster = os.path.join(root, 'GN_eVSH_NDVI.2022.284-293.1KM.VI_NDVI.001.2022310010552.tif')\n",
    "    ndwi_raster = os.path.join(root, 'GN_eVSH_NDWI.2022.284-293.1KM.WI_NDWI.006.2022310173428.tif')\n",
    "    ndvi_qa = os.path.join(root, 'GN_eVSH_NDVI.2022.284-293.1KM.VI_QUAL.001.2022310010552.tif')\n",
    "    ndwi_qa = os.path.join(root, 'GN_eVSH_NDWI.2022.284-293.1KM.WI_QUAL.006.2022310173428.tif')\n",
    "\n",
    "\n",
    "    s3_img_root = 's3://ws-in/ssebop/'\n",
    "    dt_raster = os.path.join(s3_img_root, 'dT/dT_102.tif')\n",
    "    tmax_raster = os.path.join(s3_img_root, 'air_temp/tmax_102.tif')\n",
    "    global_water_raster = os.path.join(s3_img_root, 'masks/global_water_mask_inland.tif')\n",
    "    \n",
    "    # print('WHAT about ndwi_qa do we need that?')\n",
    "    \n",
    "    \n",
    "    my_inputs['gold_standard'] = lst_raster\n",
    "    my_inputs['lst_raster'] = lst_raster\n",
    "\n",
    "    my_inputs['ndvi_raster'] = ndvi_raster\n",
    "    my_inputs['ndwi_raster'] = ndwi_raster\n",
    "    \n",
    "    my_inputs['ndvi_qa'] = ndvi_qa\n",
    "    my_inputs['ndwi_qa'] = ndwi_qa\n",
    "\n",
    "    \n",
    "    my_inputs['dt_raster'] = dt_raster\n",
    "    my_inputs['tmax_raster'] = tmax_raster\n",
    "    my_inputs['global_water_raster'] = global_water_raster\n",
    "    \n",
    "    return(my_inputs)\n",
    "\n",
    "    \n",
    "\n",
    "    "
   ]
  },
  {
   "cell_type": "code",
   "execution_count": 6,
   "id": "9a698657",
   "metadata": {},
   "outputs": [],
   "source": [
    "my_inputs = my_favorite_rasters()"
   ]
  },
  {
   "cell_type": "code",
   "execution_count": 7,
   "id": "c67d0069",
   "metadata": {},
   "outputs": [
    {
     "data": {
      "text/plain": [
       "{'gold_standard': '/wsefs/pipeline/data_test_normToGrid/LS_eVSE_TEMP.2022.284-293.1KM.LST_TEMP.006.2022294042535.tif',\n",
       " 'lst_raster': '/wsefs/pipeline/data_test_normToGrid/LS_eVSE_TEMP.2022.284-293.1KM.LST_TEMP.006.2022294042535.tif',\n",
       " 'ndvi_raster': '/wsefs/pipeline/data_test_normToGrid/GN_eVSH_NDVI.2022.284-293.1KM.VI_NDVI.001.2022310010552.tif',\n",
       " 'ndwi_raster': '/wsefs/pipeline/data_test_normToGrid/GN_eVSH_NDWI.2022.284-293.1KM.WI_NDWI.006.2022310173428.tif',\n",
       " 'ndvi_qa': '/wsefs/pipeline/data_test_normToGrid/GN_eVSH_NDVI.2022.284-293.1KM.VI_QUAL.001.2022310010552.tif',\n",
       " 'ndwi_qa': '/wsefs/pipeline/data_test_normToGrid/GN_eVSH_NDWI.2022.284-293.1KM.WI_QUAL.006.2022310173428.tif',\n",
       " 'dt_raster': 's3://ws-in/ssebop/dT/dT_102.tif',\n",
       " 'tmax_raster': 's3://ws-in/ssebop/air_temp/tmax_102.tif',\n",
       " 'global_water_raster': 's3://ws-in/ssebop/masks/global_water_mask_inland.tif'}"
      ]
     },
     "execution_count": 7,
     "metadata": {},
     "output_type": "execute_result"
    }
   ],
   "source": [
    "my_inputs"
   ]
  },
  {
   "cell_type": "code",
   "execution_count": 8,
   "id": "ac7a2d68",
   "metadata": {},
   "outputs": [],
   "source": [
    "s = rasterio.open('s3://ws-in/ssebop/masks/global_water_mask_inland.tif')"
   ]
  },
  {
   "cell_type": "code",
   "execution_count": 9,
   "id": "daf332d9",
   "metadata": {},
   "outputs": [
    {
     "data": {
      "text/plain": [
       "Affine(0.0020810045, 0.0, -179.99999999990004,\n",
       "       0.0, -0.0020810045, 83.62524685472488)"
      ]
     },
     "execution_count": 9,
     "metadata": {},
     "output_type": "execute_result"
    }
   ],
   "source": [
    "s.transform"
   ]
  },
  {
   "cell_type": "code",
   "execution_count": 11,
   "id": "c9a77d27",
   "metadata": {},
   "outputs": [],
   "source": [
    "# dir(s)"
   ]
  },
  {
   "cell_type": "code",
   "execution_count": 12,
   "id": "5c4f37cf",
   "metadata": {},
   "outputs": [
    {
     "data": {
      "text/plain": [
       "('uint16',)"
      ]
     },
     "execution_count": 12,
     "metadata": {},
     "output_type": "execute_result"
    }
   ],
   "source": [
    "s.dtypes"
   ]
  },
  {
   "cell_type": "code",
   "execution_count": 13,
   "id": "7d7b33fe",
   "metadata": {},
   "outputs": [
    {
     "data": {
      "text/plain": [
       "(None,)"
      ]
     },
     "execution_count": 13,
     "metadata": {},
     "output_type": "execute_result"
    }
   ],
   "source": [
    "s.units"
   ]
  },
  {
   "cell_type": "code",
   "execution_count": 14,
   "id": "b538195b",
   "metadata": {},
   "outputs": [],
   "source": [
    "def get_src_dict(file_url):\n",
    "    d={}\n",
    "    src = rasterio.open(file_url)\n",
    "    d['crs'] = src.crs.to_string()\n",
    "    d['dtypes'] = src.dtypes\n",
    "    d['height'] = src.height\n",
    "    d['width'] = src.width\n",
    "    d['bounds'] = src.bounds\n",
    "    d['compression'] = src.compression\n",
    "    d['transform'] = src.transform\n",
    "    return(d)"
   ]
  },
  {
   "cell_type": "code",
   "execution_count": 15,
   "id": "3c0ef987",
   "metadata": {},
   "outputs": [],
   "source": [
    "def return_characteristics(the_inputs):\n",
    "    #print(the_inputs.keys())\n",
    "    d={}\n",
    "    for ky in the_inputs.keys():\n",
    "        d['name'] = ky\n",
    "        d['file_url'] = the_inputs[ky]\n",
    "        cool_dict = get_src_dict(d['file_url'])\n",
    "        print(ky,cool_dict)"
   ]
  },
  {
   "cell_type": "code",
   "execution_count": 16,
   "id": "9af2a247",
   "metadata": {},
   "outputs": [
    {
     "name": "stdout",
     "output_type": "stream",
     "text": [
      "gold_standard {'crs': 'EPSG:4326', 'dtypes': ('uint16',), 'height': 14505, 'width': 37298, 'bounds': BoundingBox(left=-180.0, bottom=-60.002258848398924, right=180.00029303878546, top=80.0), 'compression': None, 'transform': Affine(0.009651999920606613, 0.0, -180.0,\n",
      "       0.0, -0.009651999920606613, 80.0)}\n",
      "lst_raster {'crs': 'EPSG:4326', 'dtypes': ('uint16',), 'height': 14505, 'width': 37298, 'bounds': BoundingBox(left=-180.0, bottom=-60.002258848398924, right=180.00029303878546, top=80.0), 'compression': None, 'transform': Affine(0.009651999920606613, 0.0, -180.0,\n",
      "       0.0, -0.009651999920606613, 80.0)}\n",
      "ndvi_raster {'crs': 'EPSG:4326', 'dtypes': ('int16',), 'height': 14505, 'width': 37298, 'bounds': BoundingBox(left=-180.0, bottom=-60.002258848398924, right=180.00029303878546, top=80.0), 'compression': None, 'transform': Affine(0.009651999920606613, 0.0, -180.0,\n",
      "       0.0, -0.009651999920606613, 80.0)}\n",
      "ndwi_raster {'crs': 'EPSG:4326', 'dtypes': ('int16',), 'height': 14505, 'width': 37298, 'bounds': BoundingBox(left=-180.0, bottom=-60.002258848398924, right=180.00029303878546, top=80.0), 'compression': None, 'transform': Affine(0.009651999920606613, 0.0, -180.0,\n",
      "       0.0, -0.009651999920606613, 80.0)}\n",
      "ndvi_qa {'crs': 'EPSG:4326', 'dtypes': ('uint8',), 'height': 14505, 'width': 37298, 'bounds': BoundingBox(left=-180.0, bottom=-60.002258848398924, right=180.00029303878546, top=80.0), 'compression': None, 'transform': Affine(0.009651999920606613, 0.0, -180.0,\n",
      "       0.0, -0.009651999920606613, 80.0)}\n",
      "ndwi_qa {'crs': 'EPSG:4326', 'dtypes': ('uint8',), 'height': 14505, 'width': 37298, 'bounds': BoundingBox(left=-180.0, bottom=-60.002258848398924, right=180.00029303878546, top=80.0), 'compression': None, 'transform': Affine(0.009651999920606613, 0.0, -180.0,\n",
      "       0.0, -0.009651999920606613, 80.0)}\n",
      "dt_raster {'crs': 'EPSG:4326', 'dtypes': ('float32',), 'height': 17894, 'width': 37297, 'bounds': BoundingBox(left=-180.0, bottom=-89.02070305299998, right=179.9906402703, top=83.69218315760003), 'compression': None, 'transform': Affine(0.0096519999, 0.0, -180.0,\n",
      "       0.0, -0.0096519999, 83.69218315760003)}\n",
      "tmax_raster {'crs': 'EPSG:4326', 'dtypes': ('float32',), 'height': 18027, 'width': 37298, 'bounds': BoundingBox(left=-180.00013888885002, bottom=-90.00013888884999, right=180.00015338134995, top=83.99646330844999), 'compression': None, 'transform': Affine(0.0096519999, 0.0, -180.00013888885002,\n",
      "       0.0, -0.0096519999, 83.99646330844999)}\n",
      "global_water_raster {'crs': 'EPSG:4326', 'dtypes': ('uint16',), 'height': 81301, 'width': 172993, 'bounds': BoundingBox(left=-179.99999999990004, bottom=-85.56249999977513, right=179.9992114686, top=83.62524685472488), 'compression': <Compression.lzw: 'LZW'>, 'transform': Affine(0.0020810045, 0.0, -179.99999999990004,\n",
      "       0.0, -0.0020810045, 83.62524685472488)}\n"
     ]
    }
   ],
   "source": [
    "return_characteristics(my_inputs)"
   ]
  },
  {
   "cell_type": "markdown",
   "id": "4faa7cc4",
   "metadata": {},
   "source": [
    "# Issues\n",
    "\n",
    "basically we should create better reference iamges in s3.\n",
    "\n",
    "- global_water_raster  - is huge and should be preprocessed at lower resolution and clipped to Kirk Evenson (Bounds)\n",
    "    - global_water_raster - is not wide enuf -179.99 instead of 180.0002 - width will be 37297 insted of 37298\n",
    "- ndwi_qa - likely needs to be in the list - just an omission - no biggie\n",
    "- data types should standardize on int16 dtype\n",
    "- compression and tiling would be nice to reduce disk usage"
   ]
  },
  {
   "cell_type": "code",
   "execution_count": 13,
   "id": "9f58fade",
   "metadata": {},
   "outputs": [],
   "source": [
    "#! mkdir /wsefs/pipeline/data_temp"
   ]
  },
  {
   "cell_type": "code",
   "execution_count": 14,
   "id": "4a2d1469",
   "metadata": {},
   "outputs": [
    {
     "name": "stdout",
     "output_type": "stream",
     "text": [
      "Help on built-in function system in module posix:\n",
      "\n",
      "system(command)\n",
      "    Execute the command in a subshell.\n",
      "\n"
     ]
    }
   ],
   "source": [
    "help(os.system)"
   ]
  },
  {
   "cell_type": "code",
   "execution_count": 15,
   "id": "1707ec72",
   "metadata": {},
   "outputs": [],
   "source": [
    "# ! rio clip --help"
   ]
  },
  {
   "cell_type": "code",
   "execution_count": 16,
   "id": "114b30f5",
   "metadata": {},
   "outputs": [
    {
     "data": {
      "text/plain": [
       "'/wsefs/pipeline/data_test_normToGrid/LS_eVSE_TEMP.2022.284-293.1KM.LST_TEMP.006.2022294042535.tif'"
      ]
     },
     "execution_count": 16,
     "metadata": {},
     "output_type": "execute_result"
    }
   ],
   "source": [
    "my_inputs['gold_standard']"
   ]
  },
  {
   "cell_type": "code",
   "execution_count": 17,
   "id": "4c0c516a",
   "metadata": {},
   "outputs": [
    {
     "data": {
      "text/plain": [
       "{'gold_standard': '/wsefs/pipeline/data_test_normToGrid/LS_eVSE_TEMP.2022.284-293.1KM.LST_TEMP.006.2022294042535.tif',\n",
       " 'lst_raster': '/wsefs/pipeline/data_test_normToGrid/LS_eVSE_TEMP.2022.284-293.1KM.LST_TEMP.006.2022294042535.tif',\n",
       " 'ndvi_raster': '/wsefs/pipeline/data_test_normToGrid/GN_eVSH_NDVI.2022.284-293.1KM.VI_NDVI.001.2022310010552.tif',\n",
       " 'ndwi_raster': '/wsefs/pipeline/data_test_normToGrid/GN_eVSH_NDWI.2022.284-293.1KM.WI_NDWI.006.2022310173428.tif',\n",
       " 'ndvi_qa': '/wsefs/pipeline/data_test_normToGrid/GN_eVSH_NDVI.2022.284-293.1KM.VI_QUAL.001.2022310010552.tif',\n",
       " 'dt_raster': 's3://ws-in/ssebop/dT/dT_102.tif',\n",
       " 'tmax_raster': 's3://ws-in/ssebop/air_temp/tmax_102.tif',\n",
       " 'global_water_raster': 's3://ws-in/ssebop/masks/global_water_mask_inland.tif'}"
      ]
     },
     "execution_count": 17,
     "metadata": {},
     "output_type": "execute_result"
    }
   ],
   "source": [
    "my_inputs"
   ]
  },
  {
   "cell_type": "code",
   "execution_count": 18,
   "id": "bd539e4d",
   "metadata": {},
   "outputs": [],
   "source": [
    "# ! rio clip s3://ws-in/ssebop/masks/global_water_mask_inland.tif /wsefs/pipeline/data_temp/global_water_mask_inland.tif \\\n",
    "#     --like /wsefs/pipeline/data_test_normToGrid/LS_eVSE_TEMP.2022.284-293.1KM.LST_TEMP.006.2022294042535.tif \\\n",
    "#     --overwrite --co tiled=true --co blockxsize=256 --co blockysize=256 --co compress=LZW"
   ]
  },
  {
   "cell_type": "code",
   "execution_count": 19,
   "id": "139784ce",
   "metadata": {},
   "outputs": [
    {
     "name": "stdout",
     "output_type": "stream",
     "text": [
      "defaults = {\r\n",
      "        'driver': 'GTiff',\r\n",
      "        'interleave': 'band',\r\n",
      "        'tiled': True,\r\n",
      "        'blockxsize': 256,\r\n",
      "        'blockysize': 256,\r\n",
      "        'compress': 'lzw',\r\n",
      "        'nodata': 0,\r\n",
      "        'dtype': uint16\r\n",
      "    }"
     ]
    }
   ],
   "source": [
    "! cat my_profile.json"
   ]
  },
  {
   "cell_type": "code",
   "execution_count": 20,
   "id": "34afe678",
   "metadata": {},
   "outputs": [
    {
     "data": {
      "text/plain": [
       "46.553108272"
      ]
     },
     "execution_count": 20,
     "metadata": {},
     "output_type": "execute_result"
    }
   ],
   "source": [
    "46553108272 / 1e9"
   ]
  },
  {
   "cell_type": "code",
   "execution_count": null,
   "id": "c7258cf5",
   "metadata": {},
   "outputs": [],
   "source": []
  },
  {
   "cell_type": "code",
   "execution_count": 21,
   "id": "efe0e7ad",
   "metadata": {},
   "outputs": [],
   "source": [
    "# ! rio clip s3://ws-in/ssebop/masks/global_water_mask_inland.tif /wsefs/pipeline/data_temp/global_water_mask_inland.tif \\\n",
    "#     --bounds '[-180.0, -60.002258848398924, 180.00029303878546, 80.0]' --overwrite"
   ]
  },
  {
   "cell_type": "code",
   "execution_count": 22,
   "id": "edce1970",
   "metadata": {},
   "outputs": [
    {
     "data": {
      "text/plain": [
       "\"\\nimport rasterio\\nfrom rasterio.windows import from_bounds\\nfrom rasterio.enums import Resampling\\n\\n(left, bottom, right, top) = [-180.0, -60.002258848398924, 180.00029303878546, 80.0]\\n\\nfilepath = my_inputs['global_water_raster']\\nwith rasterio.open(filepath) as src:\\n    rst = src.read(1, window=from_bounds(left, bottom, right, top, src.transform))\\n\""
      ]
     },
     "execution_count": 22,
     "metadata": {},
     "output_type": "execute_result"
    }
   ],
   "source": [
    "\n",
    "'''\n",
    "import rasterio\n",
    "from rasterio.windows import from_bounds\n",
    "from rasterio.enums import Resampling\n",
    "\n",
    "(left, bottom, right, top) = [-180.0, -60.002258848398924, 180.00029303878546, 80.0]\n",
    "\n",
    "filepath = my_inputs['global_water_raster']\n",
    "with rasterio.open(filepath) as src:\n",
    "    rst = src.read(1, window=from_bounds(left, bottom, right, top, src.transform))\n",
    "'''"
   ]
  },
  {
   "cell_type": "code",
   "execution_count": 23,
   "id": "a94a90f2",
   "metadata": {},
   "outputs": [],
   "source": [
    "# dir(rst)"
   ]
  },
  {
   "cell_type": "code",
   "execution_count": 24,
   "id": "129215de",
   "metadata": {},
   "outputs": [],
   "source": [
    "# rst.shape"
   ]
  },
  {
   "cell_type": "code",
   "execution_count": 25,
   "id": "48d8670f",
   "metadata": {},
   "outputs": [],
   "source": [
    "# src.shape"
   ]
  },
  {
   "cell_type": "code",
   "execution_count": 26,
   "id": "5427c3b4",
   "metadata": {},
   "outputs": [],
   "source": [
    "sample_file = my_inputs['gold_standard']"
   ]
  },
  {
   "cell_type": "code",
   "execution_count": 27,
   "id": "cb7d7715",
   "metadata": {},
   "outputs": [],
   "source": [
    "with rasterio.open(sample_file) as src:\n",
    "\n",
    "        out_meta = src.meta\n",
    "        crs = out_meta['crs']\n",
    "        transform = out_meta['transform']\n",
    "        left = transform[2]\n",
    "        top = transform[5]\n",
    "        cols = out_meta['width']\n",
    "        rows = out_meta['height']\n",
    "        xres = transform[0]\n",
    "        yres = transform[4]\n",
    "        # return out_meta\n"
   ]
  },
  {
   "cell_type": "code",
   "execution_count": 28,
   "id": "ad329d30",
   "metadata": {},
   "outputs": [
    {
     "data": {
      "text/plain": [
       "37298"
      ]
     },
     "execution_count": 28,
     "metadata": {},
     "output_type": "execute_result"
    }
   ],
   "source": [
    "cols"
   ]
  },
  {
   "cell_type": "code",
   "execution_count": 29,
   "id": "20b880c5",
   "metadata": {},
   "outputs": [],
   "source": [
    "cols= cols - 1 # ugly fudge for not big enuf data - see issues"
   ]
  },
  {
   "cell_type": "code",
   "execution_count": 30,
   "id": "8d24a65e",
   "metadata": {},
   "outputs": [
    {
     "data": {
      "text/plain": [
       "37297"
      ]
     },
     "execution_count": 30,
     "metadata": {},
     "output_type": "execute_result"
    }
   ],
   "source": [
    "cols"
   ]
  },
  {
   "cell_type": "code",
   "execution_count": 34,
   "id": "e972b54b",
   "metadata": {},
   "outputs": [],
   "source": [
    "from rasterio.enums import Resampling\n",
    "from rasterio.vrt import WarpedVRT\n",
    "from rasterio import shutil as rio_shutil\n",
    "\n",
    "rs = Resampling.nearest\n",
    "\n",
    "warpfile=my_inputs['global_water_raster']\n",
    "\n",
    "outdtype='int16' # 'float32', 'float64'\n",
    "\n",
    "with rasterio.open(warpfile, 'r') as src:\n",
    "    with WarpedVRT(src, resampling=rs,\n",
    "                           crs=crs,\n",
    "                           transform=transform,\n",
    "                           height=rows,\n",
    "                           width=cols,\n",
    "                           dtype=outdtype) as vrt:\n",
    "        outwarp='/wsefs/pipeline/ndata/global_water_raster.tif'\n",
    "        rio_shutil.copy(vrt, outwarp, driver='GTiff')\n",
    "        \n"
   ]
  },
  {
   "cell_type": "code",
   "execution_count": 36,
   "id": "34339ac0",
   "metadata": {},
   "outputs": [],
   "source": [
    "my_creation_options = {\n",
    "    'compress':'LZW',\n",
    "    'tiled':True, \n",
    "    'blockxsize':256, \n",
    "    'blockysize':256\n",
    "}\n"
   ]
  },
  {
   "cell_type": "code",
   "execution_count": 39,
   "id": "f32e2002",
   "metadata": {},
   "outputs": [],
   "source": [
    "with rasterio.open(warpfile, 'r') as src:\n",
    "    with WarpedVRT(src, resampling=rs,\n",
    "                           crs=crs,\n",
    "                           transform=transform,\n",
    "                           height=rows,\n",
    "                           width=cols,\n",
    "                           dtype=outdtype) as vrt:\n",
    "        outwarp='/wsefs/pipeline/ndata/z_global_water_raster.tif'\n",
    "        rio_shutil.copy(vrt, outwarp, driver='GTiff', **my_creation_options)"
   ]
  },
  {
   "cell_type": "code",
   "execution_count": 38,
   "id": "fbf0e55a",
   "metadata": {},
   "outputs": [
    {
     "name": "stdout",
     "output_type": "stream",
     "text": [
      "Help on module rasterio.shutil in rasterio:\n",
      "\n",
      "NAME\n",
      "    rasterio.shutil - Raster file management.\n",
      "\n",
      "FUNCTIONS\n",
      "    copy(...)\n",
      "        Copy a raster from a path or open dataset handle to a new destination\n",
      "        with driver specific creation options.\n",
      "        \n",
      "        Parameters\n",
      "        ----------\n",
      "        src : str or PathLike or dataset object opened in 'r' mode\n",
      "            Source dataset\n",
      "        dst : str or PathLike\n",
      "            Output dataset path\n",
      "        driver : str, optional\n",
      "            Output driver name\n",
      "        strict : bool, optional.  Default: True\n",
      "            Indicates if the output must be strictly equivalent or if the\n",
      "            driver may adapt as necessary\n",
      "        creation_options : dict, optional\n",
      "            Creation options for output dataset\n",
      "        \n",
      "        Returns\n",
      "        -------\n",
      "        None\n",
      "    \n",
      "    copyfiles(...)\n",
      "        Copy files associated with a dataset from one location to another.\n",
      "        \n",
      "        Parameters\n",
      "        ----------\n",
      "        src : str or PathLike\n",
      "            Source dataset\n",
      "        dst : str or PathLike\n",
      "            Target dataset\n",
      "        \n",
      "        Returns\n",
      "        -------\n",
      "        None\n",
      "    \n",
      "    delete(...)\n",
      "        Delete a GDAL dataset\n",
      "        \n",
      "        Parameters\n",
      "        ----------\n",
      "        path : path\n",
      "            Path to dataset to delete\n",
      "        driver : str or None, optional\n",
      "            Name of driver to use for deleting.  Defaults to whatever GDAL\n",
      "            determines is the appropriate driver\n",
      "    \n",
      "    exists(...)\n",
      "        Determine if a dataset exists by attempting to open it.\n",
      "        \n",
      "        Parameters\n",
      "        ----------\n",
      "        path : str\n",
      "            Path to dataset\n",
      "\n",
      "DATA\n",
      "    __test__ = {}\n",
      "    log = <Logger rasterio.shutil (WARNING)>\n",
      "\n",
      "FILE\n",
      "    /wsefs/miniconda3/envs/ssconus1121/lib/python3.10/site-packages/rasterio/shutil.cpython-310-x86_64-linux-gnu.so\n",
      "\n",
      "\n"
     ]
    }
   ],
   "source": [
    "help(rio_shutil)"
   ]
  },
  {
   "cell_type": "code",
   "execution_count": null,
   "id": "9de363cb",
   "metadata": {},
   "outputs": [],
   "source": []
  }
 ],
 "metadata": {
  "kernelspec": {
   "display_name": "Python 3 (ipykernel)",
   "language": "python",
   "name": "python3"
  },
  "language_info": {
   "codemirror_mode": {
    "name": "ipython",
    "version": 3
   },
   "file_extension": ".py",
   "mimetype": "text/x-python",
   "name": "python",
   "nbconvert_exporter": "python",
   "pygments_lexer": "ipython3",
   "version": "3.10.6"
  }
 },
 "nbformat": 4,
 "nbformat_minor": 5
}
