{
 "cells": [
  {
   "cell_type": "code",
   "execution_count": 3,
   "id": "36706479",
   "metadata": {},
   "outputs": [],
   "source": [
    "import os\n",
    "import rasterio"
   ]
  },
  {
   "cell_type": "code",
   "execution_count": 4,
   "id": "d666bb84",
   "metadata": {},
   "outputs": [],
   "source": [
    "def my_favorite_rasters():\n",
    "    \n",
    "    my_inputs={}\n",
    "    # hardcoding some paths to files\n",
    "    root = '/wsefs/pipeline/data_test_normToGrid'\n",
    "    lst_raster = os.path.join(root, 'LS_eVSE_TEMP.2022.284-293.1KM.LST_TEMP.006.2022294042535.tif')\n",
    "    ndvi_raster = os.path.join(root, 'GN_eVSH_NDVI.2022.284-293.1KM.VI_NDVI.001.2022310010552.tif')\n",
    "    ndwi_raster = os.path.join(root, 'GN_eVSH_NDWI.2022.284-293.1KM.WI_NDWI.006.2022310173428.tif')\n",
    "    ndvi_qa = os.path.join(root, 'GN_eVSH_NDVI.2022.284-293.1KM.VI_QUAL.001.2022310010552.tif')\n",
    "    ndwi_qa = os.path.join(root, 'GN_eVSH_NDWI.2022.284-293.1KM.WI_QUAL.006.2022310173428.tif')\n",
    "\n",
    "\n",
    "    s3_img_root = 's3://ws-in/ssebop/'\n",
    "    dt_raster = os.path.join(s3_img_root, 'dT/dT_102.tif')\n",
    "    tmax_raster = os.path.join(s3_img_root, 'air_temp/tmax_102.tif')\n",
    "    etr_raster = os.path.join(s3_img_root, 'etr/Hobbins/etr_102.tif')\n",
    "    global_water_raster = os.path.join(s3_img_root, 'masks/global_water_mask_inland.tif')\n",
    "    \n",
    "    # print('WHAT about ndwi_qa do we need that?')\n",
    "    \n",
    "    \n",
    "    my_inputs['gold_standard'] = lst_raster\n",
    "    my_inputs['lst_raster'] = lst_raster\n",
    "\n",
    "    my_inputs['ndvi_raster'] = ndvi_raster\n",
    "    my_inputs['ndwi_raster'] = ndwi_raster\n",
    "    \n",
    "    my_inputs['ndvi_qa'] = ndvi_qa\n",
    "    my_inputs['ndwi_qa'] = ndwi_qa\n",
    "\n",
    "    \n",
    "    my_inputs['dt_raster'] = dt_raster\n",
    "    my_inputs['tmax_raster'] = tmax_raster\n",
    "    my_inputs['etr_raster'] = etr_raster\n",
    "\n",
    "    my_inputs['global_water_raster'] = global_water_raster\n",
    "    \n",
    "    return(my_inputs)\n",
    "\n",
    "    \n",
    "\n",
    "    "
   ]
  },
  {
   "cell_type": "code",
   "execution_count": 5,
   "id": "9a698657",
   "metadata": {},
   "outputs": [],
   "source": [
    "my_inputs = my_favorite_rasters()"
   ]
  },
  {
   "cell_type": "code",
   "execution_count": 7,
   "id": "c67d0069",
   "metadata": {},
   "outputs": [
    {
     "data": {
      "text/plain": [
       "{'gold_standard': '/wsefs/pipeline/data_test_normToGrid/LS_eVSE_TEMP.2022.284-293.1KM.LST_TEMP.006.2022294042535.tif',\n",
       " 'lst_raster': '/wsefs/pipeline/data_test_normToGrid/LS_eVSE_TEMP.2022.284-293.1KM.LST_TEMP.006.2022294042535.tif',\n",
       " 'ndvi_raster': '/wsefs/pipeline/data_test_normToGrid/GN_eVSH_NDVI.2022.284-293.1KM.VI_NDVI.001.2022310010552.tif',\n",
       " 'ndwi_raster': '/wsefs/pipeline/data_test_normToGrid/GN_eVSH_NDWI.2022.284-293.1KM.WI_NDWI.006.2022310173428.tif',\n",
       " 'ndvi_qa': '/wsefs/pipeline/data_test_normToGrid/GN_eVSH_NDVI.2022.284-293.1KM.VI_QUAL.001.2022310010552.tif',\n",
       " 'ndwi_qa': '/wsefs/pipeline/data_test_normToGrid/GN_eVSH_NDWI.2022.284-293.1KM.WI_QUAL.006.2022310173428.tif',\n",
       " 'dt_raster': 's3://ws-in/ssebop/dT/dT_102.tif',\n",
       " 'tmax_raster': 's3://ws-in/ssebop/air_temp/tmax_102.tif',\n",
       " 'etr_raster': 's3://ws-in/ssebop/etr/Hobbins/etr_102.tif',\n",
       " 'global_water_raster': 's3://ws-in/ssebop/masks/global_water_mask_inland.tif'}"
      ]
     },
     "execution_count": 7,
     "metadata": {},
     "output_type": "execute_result"
    }
   ],
   "source": [
    "my_inputs"
   ]
  },
  {
   "cell_type": "code",
   "execution_count": 8,
   "id": "ac7a2d68",
   "metadata": {},
   "outputs": [],
   "source": [
    "s = rasterio.open('s3://ws-in/ssebop/masks/global_water_mask_inland.tif')"
   ]
  },
  {
   "cell_type": "code",
   "execution_count": 9,
   "id": "daf332d9",
   "metadata": {},
   "outputs": [
    {
     "data": {
      "text/plain": [
       "Affine(0.0020810045, 0.0, -179.99999999990004,\n",
       "       0.0, -0.0020810045, 83.62524685472488)"
      ]
     },
     "execution_count": 9,
     "metadata": {},
     "output_type": "execute_result"
    }
   ],
   "source": [
    "s.transform"
   ]
  },
  {
   "cell_type": "code",
   "execution_count": 10,
   "id": "c9a77d27",
   "metadata": {},
   "outputs": [],
   "source": [
    "# dir(s)"
   ]
  },
  {
   "cell_type": "code",
   "execution_count": 11,
   "id": "5c4f37cf",
   "metadata": {},
   "outputs": [
    {
     "data": {
      "text/plain": [
       "('uint16',)"
      ]
     },
     "execution_count": 11,
     "metadata": {},
     "output_type": "execute_result"
    }
   ],
   "source": [
    "s.dtypes"
   ]
  },
  {
   "cell_type": "code",
   "execution_count": 12,
   "id": "7d7b33fe",
   "metadata": {},
   "outputs": [
    {
     "data": {
      "text/plain": [
       "(None,)"
      ]
     },
     "execution_count": 12,
     "metadata": {},
     "output_type": "execute_result"
    }
   ],
   "source": [
    "s.units"
   ]
  },
  {
   "cell_type": "code",
   "execution_count": 13,
   "id": "b538195b",
   "metadata": {},
   "outputs": [],
   "source": [
    "def get_src_dict(file_url):\n",
    "    d={}\n",
    "    src = rasterio.open(file_url)\n",
    "    d['crs'] = src.crs.to_string()\n",
    "    d['dtypes'] = src.dtypes\n",
    "    d['height'] = src.height\n",
    "    d['width'] = src.width\n",
    "    d['bounds'] = src.bounds\n",
    "    d['compression'] = src.compression\n",
    "    d['transform'] = src.transform\n",
    "    return(d)"
   ]
  },
  {
   "cell_type": "code",
   "execution_count": 14,
   "id": "3c0ef987",
   "metadata": {},
   "outputs": [],
   "source": [
    "def return_characteristics(the_inputs):\n",
    "    #print(the_inputs.keys())\n",
    "    d={}\n",
    "    for ky in the_inputs.keys():\n",
    "        d['name'] = ky\n",
    "        d['file_url'] = the_inputs[ky]\n",
    "        cool_dict = get_src_dict(d['file_url'])\n",
    "        print(ky,cool_dict)"
   ]
  },
  {
   "cell_type": "code",
   "execution_count": 15,
   "id": "9af2a247",
   "metadata": {},
   "outputs": [
    {
     "name": "stdout",
     "output_type": "stream",
     "text": [
      "gold_standard {'crs': 'EPSG:4326', 'dtypes': ('uint16',), 'height': 14505, 'width': 37298, 'bounds': BoundingBox(left=-180.0, bottom=-60.002258848398924, right=180.00029303878546, top=80.0), 'compression': None, 'transform': Affine(0.009651999920606613, 0.0, -180.0,\n",
      "       0.0, -0.009651999920606613, 80.0)}\n",
      "lst_raster {'crs': 'EPSG:4326', 'dtypes': ('uint16',), 'height': 14505, 'width': 37298, 'bounds': BoundingBox(left=-180.0, bottom=-60.002258848398924, right=180.00029303878546, top=80.0), 'compression': None, 'transform': Affine(0.009651999920606613, 0.0, -180.0,\n",
      "       0.0, -0.009651999920606613, 80.0)}\n",
      "ndvi_raster {'crs': 'EPSG:4326', 'dtypes': ('int16',), 'height': 14505, 'width': 37298, 'bounds': BoundingBox(left=-180.0, bottom=-60.002258848398924, right=180.00029303878546, top=80.0), 'compression': None, 'transform': Affine(0.009651999920606613, 0.0, -180.0,\n",
      "       0.0, -0.009651999920606613, 80.0)}\n",
      "ndwi_raster {'crs': 'EPSG:4326', 'dtypes': ('int16',), 'height': 14505, 'width': 37298, 'bounds': BoundingBox(left=-180.0, bottom=-60.002258848398924, right=180.00029303878546, top=80.0), 'compression': None, 'transform': Affine(0.009651999920606613, 0.0, -180.0,\n",
      "       0.0, -0.009651999920606613, 80.0)}\n",
      "ndvi_qa {'crs': 'EPSG:4326', 'dtypes': ('uint8',), 'height': 14505, 'width': 37298, 'bounds': BoundingBox(left=-180.0, bottom=-60.002258848398924, right=180.00029303878546, top=80.0), 'compression': None, 'transform': Affine(0.009651999920606613, 0.0, -180.0,\n",
      "       0.0, -0.009651999920606613, 80.0)}\n",
      "ndwi_qa {'crs': 'EPSG:4326', 'dtypes': ('uint8',), 'height': 14505, 'width': 37298, 'bounds': BoundingBox(left=-180.0, bottom=-60.002258848398924, right=180.00029303878546, top=80.0), 'compression': None, 'transform': Affine(0.009651999920606613, 0.0, -180.0,\n",
      "       0.0, -0.009651999920606613, 80.0)}\n",
      "dt_raster {'crs': 'EPSG:4326', 'dtypes': ('float32',), 'height': 17894, 'width': 37297, 'bounds': BoundingBox(left=-180.0, bottom=-89.02070305299998, right=179.9906402703, top=83.69218315760003), 'compression': None, 'transform': Affine(0.0096519999, 0.0, -180.0,\n",
      "       0.0, -0.0096519999, 83.69218315760003)}\n",
      "tmax_raster {'crs': 'EPSG:4326', 'dtypes': ('float32',), 'height': 18027, 'width': 37298, 'bounds': BoundingBox(left=-180.00013888885002, bottom=-90.00013888884999, right=180.00015338134995, top=83.99646330844999), 'compression': None, 'transform': Affine(0.0096519999, 0.0, -180.00013888885002,\n",
      "       0.0, -0.0096519999, 83.99646330844999)}\n",
      "etr_raster {'crs': 'EPSG:4326', 'dtypes': ('float32',), 'height': 4224, 'width': 8637, 'bounds': BoundingBox(left=-179.99583330000164, bottom=-89.99583333333675, right=179.879166700009, top=86.00416666666845), 'compression': None, 'transform': Affine(0.0416666666666679, 0.0, -179.99583330000164,\n",
      "       0.0, -0.0416666666666679, 86.00416666666845)}\n",
      "global_water_raster {'crs': 'EPSG:4326', 'dtypes': ('uint16',), 'height': 81301, 'width': 172993, 'bounds': BoundingBox(left=-179.99999999990004, bottom=-85.56249999977513, right=179.9992114686, top=83.62524685472488), 'compression': <Compression.lzw: 'LZW'>, 'transform': Affine(0.0020810045, 0.0, -179.99999999990004,\n",
      "       0.0, -0.0020810045, 83.62524685472488)}\n"
     ]
    }
   ],
   "source": [
    "return_characteristics(my_inputs)"
   ]
  },
  {
   "cell_type": "markdown",
   "id": "4faa7cc4",
   "metadata": {},
   "source": [
    "# Issues\n",
    "\n",
    "basically we should create better reference iamges in s3.\n",
    "\n",
    "- global_water_raster  - is huge and should be preprocessed at lower resolution and clipped to Kirk Evenson (Bounds)\n",
    "    - global_water_raster - is not wide enuf -179.99 instead of 180.0002 - width will be 37297 insted of 37298\n",
    "- ndwi_qa - likely needs to be in the list - just an omission - no biggie\n",
    "- data types should standardize on int16 dtype\n",
    "- compression and tiling would be nice to reduce disk usage"
   ]
  },
  {
   "cell_type": "code",
   "execution_count": 16,
   "id": "9f58fade",
   "metadata": {},
   "outputs": [],
   "source": [
    "#! mkdir /wsefs/pipeline/data_temp"
   ]
  },
  {
   "cell_type": "code",
   "execution_count": 17,
   "id": "4a2d1469",
   "metadata": {},
   "outputs": [
    {
     "name": "stdout",
     "output_type": "stream",
     "text": [
      "Help on built-in function system in module posix:\n",
      "\n",
      "system(command)\n",
      "    Execute the command in a subshell.\n",
      "\n"
     ]
    }
   ],
   "source": [
    "help(os.system)"
   ]
  },
  {
   "cell_type": "code",
   "execution_count": 18,
   "id": "1707ec72",
   "metadata": {},
   "outputs": [],
   "source": [
    "# ! rio clip --help"
   ]
  },
  {
   "cell_type": "code",
   "execution_count": 19,
   "id": "114b30f5",
   "metadata": {},
   "outputs": [
    {
     "data": {
      "text/plain": [
       "'/wsefs/pipeline/data_test_normToGrid/LS_eVSE_TEMP.2022.284-293.1KM.LST_TEMP.006.2022294042535.tif'"
      ]
     },
     "execution_count": 19,
     "metadata": {},
     "output_type": "execute_result"
    }
   ],
   "source": [
    "my_inputs['gold_standard']"
   ]
  },
  {
   "cell_type": "code",
   "execution_count": 20,
   "id": "4c0c516a",
   "metadata": {},
   "outputs": [
    {
     "data": {
      "text/plain": [
       "{'gold_standard': '/wsefs/pipeline/data_test_normToGrid/LS_eVSE_TEMP.2022.284-293.1KM.LST_TEMP.006.2022294042535.tif',\n",
       " 'lst_raster': '/wsefs/pipeline/data_test_normToGrid/LS_eVSE_TEMP.2022.284-293.1KM.LST_TEMP.006.2022294042535.tif',\n",
       " 'ndvi_raster': '/wsefs/pipeline/data_test_normToGrid/GN_eVSH_NDVI.2022.284-293.1KM.VI_NDVI.001.2022310010552.tif',\n",
       " 'ndwi_raster': '/wsefs/pipeline/data_test_normToGrid/GN_eVSH_NDWI.2022.284-293.1KM.WI_NDWI.006.2022310173428.tif',\n",
       " 'ndvi_qa': '/wsefs/pipeline/data_test_normToGrid/GN_eVSH_NDVI.2022.284-293.1KM.VI_QUAL.001.2022310010552.tif',\n",
       " 'ndwi_qa': '/wsefs/pipeline/data_test_normToGrid/GN_eVSH_NDWI.2022.284-293.1KM.WI_QUAL.006.2022310173428.tif',\n",
       " 'dt_raster': 's3://ws-in/ssebop/dT/dT_102.tif',\n",
       " 'tmax_raster': 's3://ws-in/ssebop/air_temp/tmax_102.tif',\n",
       " 'etr_raster': 's3://ws-in/ssebop/etr/Hobbins/etr_102.tif',\n",
       " 'global_water_raster': 's3://ws-in/ssebop/masks/global_water_mask_inland.tif'}"
      ]
     },
     "execution_count": 20,
     "metadata": {},
     "output_type": "execute_result"
    }
   ],
   "source": [
    "my_inputs"
   ]
  },
  {
   "cell_type": "code",
   "execution_count": 21,
   "id": "bd539e4d",
   "metadata": {},
   "outputs": [],
   "source": [
    "# ! rio clip s3://ws-in/ssebop/masks/global_water_mask_inland.tif /wsefs/pipeline/data_temp/global_water_mask_inland.tif \\\n",
    "#     --like /wsefs/pipeline/data_test_normToGrid/LS_eVSE_TEMP.2022.284-293.1KM.LST_TEMP.006.2022294042535.tif \\\n",
    "#     --overwrite --co tiled=true --co blockxsize=256 --co blockysize=256 --co compress=LZW"
   ]
  },
  {
   "cell_type": "code",
   "execution_count": 22,
   "id": "139784ce",
   "metadata": {},
   "outputs": [
    {
     "name": "stdout",
     "output_type": "stream",
     "text": [
      "defaults = {\r\n",
      "        'driver': 'GTiff',\r\n",
      "        'interleave': 'band',\r\n",
      "        'tiled': True,\r\n",
      "        'blockxsize': 256,\r\n",
      "        'blockysize': 256,\r\n",
      "        'compress': 'lzw',\r\n",
      "        'nodata': 0,\r\n",
      "        'dtype': uint16\r\n",
      "    }"
     ]
    }
   ],
   "source": [
    "! cat my_profile.json"
   ]
  },
  {
   "cell_type": "code",
   "execution_count": 23,
   "id": "34afe678",
   "metadata": {},
   "outputs": [
    {
     "data": {
      "text/plain": [
       "46.553108272"
      ]
     },
     "execution_count": 23,
     "metadata": {},
     "output_type": "execute_result"
    }
   ],
   "source": [
    "46553108272 / 1e9"
   ]
  },
  {
   "cell_type": "code",
   "execution_count": null,
   "id": "c7258cf5",
   "metadata": {},
   "outputs": [],
   "source": []
  },
  {
   "cell_type": "code",
   "execution_count": 24,
   "id": "efe0e7ad",
   "metadata": {},
   "outputs": [],
   "source": [
    "# ! rio clip s3://ws-in/ssebop/masks/global_water_mask_inland.tif /wsefs/pipeline/data_temp/global_water_mask_inland.tif \\\n",
    "#     --bounds '[-180.0, -60.002258848398924, 180.00029303878546, 80.0]' --overwrite"
   ]
  },
  {
   "cell_type": "code",
   "execution_count": 25,
   "id": "edce1970",
   "metadata": {},
   "outputs": [
    {
     "data": {
      "text/plain": [
       "\"\\nimport rasterio\\nfrom rasterio.windows import from_bounds\\nfrom rasterio.enums import Resampling\\n\\n(left, bottom, right, top) = [-180.0, -60.002258848398924, 180.00029303878546, 80.0]\\n\\nfilepath = my_inputs['global_water_raster']\\nwith rasterio.open(filepath) as src:\\n    rst = src.read(1, window=from_bounds(left, bottom, right, top, src.transform))\\n\""
      ]
     },
     "execution_count": 25,
     "metadata": {},
     "output_type": "execute_result"
    }
   ],
   "source": [
    "\n",
    "'''\n",
    "import rasterio\n",
    "from rasterio.windows import from_bounds\n",
    "from rasterio.enums import Resampling\n",
    "\n",
    "(left, bottom, right, top) = [-180.0, -60.002258848398924, 180.00029303878546, 80.0]\n",
    "\n",
    "filepath = my_inputs['global_water_raster']\n",
    "with rasterio.open(filepath) as src:\n",
    "    rst = src.read(1, window=from_bounds(left, bottom, right, top, src.transform))\n",
    "'''"
   ]
  },
  {
   "cell_type": "code",
   "execution_count": 26,
   "id": "a94a90f2",
   "metadata": {},
   "outputs": [],
   "source": [
    "# dir(rst)"
   ]
  },
  {
   "cell_type": "code",
   "execution_count": 27,
   "id": "129215de",
   "metadata": {},
   "outputs": [],
   "source": [
    "# rst.shape"
   ]
  },
  {
   "cell_type": "code",
   "execution_count": 28,
   "id": "48d8670f",
   "metadata": {},
   "outputs": [],
   "source": [
    "# src.shape"
   ]
  },
  {
   "cell_type": "code",
   "execution_count": 29,
   "id": "5427c3b4",
   "metadata": {},
   "outputs": [],
   "source": [
    "sample_file = my_inputs['gold_standard']"
   ]
  },
  {
   "cell_type": "code",
   "execution_count": 30,
   "id": "cb7d7715",
   "metadata": {},
   "outputs": [],
   "source": [
    "with rasterio.open(sample_file) as src:\n",
    "\n",
    "        out_meta = src.meta\n",
    "        crs = out_meta['crs']\n",
    "        transform = out_meta['transform']\n",
    "        left = transform[2]\n",
    "        top = transform[5]\n",
    "        cols = out_meta['width']\n",
    "        rows = out_meta['height']\n",
    "        xres = transform[0]\n",
    "        yres = transform[4]\n",
    "        # return out_meta\n"
   ]
  },
  {
   "cell_type": "code",
   "execution_count": 31,
   "id": "ad329d30",
   "metadata": {},
   "outputs": [
    {
     "data": {
      "text/plain": [
       "37298"
      ]
     },
     "execution_count": 31,
     "metadata": {},
     "output_type": "execute_result"
    }
   ],
   "source": [
    "cols"
   ]
  },
  {
   "cell_type": "code",
   "execution_count": 32,
   "id": "20b880c5",
   "metadata": {},
   "outputs": [],
   "source": [
    "cols= cols - 1 # ugly fudge for not big enuf data - see issues"
   ]
  },
  {
   "cell_type": "code",
   "execution_count": 33,
   "id": "8d24a65e",
   "metadata": {},
   "outputs": [
    {
     "data": {
      "text/plain": [
       "37297"
      ]
     },
     "execution_count": 33,
     "metadata": {},
     "output_type": "execute_result"
    }
   ],
   "source": [
    "cols"
   ]
  },
  {
   "cell_type": "code",
   "execution_count": null,
   "id": "56161878",
   "metadata": {},
   "outputs": [],
   "source": []
  },
  {
   "cell_type": "code",
   "execution_count": 34,
   "id": "34339ac0",
   "metadata": {},
   "outputs": [],
   "source": [
    "from rasterio.enums import Resampling\n",
    "from rasterio.vrt import WarpedVRT\n",
    "from rasterio import shutil as rio_shutil\n",
    "\n",
    "def warp_me(sample_file, in_file, out_file, out_datatype):\n",
    "    \n",
    "    with rasterio.open(sample_file) as src:\n",
    "\n",
    "        out_meta = src.meta\n",
    "        crs = out_meta['crs']\n",
    "        transform = out_meta['transform']\n",
    "        left = transform[2]\n",
    "        top = transform[5]\n",
    "        cols = out_meta['width']\n",
    "        rows = out_meta['height']\n",
    "        xres = transform[0]\n",
    "        yres = transform[4]\n",
    "\n",
    "    my_creation_options = {\n",
    "        'compress':'LZW',\n",
    "        'tiled':True, \n",
    "        'blockxsize':256, \n",
    "        'blockysize':256\n",
    "    }\n",
    "\n",
    "    rs = Resampling.nearest\n",
    "    outdtype = out_datatype\n",
    "    warpfile = in_file\n",
    "    with rasterio.open(warpfile, 'r') as src:\n",
    "        with WarpedVRT(src, resampling=rs,\n",
    "                               crs=crs,\n",
    "                               transform=transform,\n",
    "                               height=rows,\n",
    "                               width=cols,\n",
    "                               dtype=outdtype) as vrt:\n",
    "            outwarp=out_file\n",
    "            rio_shutil.copy(vrt, outwarp, driver='GTiff', **my_creation_options)"
   ]
  },
  {
   "cell_type": "code",
   "execution_count": 35,
   "id": "ba5b4579",
   "metadata": {},
   "outputs": [
    {
     "data": {
      "text/plain": [
       "dict_keys(['gold_standard', 'lst_raster', 'ndvi_raster', 'ndwi_raster', 'ndvi_qa', 'ndwi_qa', 'dt_raster', 'tmax_raster', 'etr_raster', 'global_water_raster'])"
      ]
     },
     "execution_count": 35,
     "metadata": {},
     "output_type": "execute_result"
    }
   ],
   "source": [
    "my_inputs.keys()"
   ]
  },
  {
   "cell_type": "code",
   "execution_count": 36,
   "id": "efd306be",
   "metadata": {},
   "outputs": [],
   "source": [
    "def get_dtype(file_name_key):\n",
    "    int_list = ['ndvi_qa', 'ndwi_qa', 'global_water_raster']\n",
    "    if any(file_name_key in s for s in int_list):\n",
    "        out_data_type = 'uint16'\n",
    "    else:\n",
    "        out_data_type = 'float32'\n",
    "    print(f'out_data_type:{out_data_type}')\n",
    "    return out_data_type"
   ]
  },
  {
   "cell_type": "code",
   "execution_count": 37,
   "id": "f8876950",
   "metadata": {},
   "outputs": [
    {
     "name": "stdout",
     "output_type": "stream",
     "text": [
      "gold_standard\n",
      "/wsefs/pipeline/data_test_normToGrid/LS_eVSE_TEMP.2022.284-293.1KM.LST_TEMP.006.2022294042535.tif\n",
      "out_data_type:float32\n",
      "lst_raster\n",
      "/wsefs/pipeline/data_test_normToGrid/LS_eVSE_TEMP.2022.284-293.1KM.LST_TEMP.006.2022294042535.tif\n",
      "out_data_type:float32\n",
      "ndvi_raster\n",
      "/wsefs/pipeline/data_test_normToGrid/GN_eVSH_NDVI.2022.284-293.1KM.VI_NDVI.001.2022310010552.tif\n",
      "out_data_type:float32\n",
      "ndwi_raster\n",
      "/wsefs/pipeline/data_test_normToGrid/GN_eVSH_NDWI.2022.284-293.1KM.WI_NDWI.006.2022310173428.tif\n",
      "out_data_type:float32\n",
      "ndvi_qa\n",
      "/wsefs/pipeline/data_test_normToGrid/GN_eVSH_NDVI.2022.284-293.1KM.VI_QUAL.001.2022310010552.tif\n",
      "out_data_type:uint16\n",
      "ndwi_qa\n",
      "/wsefs/pipeline/data_test_normToGrid/GN_eVSH_NDWI.2022.284-293.1KM.WI_QUAL.006.2022310173428.tif\n",
      "out_data_type:uint16\n",
      "dt_raster\n",
      "s3://ws-in/ssebop/dT/dT_102.tif\n",
      "out_data_type:float32\n",
      "tmax_raster\n",
      "s3://ws-in/ssebop/air_temp/tmax_102.tif\n",
      "out_data_type:float32\n",
      "etr_raster\n",
      "s3://ws-in/ssebop/etr/Hobbins/etr_102.tif\n",
      "out_data_type:float32\n",
      "global_water_raster\n",
      "s3://ws-in/ssebop/masks/global_water_mask_inland.tif\n",
      "out_data_type:uint16\n"
     ]
    }
   ],
   "source": [
    "ndata='/wsefs/pipeline/ndata'\n",
    "sample_file = my_inputs['gold_standard']\n",
    "for ky in my_inputs.keys():\n",
    "    print(ky)\n",
    "    input_file = my_inputs[ky]\n",
    "    print(input_file)\n",
    "    output_file = f'{ndata}/{ky}.tif'\n",
    "    dtype = get_dtype(ky)\n",
    "    warp_me(sample_file, input_file, output_file, dtype)"
   ]
  },
  {
   "cell_type": "code",
   "execution_count": 38,
   "id": "fbf0e55a",
   "metadata": {},
   "outputs": [],
   "source": [
    "# help(rio_shutil)"
   ]
  },
  {
   "cell_type": "code",
   "execution_count": 39,
   "id": "9de363cb",
   "metadata": {},
   "outputs": [],
   "source": [
    "import glob"
   ]
  },
  {
   "cell_type": "code",
   "execution_count": 40,
   "id": "9fa70887",
   "metadata": {},
   "outputs": [],
   "source": [
    "ndata = '/wsefs/pipeline/ndata'\n",
    "\n",
    "my_outs = glob.glob(f'{ndata}/*.tif')"
   ]
  },
  {
   "cell_type": "code",
   "execution_count": 41,
   "id": "df80ab47",
   "metadata": {},
   "outputs": [
    {
     "data": {
      "text/plain": [
       "['/wsefs/pipeline/ndata/lst_raster.tif',\n",
       " '/wsefs/pipeline/ndata/ndwi_qa.tif',\n",
       " '/wsefs/pipeline/ndata/global_water_raster.tif',\n",
       " '/wsefs/pipeline/ndata/etr_raster.tif',\n",
       " '/wsefs/pipeline/ndata/ndvi_raster.tif',\n",
       " '/wsefs/pipeline/ndata/dt_raster.tif',\n",
       " '/wsefs/pipeline/ndata/ndvi_qa.tif',\n",
       " '/wsefs/pipeline/ndata/ndwi_raster.tif',\n",
       " '/wsefs/pipeline/ndata/tmax_raster.tif',\n",
       " '/wsefs/pipeline/ndata/gold_standard.tif',\n",
       " '/wsefs/pipeline/ndata/etf_test.tif']"
      ]
     },
     "execution_count": 41,
     "metadata": {},
     "output_type": "execute_result"
    }
   ],
   "source": [
    "my_outs"
   ]
  },
  {
   "cell_type": "code",
   "execution_count": 42,
   "id": "be03ee2c",
   "metadata": {},
   "outputs": [
    {
     "name": "stdout",
     "output_type": "stream",
     "text": [
      "/wsefs/pipeline/ndata/lst_raster.tif\n",
      "{'crs': 'EPSG:4326', 'dtypes': ('float32',), 'height': 14505, 'width': 37298, 'bounds': BoundingBox(left=-180.0, bottom=-60.002258848398924, right=180.00029303878546, top=80.0), 'compression': <Compression.lzw: 'LZW'>, 'transform': Affine(0.009651999920606613, 0.0, -180.0,\n",
      "       0.0, -0.009651999920606613, 80.0)}\n",
      "/wsefs/pipeline/ndata/ndwi_qa.tif\n",
      "{'crs': 'EPSG:4326', 'dtypes': ('uint16',), 'height': 14505, 'width': 37298, 'bounds': BoundingBox(left=-180.0, bottom=-60.002258848398924, right=180.00029303878546, top=80.0), 'compression': <Compression.lzw: 'LZW'>, 'transform': Affine(0.009651999920606613, 0.0, -180.0,\n",
      "       0.0, -0.009651999920606613, 80.0)}\n",
      "/wsefs/pipeline/ndata/global_water_raster.tif\n",
      "{'crs': 'EPSG:4326', 'dtypes': ('uint16',), 'height': 14505, 'width': 37298, 'bounds': BoundingBox(left=-180.0, bottom=-60.002258848398924, right=180.00029303878546, top=80.0), 'compression': <Compression.lzw: 'LZW'>, 'transform': Affine(0.009651999920606613, 0.0, -180.0,\n",
      "       0.0, -0.009651999920606613, 80.0)}\n",
      "/wsefs/pipeline/ndata/etr_raster.tif\n",
      "{'crs': 'EPSG:4326', 'dtypes': ('float32',), 'height': 14505, 'width': 37298, 'bounds': BoundingBox(left=-180.0, bottom=-60.002258848398924, right=180.00029303878546, top=80.0), 'compression': <Compression.lzw: 'LZW'>, 'transform': Affine(0.009651999920606613, 0.0, -180.0,\n",
      "       0.0, -0.009651999920606613, 80.0)}\n",
      "/wsefs/pipeline/ndata/ndvi_raster.tif\n",
      "{'crs': 'EPSG:4326', 'dtypes': ('float32',), 'height': 14505, 'width': 37298, 'bounds': BoundingBox(left=-180.0, bottom=-60.002258848398924, right=180.00029303878546, top=80.0), 'compression': <Compression.lzw: 'LZW'>, 'transform': Affine(0.009651999920606613, 0.0, -180.0,\n",
      "       0.0, -0.009651999920606613, 80.0)}\n",
      "/wsefs/pipeline/ndata/dt_raster.tif\n",
      "{'crs': 'EPSG:4326', 'dtypes': ('float32',), 'height': 14505, 'width': 37298, 'bounds': BoundingBox(left=-180.0, bottom=-60.002258848398924, right=180.00029303878546, top=80.0), 'compression': <Compression.lzw: 'LZW'>, 'transform': Affine(0.009651999920606613, 0.0, -180.0,\n",
      "       0.0, -0.009651999920606613, 80.0)}\n",
      "/wsefs/pipeline/ndata/ndvi_qa.tif\n",
      "{'crs': 'EPSG:4326', 'dtypes': ('uint16',), 'height': 14505, 'width': 37298, 'bounds': BoundingBox(left=-180.0, bottom=-60.002258848398924, right=180.00029303878546, top=80.0), 'compression': <Compression.lzw: 'LZW'>, 'transform': Affine(0.009651999920606613, 0.0, -180.0,\n",
      "       0.0, -0.009651999920606613, 80.0)}\n",
      "/wsefs/pipeline/ndata/ndwi_raster.tif\n",
      "{'crs': 'EPSG:4326', 'dtypes': ('float32',), 'height': 14505, 'width': 37298, 'bounds': BoundingBox(left=-180.0, bottom=-60.002258848398924, right=180.00029303878546, top=80.0), 'compression': <Compression.lzw: 'LZW'>, 'transform': Affine(0.009651999920606613, 0.0, -180.0,\n",
      "       0.0, -0.009651999920606613, 80.0)}\n",
      "/wsefs/pipeline/ndata/tmax_raster.tif\n",
      "{'crs': 'EPSG:4326', 'dtypes': ('float32',), 'height': 14505, 'width': 37298, 'bounds': BoundingBox(left=-180.0, bottom=-60.002258848398924, right=180.00029303878546, top=80.0), 'compression': <Compression.lzw: 'LZW'>, 'transform': Affine(0.009651999920606613, 0.0, -180.0,\n",
      "       0.0, -0.009651999920606613, 80.0)}\n",
      "/wsefs/pipeline/ndata/gold_standard.tif\n",
      "{'crs': 'EPSG:4326', 'dtypes': ('float32',), 'height': 14505, 'width': 37298, 'bounds': BoundingBox(left=-180.0, bottom=-60.002258848398924, right=180.00029303878546, top=80.0), 'compression': <Compression.lzw: 'LZW'>, 'transform': Affine(0.009651999920606613, 0.0, -180.0,\n",
      "       0.0, -0.009651999920606613, 80.0)}\n",
      "/wsefs/pipeline/ndata/etf_test.tif\n"
     ]
    },
    {
     "ename": "AttributeError",
     "evalue": "'NoneType' object has no attribute 'to_string'",
     "output_type": "error",
     "traceback": [
      "\u001b[0;31m---------------------------------------------------------------------------\u001b[0m",
      "\u001b[0;31mAttributeError\u001b[0m                            Traceback (most recent call last)",
      "Cell \u001b[0;32mIn [42], line 3\u001b[0m\n\u001b[1;32m      1\u001b[0m \u001b[38;5;28;01mfor\u001b[39;00m i \u001b[38;5;129;01min\u001b[39;00m my_outs:\n\u001b[1;32m      2\u001b[0m     \u001b[38;5;28mprint\u001b[39m(i)\n\u001b[0;32m----> 3\u001b[0m     d \u001b[38;5;241m=\u001b[39m get_src_dict(i)\n\u001b[1;32m      4\u001b[0m     \u001b[38;5;28mprint\u001b[39m(d)\n",
      "Cell \u001b[0;32mIn [13], line 4\u001b[0m, in \u001b[0;36mget_src_dict\u001b[0;34m(file_url)\u001b[0m\n\u001b[1;32m      2\u001b[0m d\u001b[38;5;241m=\u001b[39m{}\n\u001b[1;32m      3\u001b[0m src \u001b[38;5;241m=\u001b[39m rasterio\u001b[38;5;241m.\u001b[39mopen(file_url)\n\u001b[0;32m----> 4\u001b[0m d[\u001b[38;5;124m'\u001b[39m\u001b[38;5;124mcrs\u001b[39m\u001b[38;5;124m'\u001b[39m] \u001b[38;5;241m=\u001b[39m \u001b[43msrc\u001b[49m\u001b[38;5;241;43m.\u001b[39;49m\u001b[43mcrs\u001b[49m\u001b[38;5;241;43m.\u001b[39;49m\u001b[43mto_string\u001b[49m()\n\u001b[1;32m      5\u001b[0m d[\u001b[38;5;124m'\u001b[39m\u001b[38;5;124mdtypes\u001b[39m\u001b[38;5;124m'\u001b[39m] \u001b[38;5;241m=\u001b[39m src\u001b[38;5;241m.\u001b[39mdtypes\n\u001b[1;32m      6\u001b[0m d[\u001b[38;5;124m'\u001b[39m\u001b[38;5;124mheight\u001b[39m\u001b[38;5;124m'\u001b[39m] \u001b[38;5;241m=\u001b[39m src\u001b[38;5;241m.\u001b[39mheight\n",
      "\u001b[0;31mAttributeError\u001b[0m: 'NoneType' object has no attribute 'to_string'"
     ]
    }
   ],
   "source": [
    "for i in my_outs:\n",
    "    print(i)\n",
    "    d = get_src_dict(i)\n",
    "    print(d)\n",
    " "
   ]
  },
  {
   "cell_type": "code",
   "execution_count": null,
   "id": "ef085ee5",
   "metadata": {},
   "outputs": [],
   "source": []
  }
 ],
 "metadata": {
  "kernelspec": {
   "display_name": "Python 3 (ipykernel)",
   "language": "python",
   "name": "python3"
  },
  "language_info": {
   "codemirror_mode": {
    "name": "ipython",
    "version": 3
   },
   "file_extension": ".py",
   "mimetype": "text/x-python",
   "name": "python",
   "nbconvert_exporter": "python",
   "pygments_lexer": "ipython3",
   "version": "3.10.6"
  }
 },
 "nbformat": 4,
 "nbformat_minor": 5
}
