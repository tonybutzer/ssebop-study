{
 "cells": [
  {
   "cell_type": "code",
   "execution_count": 1,
   "id": "957024ce-d861-4b0e-b7d7-cb220a49d5c5",
   "metadata": {},
   "outputs": [],
   "source": [
    "import datetime"
   ]
  },
  {
   "cell_type": "code",
   "execution_count": 2,
   "id": "e6af4925-a8b1-41ef-8480-9d944f9b784e",
   "metadata": {},
   "outputs": [],
   "source": [
    "def get_file_breakdown(fields, filename):\n",
    "    #print(filename)\n",
    "    field_dict = {}\n",
    "    a=filename.split('.')\n",
    "    for i in range(len(fields)):\n",
    "        print(a[i])\n",
    "        field_dict[fields[i]] = a[i]\n",
    "    return field_dict"
   ]
  },
  {
   "cell_type": "code",
   "execution_count": 3,
   "id": "12d54515-dbb6-4d24-bf00-4cbe511e1612",
   "metadata": {},
   "outputs": [],
   "source": [
    "viirs_fields = ['title',\n",
    "         'year',\n",
    "         'julianrange',\n",
    "         'resolution',\n",
    "         'lstband',\n",
    "         'version',\n",
    "         'processingdate',\n",
    "          'extension',\n",
    "         ]\n"
   ]
  },
  {
   "cell_type": "code",
   "execution_count": 4,
   "id": "a32011ef-bddf-4257-95ae-109680004646",
   "metadata": {},
   "outputs": [
    {
     "name": "stdout",
     "output_type": "stream",
     "text": [
      "LS_eVSE_TEMP.2022.284-293.1KM.LST_ACQT.006.2022294042535.txt\n",
      "LS_eVSE_TEMP.2022.284-293.1KM.LST_ANGL.006.2022294042535.tif\n",
      "LS_eVSE_TEMP.2022.284-293.1KM.LST_EM14.006.2022294042535.tif\n",
      "LS_eVSE_TEMP.2022.284-293.1KM.LST_EM15.006.2022294042535.tif\n",
      "LS_eVSE_TEMP.2022.284-293.1KM.LST_NMBR.006.2022294042535.tif\n",
      "LS_eVSE_TEMP.2022.284-293.1KM.LST_QLTY.006.2022294042535.tif\n",
      "LS_eVSE_TEMP.2022.284-293.1KM.LST_TEMP.006.2022294042535.tif\n"
     ]
    }
   ],
   "source": [
    "! ls /wsefs/pipeline/sdata/"
   ]
  },
  {
   "cell_type": "code",
   "execution_count": 5,
   "id": "f6e993ee-e84f-4452-b1de-f3173e49fa4a",
   "metadata": {},
   "outputs": [],
   "source": [
    "temperature_file = 'LS_eVSE_TEMP.2022.284-293.1KM.LST_TEMP.006.2022294042535.tif'"
   ]
  },
  {
   "cell_type": "code",
   "execution_count": 6,
   "id": "79151376-55c0-44b8-8e90-69721b06f5ff",
   "metadata": {},
   "outputs": [
    {
     "name": "stdout",
     "output_type": "stream",
     "text": [
      "LS_eVSE_TEMP\n",
      "2022\n",
      "284-293\n",
      "1KM\n",
      "LST_TEMP\n",
      "006\n",
      "2022294042535\n",
      "tif\n"
     ]
    }
   ],
   "source": [
    "filename = temperature_file\n",
    "fields = viirs_fields\n",
    "\n",
    "my_dict = get_file_breakdown(fields, filename)\n"
   ]
  },
  {
   "cell_type": "code",
   "execution_count": 7,
   "id": "83831148-af41-49fe-a71e-4c9f2376fc6f",
   "metadata": {},
   "outputs": [
    {
     "data": {
      "text/plain": [
       "{'title': 'LS_eVSE_TEMP',\n",
       " 'year': '2022',\n",
       " 'julianrange': '284-293',\n",
       " 'resolution': '1KM',\n",
       " 'lstband': 'LST_TEMP',\n",
       " 'version': '006',\n",
       " 'processingdate': '2022294042535',\n",
       " 'extension': 'tif'}"
      ]
     },
     "execution_count": 7,
     "metadata": {},
     "output_type": "execute_result"
    }
   ],
   "source": [
    "my_dict"
   ]
  },
  {
   "cell_type": "code",
   "execution_count": 15,
   "id": "0ffc5d1a-c5ca-41b7-b669-45816fe8343e",
   "metadata": {},
   "outputs": [],
   "source": [
    "yr = my_dict['year']\n",
    "start,stop = my_dict['julianrange'].split('-')\n",
    "month = datetime.datetime.strptime(f'{yr}284', '%Y%j').strftime(\"%m\")\n",
    "day = datetime.datetime.strptime(f'{yr}284', '%Y%j').strftime(\"%d\")"
   ]
  },
  {
   "cell_type": "code",
   "execution_count": 16,
   "id": "138a32e7-10b2-4487-841c-bb4c78e3d09d",
   "metadata": {},
   "outputs": [
    {
     "data": {
      "text/plain": [
       "'10'"
      ]
     },
     "execution_count": 16,
     "metadata": {},
     "output_type": "execute_result"
    }
   ],
   "source": [
    "month"
   ]
  },
  {
   "cell_type": "code",
   "execution_count": 23,
   "id": "5839c78f-68cc-40f5-ac5e-f7fd0120ae42",
   "metadata": {},
   "outputs": [],
   "source": [
    "dday = (int(day)%10) + 1"
   ]
  },
  {
   "cell_type": "code",
   "execution_count": 24,
   "id": "04cdd2e2-6248-434f-bd09-dcfef97ea231",
   "metadata": {},
   "outputs": [
    {
     "data": {
      "text/plain": [
       "2"
      ]
     },
     "execution_count": 24,
     "metadata": {},
     "output_type": "execute_result"
    }
   ],
   "source": [
    "dday"
   ]
  },
  {
   "cell_type": "code",
   "execution_count": 25,
   "id": "87420c89-d8a9-494a-aa5c-2566a014dbab",
   "metadata": {},
   "outputs": [],
   "source": [
    "dekadal_val = f'{month}{dday}'"
   ]
  },
  {
   "cell_type": "code",
   "execution_count": 26,
   "id": "415239e2-82f9-4004-8bac-3e13451fab46",
   "metadata": {},
   "outputs": [
    {
     "data": {
      "text/plain": [
       "'102'"
      ]
     },
     "execution_count": 26,
     "metadata": {},
     "output_type": "execute_result"
    }
   ],
   "source": [
    "dekadal_val"
   ]
  },
  {
   "cell_type": "code",
   "execution_count": 52,
   "id": "c1a2a98f-3171-4533-990c-6ea3ea38475c",
   "metadata": {},
   "outputs": [],
   "source": [
    "import math\n",
    "def get_dekadal(year, jday):\n",
    "    month = datetime.datetime.strptime(f'{yr}{jday}', '%Y%j').strftime(\"%m\")\n",
    "    day = datetime.datetime.strptime(f'{yr}{jday}', '%Y%j').strftime(\"%d\")\n",
    "    print(day)\n",
    "    dday = math.ceil(int(day)/10)\n",
    "    dekadal_val = f'{month}{dday}'\n",
    "    return dekadal_val\n",
    "    "
   ]
  },
  {
   "cell_type": "code",
   "execution_count": 53,
   "id": "6c5798e6-5aac-4b45-b6d0-ae11c017a4a8",
   "metadata": {},
   "outputs": [
    {
     "name": "stdout",
     "output_type": "stream",
     "text": [
      "11\n"
     ]
    },
    {
     "data": {
      "text/plain": [
       "'102'"
      ]
     },
     "execution_count": 53,
     "metadata": {},
     "output_type": "execute_result"
    }
   ],
   "source": [
    "get_dekadal(yr, start)"
   ]
  },
  {
   "cell_type": "code",
   "execution_count": 54,
   "id": "f3a95f22-fd2d-40b2-8c5d-41f9f1212735",
   "metadata": {},
   "outputs": [
    {
     "name": "stdout",
     "output_type": "stream",
     "text": [
      "20\n"
     ]
    },
    {
     "data": {
      "text/plain": [
       "'102'"
      ]
     },
     "execution_count": 54,
     "metadata": {},
     "output_type": "execute_result"
    }
   ],
   "source": [
    "get_dekadal(yr, stop)"
   ]
  },
  {
   "cell_type": "code",
   "execution_count": null,
   "id": "675be2b6-c0a0-4da9-869b-fe1ff6958bab",
   "metadata": {},
   "outputs": [],
   "source": []
  },
  {
   "cell_type": "code",
   "execution_count": null,
   "id": "5937c04b-7be6-44d9-bc4a-18b7a16f94f5",
   "metadata": {},
   "outputs": [],
   "source": []
  }
 ],
 "metadata": {
  "kernelspec": {
   "display_name": "Python 3 (ipykernel)",
   "language": "python",
   "name": "python3"
  },
  "language_info": {
   "codemirror_mode": {
    "name": "ipython",
    "version": 3
   },
   "file_extension": ".py",
   "mimetype": "text/x-python",
   "name": "python",
   "nbconvert_exporter": "python",
   "pygments_lexer": "ipython3",
   "version": "3.10.6"
  }
 },
 "nbformat": 4,
 "nbformat_minor": 5
}
