{
 "cells": [
  {
   "cell_type": "code",
   "execution_count": 1,
   "id": "7610a913",
   "metadata": {},
   "outputs": [],
   "source": [
    "# credential code\n"
   ]
  },
  {
   "cell_type": "code",
   "execution_count": 2,
   "id": "db3b4ba9",
   "metadata": {},
   "outputs": [],
   "source": [
    "import os\n",
    "import requests\n",
    "from requests.auth import HTTPBasicAuth\n",
    "\n",
    "def download(purl: str, dest_folder: str):\n",
    "    global username, password, site\n",
    "    if not os.path.exists(dest_folder):\n",
    "        os.makedirs(dest_folder)  # create folder if it does not exist\n",
    "        \n",
    "    url =f'{site}{purl}'\n",
    "    \n",
    "\n",
    "    filename = url.split('/')[-1].replace(\" \", \"_\")  # be careful with file names\n",
    "    file_path = os.path.join(dest_folder, filename)\n",
    "    \n",
    "    \n",
    "    print(url)\n",
    "\n",
    "    r = requests.get(url, stream=True, auth = HTTPBasicAuth(username, password))\n",
    "    if r.ok:\n",
    "        print(\"saving to\", os.path.abspath(file_path))\n",
    "        with open(file_path, 'wb') as f:\n",
    "            for chunk in r.iter_content(chunk_size=1024 * 8):\n",
    "                if chunk:\n",
    "                    f.write(chunk)\n",
    "                    f.flush()\n",
    "                    os.fsync(f.fileno())\n",
    "    else:  # HTTP status code 4XX/5XX\n",
    "        print(\"Download failed: status code {}\\n{}\".format(r.status_code, r.text))\n",
    "\n"
   ]
  },
  {
   "cell_type": "code",
   "execution_count": 3,
   "id": "b167b1ea",
   "metadata": {},
   "outputs": [],
   "source": [
    "import yaml\n",
    "\n",
    "def get_config(mconfig):\n",
    "    global username, password, url_path, site, out_loc\n",
    "\n",
    "    with open(mconfig, 'r') as rfile:\n",
    "        cfg = yaml.safe_load(rfile)\n",
    "        #print(cfg)\n",
    "    try:\n",
    "        # server_name = 'USGS-DDS'\n",
    "        username = cfg['username']\n",
    "        password = cfg['password']\n",
    "        site = cfg['site']\n",
    "        url_path = cfg['url']\n",
    "        out_loc = cfg['output_location']\n",
    "        output_name = cfg['outname']\n",
    "\n",
    "        \n",
    "    except ConnectionError:\n",
    "        print('connection error occured')\n",
    "        raise\n",
    "\n",
    "if __name__ == \"__main__\":\n",
    "\n",
    "    config = '/home/ec2-user/.config/wrangle.yaml'\n",
    "    local_file = get_config(mconfig=config)\n"
   ]
  },
  {
   "cell_type": "code",
   "execution_count": 4,
   "id": "c6759f82",
   "metadata": {},
   "outputs": [],
   "source": [
    "import zipfile\n",
    "import os\n",
    "def unzip_unlink(path_to_zip_file, directory_to_extract_to):\n",
    "    with zipfile.ZipFile(path_to_zip_file, 'r') as zip_ref:\n",
    "        zip_ref.extractall(directory_to_extract_to)\n",
    "    os.unlink(path_to_zip_file)"
   ]
  },
  {
   "cell_type": "code",
   "execution_count": 5,
   "id": "324b9c82",
   "metadata": {},
   "outputs": [
    {
     "name": "stdout",
     "output_type": "stream",
     "text": [
      "/highvolume/eviirs/Global_LST/expedited/VIIRS/2022/comp_293/LS_eVSE_TEMP.2022.284-293.1KM.COMPRES.006.2022294053847.zip\n",
      "COMPLETED /highvolume/eviirs/Global_LST/expedited/VIIRS/2022/comp_293/LS_eVSE_TEMP.2022.284-293.1KM.COMPRES.006.2022294053847.zip\n",
      "/wsefs/tony/sdata/LS_eVSE_TEMP.2022.284-293.1KM.COMPRES.006.2022294053847.zip\n"
     ]
    }
   ],
   "source": [
    "import requests\n",
    "from bs4 import BeautifulSoup\n",
    "\n",
    "# games_url = 'http://www.primarygames.com/mobile/category/all/'\n",
    "games_url = \"https://dds.cr.usgs.gov/highvolume/eviirs/Global_LST/expedited/VIIRS/2022/comp_293/\"\n",
    "\n",
    "\n",
    "def get_all_games():\n",
    "    global username, password, url_path\n",
    "    \n",
    "    #print(username,password)\n",
    "\n",
    "    soup = BeautifulSoup(requests.get(url_path, auth = HTTPBasicAuth(username, password)).text)\n",
    "    #print(soup)\n",
    "    schooltable = soup.find('table')\n",
    "    my_links = schooltable.find_all(\"a\", {\"class\": \"linkUrl\"})\n",
    "    #print(my_links)\n",
    "    for link in my_links:\n",
    "        #print(link['href'])\n",
    "        yield(link['href'])\n",
    " \n",
    "\n",
    "if __name__ == '__main__':\n",
    "    global out_loc, site\n",
    "    for game in get_all_games():\n",
    "        if game.endswith('.zip'):\n",
    "            print(game)\n",
    "            # download(game, out_loc)\n",
    "            print('COMPLETED', game)\n",
    "            just_file = game.split('/')[-1]\n",
    "            full_path = f'{out_loc}{just_file}'\n",
    "            print(full_path)\n",
    "            unzip_unlink(full_path, out_loc)"
   ]
  },
  {
   "cell_type": "code",
   "execution_count": 6,
   "id": "63935de1",
   "metadata": {},
   "outputs": [
    {
     "name": "stdout",
     "output_type": "stream",
     "text": [
      "total 4.1G\r\n",
      "-rw-rw-r-- 1 ec2-user ec2-user  95K Dec  3 12:07 LS_eVSE_TEMP.2022.284-293.1KM.LST_ACQT.006.2022294042535.txt\r\n",
      "-rw-rw-r-- 1 ec2-user ec2-user 517M Dec  3 12:07 LS_eVSE_TEMP.2022.284-293.1KM.LST_ANGL.006.2022294042535.tif\r\n",
      "-rw-rw-r-- 1 ec2-user ec2-user 517M Dec  3 12:07 LS_eVSE_TEMP.2022.284-293.1KM.LST_EM14.006.2022294042535.tif\r\n",
      "-rw-rw-r-- 1 ec2-user ec2-user 517M Dec  3 12:07 LS_eVSE_TEMP.2022.284-293.1KM.LST_EM15.006.2022294042535.tif\r\n",
      "-rw-rw-r-- 1 ec2-user ec2-user 1.1G Dec  3 12:08 LS_eVSE_TEMP.2022.284-293.1KM.LST_NMBR.006.2022294042535.tif\r\n",
      "-rw-rw-r-- 1 ec2-user ec2-user 517M Dec  3 12:08 LS_eVSE_TEMP.2022.284-293.1KM.LST_QLTY.006.2022294042535.tif\r\n",
      "-rw-rw-r-- 1 ec2-user ec2-user 1.1G Dec  3 12:08 LS_eVSE_TEMP.2022.284-293.1KM.LST_TEMP.006.2022294042535.tif\r\n"
     ]
    }
   ],
   "source": [
    "#! mkdir -p /wsefs/tony/sdata\n",
    "! ls -lh /wsefs/tony/sdata"
   ]
  },
  {
   "cell_type": "code",
   "execution_count": 7,
   "id": "d1380e27",
   "metadata": {},
   "outputs": [
    {
     "name": "stdout",
     "output_type": "stream",
     "text": [
      "unzip:  cannot find or open /wsefs/tony/sdata/LS_eVSE_TEMP.2022.284-293.1KM.COMPRES.006.2022294053847.zip, /wsefs/tony/sdata/LS_eVSE_TEMP.2022.284-293.1KM.COMPRES.006.2022294053847.zip.zip or /wsefs/tony/sdata/LS_eVSE_TEMP.2022.284-293.1KM.COMPRES.006.2022294053847.zip.ZIP.\r\n"
     ]
    }
   ],
   "source": [
    "! unzip -l /wsefs/tony/sdata/LS_eVSE_TEMP.2022.284-293.1KM.COMPRES.006.2022294053847.zip"
   ]
  },
  {
   "cell_type": "code",
   "execution_count": null,
   "id": "d403155b",
   "metadata": {},
   "outputs": [],
   "source": []
  }
 ],
 "metadata": {
  "kernelspec": {
   "display_name": "Python 3 (ipykernel)",
   "language": "python",
   "name": "python3"
  },
  "language_info": {
   "codemirror_mode": {
    "name": "ipython",
    "version": 3
   },
   "file_extension": ".py",
   "mimetype": "text/x-python",
   "name": "python",
   "nbconvert_exporter": "python",
   "pygments_lexer": "ipython3",
   "version": "3.10.6"
  }
 },
 "nbformat": 4,
 "nbformat_minor": 5
}
