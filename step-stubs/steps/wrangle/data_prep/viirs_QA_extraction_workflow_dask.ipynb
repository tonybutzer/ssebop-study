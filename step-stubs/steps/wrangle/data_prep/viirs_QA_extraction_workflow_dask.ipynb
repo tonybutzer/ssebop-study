{
 "cells": [
  {
   "cell_type": "code",
   "execution_count": 1,
   "metadata": {
    "collapsed": true
   },
   "outputs": [],
   "source": [
    "import os\n",
    "import os.path\n",
    "from glob import glob\n",
    "import rioxarray\n",
    "from dask.distributed import Client, LocalCluster, Lock\n",
    "import xarray as xr"
   ]
  },
  {
   "cell_type": "code",
   "execution_count": 2,
   "outputs": [
    {
     "data": {
      "text/plain": "<Client: 'tcp://127.0.0.1:54669' processes=3 threads=6, memory=32.00 GiB>",
      "text/html": "<div>\n    <div style=\"width: 24px; height: 24px; background-color: #e1e1e1; border: 3px solid #9D9D9D; border-radius: 5px; position: absolute;\"> </div>\n    <div style=\"margin-left: 48px;\">\n        <h3 style=\"margin-bottom: 0px;\">Client</h3>\n        <p style=\"color: #9D9D9D; margin-bottom: 0px;\">Client-168aa8ab-2960-11ed-b6f0-005056a36964</p>\n        <table style=\"width: 100%; text-align: left;\">\n\n        <tr>\n        \n            <td style=\"text-align: left;\"><strong>Connection method:</strong> Cluster object</td>\n            <td style=\"text-align: left;\"><strong>Cluster type:</strong> distributed.LocalCluster</td>\n        \n        </tr>\n\n        \n            <tr>\n                <td style=\"text-align: left;\">\n                    <strong>Dashboard: </strong> <a href=\"http://127.0.0.1:8787/status\" target=\"_blank\">http://127.0.0.1:8787/status</a>\n                </td>\n                <td style=\"text-align: left;\"></td>\n            </tr>\n        \n\n        </table>\n\n        \n            <details>\n            <summary style=\"margin-bottom: 20px;\"><h3 style=\"display: inline;\">Cluster Info</h3></summary>\n            <div class=\"jp-RenderedHTMLCommon jp-RenderedHTML jp-mod-trusted jp-OutputArea-output\">\n    <div style=\"width: 24px; height: 24px; background-color: #e1e1e1; border: 3px solid #9D9D9D; border-radius: 5px; position: absolute;\">\n    </div>\n    <div style=\"margin-left: 48px;\">\n        <h3 style=\"margin-bottom: 0px; margin-top: 0px;\">LocalCluster</h3>\n        <p style=\"color: #9D9D9D; margin-bottom: 0px;\">4da8f25a</p>\n        <table style=\"width: 100%; text-align: left;\">\n            <tr>\n                <td style=\"text-align: left;\">\n                    <strong>Dashboard:</strong> <a href=\"http://127.0.0.1:8787/status\" target=\"_blank\">http://127.0.0.1:8787/status</a>\n                </td>\n                <td style=\"text-align: left;\">\n                    <strong>Workers:</strong> 3\n                </td>\n            </tr>\n            <tr>\n                <td style=\"text-align: left;\">\n                    <strong>Total threads:</strong> 6\n                </td>\n                <td style=\"text-align: left;\">\n                    <strong>Total memory:</strong> 32.00 GiB\n                </td>\n            </tr>\n            \n            <tr>\n    <td style=\"text-align: left;\"><strong>Status:</strong> running</td>\n    <td style=\"text-align: left;\"><strong>Using processes:</strong> True</td>\n</tr>\n\n            \n        </table>\n\n        <details>\n            <summary style=\"margin-bottom: 20px;\">\n                <h3 style=\"display: inline;\">Scheduler Info</h3>\n            </summary>\n\n            <div style=\"\">\n    <div>\n        <div style=\"width: 24px; height: 24px; background-color: #FFF7E5; border: 3px solid #FF6132; border-radius: 5px; position: absolute;\"> </div>\n        <div style=\"margin-left: 48px;\">\n            <h3 style=\"margin-bottom: 0px;\">Scheduler</h3>\n            <p style=\"color: #9D9D9D; margin-bottom: 0px;\">Scheduler-0af9e7a7-7468-435f-89be-4446d80d2031</p>\n            <table style=\"width: 100%; text-align: left;\">\n                <tr>\n                    <td style=\"text-align: left;\">\n                        <strong>Comm:</strong> tcp://127.0.0.1:54669\n                    </td>\n                    <td style=\"text-align: left;\">\n                        <strong>Workers:</strong> 3\n                    </td>\n                </tr>\n                <tr>\n                    <td style=\"text-align: left;\">\n                        <strong>Dashboard:</strong> <a href=\"http://127.0.0.1:8787/status\" target=\"_blank\">http://127.0.0.1:8787/status</a>\n                    </td>\n                    <td style=\"text-align: left;\">\n                        <strong>Total threads:</strong> 6\n                    </td>\n                </tr>\n                <tr>\n                    <td style=\"text-align: left;\">\n                        <strong>Started:</strong> Just now\n                    </td>\n                    <td style=\"text-align: left;\">\n                        <strong>Total memory:</strong> 32.00 GiB\n                    </td>\n                </tr>\n            </table>\n        </div>\n    </div>\n\n    <details style=\"margin-left: 48px;\">\n        <summary style=\"margin-bottom: 20px;\">\n            <h3 style=\"display: inline;\">Workers</h3>\n        </summary>\n\n        \n        <div style=\"margin-bottom: 20px;\">\n            <div style=\"width: 24px; height: 24px; background-color: #DBF5FF; border: 3px solid #4CC9FF; border-radius: 5px; position: absolute;\"> </div>\n            <div style=\"margin-left: 48px;\">\n            <details>\n                <summary>\n                    <h4 style=\"margin-bottom: 0px; display: inline;\">Worker: 0</h4>\n                </summary>\n                <table style=\"width: 100%; text-align: left;\">\n                    <tr>\n                        <td style=\"text-align: left;\">\n                            <strong>Comm: </strong> tcp://127.0.0.1:54692\n                        </td>\n                        <td style=\"text-align: left;\">\n                            <strong>Total threads: </strong> 2\n                        </td>\n                    </tr>\n                    <tr>\n                        <td style=\"text-align: left;\">\n                            <strong>Dashboard: </strong> <a href=\"http://127.0.0.1:54693/status\" target=\"_blank\">http://127.0.0.1:54693/status</a>\n                        </td>\n                        <td style=\"text-align: left;\">\n                            <strong>Memory: </strong> 10.67 GiB\n                        </td>\n                    </tr>\n                    <tr>\n                        <td style=\"text-align: left;\">\n                            <strong>Nanny: </strong> tcp://127.0.0.1:54673\n                        </td>\n                        <td style=\"text-align: left;\"></td>\n                    </tr>\n                    <tr>\n                        <td colspan=\"2\" style=\"text-align: left;\">\n                            <strong>Local directory: </strong> D:\\Users\\gparrish\\PycharmProjects\\cloud_ssebop\\data_prep\\dask-worker-space\\worker-78g13hih\n                        </td>\n                    </tr>\n\n                    \n\n                    \n\n                </table>\n            </details>\n            </div>\n        </div>\n        \n        <div style=\"margin-bottom: 20px;\">\n            <div style=\"width: 24px; height: 24px; background-color: #DBF5FF; border: 3px solid #4CC9FF; border-radius: 5px; position: absolute;\"> </div>\n            <div style=\"margin-left: 48px;\">\n            <details>\n                <summary>\n                    <h4 style=\"margin-bottom: 0px; display: inline;\">Worker: 1</h4>\n                </summary>\n                <table style=\"width: 100%; text-align: left;\">\n                    <tr>\n                        <td style=\"text-align: left;\">\n                            <strong>Comm: </strong> tcp://127.0.0.1:54689\n                        </td>\n                        <td style=\"text-align: left;\">\n                            <strong>Total threads: </strong> 2\n                        </td>\n                    </tr>\n                    <tr>\n                        <td style=\"text-align: left;\">\n                            <strong>Dashboard: </strong> <a href=\"http://127.0.0.1:54690/status\" target=\"_blank\">http://127.0.0.1:54690/status</a>\n                        </td>\n                        <td style=\"text-align: left;\">\n                            <strong>Memory: </strong> 10.67 GiB\n                        </td>\n                    </tr>\n                    <tr>\n                        <td style=\"text-align: left;\">\n                            <strong>Nanny: </strong> tcp://127.0.0.1:54672\n                        </td>\n                        <td style=\"text-align: left;\"></td>\n                    </tr>\n                    <tr>\n                        <td colspan=\"2\" style=\"text-align: left;\">\n                            <strong>Local directory: </strong> D:\\Users\\gparrish\\PycharmProjects\\cloud_ssebop\\data_prep\\dask-worker-space\\worker-xe21p9nf\n                        </td>\n                    </tr>\n\n                    \n\n                    \n\n                </table>\n            </details>\n            </div>\n        </div>\n        \n        <div style=\"margin-bottom: 20px;\">\n            <div style=\"width: 24px; height: 24px; background-color: #DBF5FF; border: 3px solid #4CC9FF; border-radius: 5px; position: absolute;\"> </div>\n            <div style=\"margin-left: 48px;\">\n            <details>\n                <summary>\n                    <h4 style=\"margin-bottom: 0px; display: inline;\">Worker: 2</h4>\n                </summary>\n                <table style=\"width: 100%; text-align: left;\">\n                    <tr>\n                        <td style=\"text-align: left;\">\n                            <strong>Comm: </strong> tcp://127.0.0.1:54699\n                        </td>\n                        <td style=\"text-align: left;\">\n                            <strong>Total threads: </strong> 2\n                        </td>\n                    </tr>\n                    <tr>\n                        <td style=\"text-align: left;\">\n                            <strong>Dashboard: </strong> <a href=\"http://127.0.0.1:54700/status\" target=\"_blank\">http://127.0.0.1:54700/status</a>\n                        </td>\n                        <td style=\"text-align: left;\">\n                            <strong>Memory: </strong> 10.67 GiB\n                        </td>\n                    </tr>\n                    <tr>\n                        <td style=\"text-align: left;\">\n                            <strong>Nanny: </strong> tcp://127.0.0.1:54674\n                        </td>\n                        <td style=\"text-align: left;\"></td>\n                    </tr>\n                    <tr>\n                        <td colspan=\"2\" style=\"text-align: left;\">\n                            <strong>Local directory: </strong> D:\\Users\\gparrish\\PycharmProjects\\cloud_ssebop\\data_prep\\dask-worker-space\\worker-5zdrp86p\n                        </td>\n                    </tr>\n\n                    \n\n                    \n\n                </table>\n            </details>\n            </div>\n        </div>\n        \n\n    </details>\n</div>\n\n        </details>\n    </div>\n</div>\n            </details>\n        \n\n    </div>\n</div>"
     },
     "execution_count": 2,
     "metadata": {},
     "output_type": "execute_result"
    }
   ],
   "source": [
    "# set up the dask client\n",
    "# docs.das.org/en/latest/deploying-python.html\n",
    "cluster = LocalCluster()\n",
    "# client = Client(n_workers=2, threads_per_worker=2, memory_limit='1GB')\n",
    "client = Client(cluster)\n",
    "client"
   ],
   "metadata": {
    "collapsed": false,
    "pycharm": {
     "name": "#%%\n"
    }
   }
  },
  {
   "cell_type": "markdown",
   "source": [
    "#### you can loose information critical to the geospatial nature of the rioxarray when doing certain xarray functions.\n",
    "\n",
    "##### https://corteva.github.io/rioxarray/stable/getting_started/manage_information_loss.html"
   ],
   "metadata": {
    "collapsed": false,
    "pycharm": {
     "name": "#%% md\n"
    }
   }
  },
  {
   "cell_type": "code",
   "execution_count": 3,
   "outputs": [],
   "source": [
    "def qa_band_to_raster_masks(cloud_root: str, strong_cloud_root: str, water_root: str,\n",
    "                            ice_snow_root: str, high_cirrus_root:str,\n",
    "                            average_cirrus_root:str, qa_raster: str,  dummy_raster: str):\n",
    "    qa = rioxarray.open_rasterio(qa_raster, masked=True, chunks=(4500, 4500)).squeeze('band', drop=True)\n",
    "    green = rioxarray.open_rasterio(dummy_raster, masked=True, chunks=(4500, 4500)).squeeze('band', drop=True)\n",
    "    # Make the bits and sort\n",
    "    bits = 16                        # Define number of bits\n",
    "    vals = list(range(0,(2**bits))) # Generate a list of all possible bit values\n",
    "    bitvals = []\n",
    "    for i in vals:\n",
    "        bv = format(vals[i],'b').zfill(bits)             # Convert to binary based on values and # of bits defined above:\n",
    "        bitvals.append(bv)\n",
    "    # Make a list of the bits that indicate absence of all clouds, cloud-adjacent and cloud shadow\n",
    "    # Bitvalues are RIGHT to LEFT, then the bit code is Left to right. Which is crazy.\n",
    "    strong_clear_bitvals = [] # <- demands absolutely no clouds, cloud adjacent or cirrus clouds of any kind\n",
    "    clear_bitvals = []  # <- does not count 'low' cirrus amounts as cloud contam --> removed \"...and val[-9:-7] != '01'...\" for low cirrus\n",
    "    land_bitvals = []  # <- make a list of the bits that indicate LAND pixels. All water is thrown OUT.\n",
    "    snow_free_bitvals = []  # <- a list of the bits that include snow free values...\n",
    "    high_cirrus = []  # <- Cirrus masks for testing.\n",
    "    average_cirrus = []\n",
    "    # BIT VALUES\n",
    "    for val in bitvals:\n",
    "        # two cirrus instances.\n",
    "        if val[-9:-7] == '11' or val[-9:-7] == '10':\n",
    "            high_cirrus.append(val)\n",
    "        if  val[-14] == '0':\n",
    "            average_cirrus.append(val)\n",
    "        # strong clear\n",
    "        if val[-2:] == '00' and val[-3] == '0' and val[-14] == '0' and val[-9:-7] != '11' and val[-9:-7] != '10':\n",
    "            strong_clear_bitvals.append(val)\n",
    "        # clear (see comment above)\n",
    "        if val[-2:] == '00' and val[-3] == '0' and val[-14] == '0' and val[-9:-7] != '11' and val[-9:-7] != '10':\n",
    "            clear_bitvals.append(val)\n",
    "        # land\n",
    "        if val[-6:-3] != '000' and val[-6:-3] != '010' and val[-6:-3] != '011' and val[-6:-3] != '100'\\\n",
    "                and val[-6:-3] != '110' and val[-6:-3] != '111':\n",
    "            land_bitvals.append(val)\n",
    "        # snow-free\n",
    "        if val[-13] == '0':\n",
    "            snow_free_bitvals.append(val)\n",
    "\n",
    "    # converting them to intergers isn't too bad.\n",
    "    # https://www.delftstack.com/howto/python/convert-binary-to-int-python/\n",
    "    snow_free_ints = [int(i, 2) for i in snow_free_bitvals]\n",
    "    land_ints = [int(i, 2) for i in land_bitvals]\n",
    "    clear_ints = [int(i, 2) for i in clear_bitvals]\n",
    "    strong_clear_ints = [int(i, 2) for i in strong_clear_bitvals]\n",
    "    high_cirrus_ints = [int(i, 2) for i in high_cirrus]\n",
    "    average_cirrus_ints = [int(i, 2) for i in average_cirrus]\n",
    "\n",
    "    # Now, keeping the attributes of the data array, we make boolean arrays for each prospective mask...\n",
    "    with xr.set_options(keep_attrs=True):\n",
    "        cloud_bool = qa.isin(test_elements=clear_ints)\n",
    "        land_bool = qa.isin(test_elements=land_ints)\n",
    "        snow_bool = qa.isin(test_elements=snow_free_ints)\n",
    "        strong_cloud_bool = qa.isin(test_elements=strong_clear_ints)\n",
    "        high_cirrus_bool = qa.isin(test_elements=high_cirrus_ints)\n",
    "        average_cirrus_bool = qa.isin(test_elements=average_cirrus_ints)\n",
    "\n",
    "    cloud_mask = xr.where(cloud_bool, x=1, y=0)\n",
    "    land_mask = xr.where(land_bool, x=1, y=0)\n",
    "    snow_mask = xr.where(snow_bool, x=1, y=0)\n",
    "    strong_cloud_mask = xr.where(strong_cloud_bool, x=1, y=0)\n",
    "    high_cirrus_mask = xr.where(high_cirrus_bool, x=1, y=0)\n",
    "    average_cirrus_mask = xr.where(average_cirrus_bool, x=1, y=0)\n",
    "\n",
    "    # get the data from the filename\n",
    "    # filename example: 2018001.1_km_8_days_QA.tif\n",
    "    filename = os.path.split(qa_raster)[-1]\n",
    "    name_chunks = filename.split('.')[0:2]\n",
    "    unique_id = '.'.join(name_chunks)\n",
    "    cloud_name = '_cloud_mask'\n",
    "    strong_cloud_name = '_cloud_mask_strong'\n",
    "    water_name = '_water_mask'\n",
    "    snow_name = '_snow_mask'\n",
    "    high_cirrus_name = '_high_cirrus'\n",
    "    average_cirrus_name = '_average_cirrus'\n",
    "\n",
    "    # cloud_mask.rio.to_raster(os.path.join(cloud_root, f'{unique_id}{cloud_name}.tif'), tiled=True, lock=Lock('rio', client=client))\n",
    "    land_mask.rio.to_raster(os.path.join(water_root, f'{unique_id}{water_name}.tif'), tiled=True, lock=Lock('rio', client=client))\n",
    "    snow_mask.rio.to_raster(os.path.join(ice_snow_root, f'{unique_id}{snow_name}.tif'), tiled=True, lock=Lock('rio', client=client))\n",
    "    # strong_cloud_mask.rio.to_raster(os.path.join(strong_cloud_root, f'{unique_id}{strong_cloud_name}.tif'), tiled=True, lock=Lock('rio', client=client))\n",
    "    # high_cirrus_mask.rio.to_raster(os.path.join(high_cirrus_root, f'{unique_id}{high_cirrus_name}.tif'), tiled=True, lock=Lock('rio', client=client))\n",
    "    # average_cirrus_mask.rio.to_raster(os.path.join(average_cirrus_root, f'{unique_id}{average_cirrus_name}.tif'), tiled=True, lock=Lock('rio', client=client))"
   ],
   "metadata": {
    "collapsed": false,
    "pycharm": {
     "name": "#%%\n"
    }
   }
  },
  {
   "cell_type": "code",
   "execution_count": 9,
   "outputs": [
    {
     "name": "stdout",
     "output_type": "stream",
     "text": [
      "['W:\\\\Data\\\\WaterMask\\\\VIIRS\\\\QA_masks\\\\2014\\\\STRONG_CLOUD_MASK', 'W:\\\\Data\\\\WaterMask\\\\VIIRS\\\\QA_masks\\\\2014\\\\CLOUD_MASK', 'W:\\\\Data\\\\WaterMask\\\\VIIRS\\\\QA_masks\\\\2014\\\\WATER_MASK_QA', 'W:\\\\Data\\\\WaterMask\\\\VIIRS\\\\QA_masks\\\\2014\\\\SNOW_MASK', 'W:\\\\Data\\\\WaterMask\\\\VIIRS\\\\QA_masks\\\\2014\\\\HIGH_CIRRUS', 'W:\\\\Data\\\\WaterMask\\\\VIIRS\\\\QA_masks\\\\2014\\\\AVERAGE_CIRRUS']\n",
      "len of qa 46, len of green 46\n"
     ]
    }
   ],
   "source": [
    "root = r'W:\\Data\\WaterMask\\VIIRS\\QA_masks\\2014'\n",
    "dirs_to_create = ['STRONG_CLOUD_MASK', 'CLOUD_MASK', 'WATER_MASK_QA', 'SNOW_MASK', 'HIGH_CIRRUS', 'AVERAGE_CIRRUS']\n",
    "out_roots = []\n",
    "for d in dirs_to_create:\n",
    "    thing = os.path.join(root, d)\n",
    "    out_roots.append(thing)\n",
    "    if not os.path.exists(thing):\n",
    "        os.mkdir(thing)\n",
    "\n",
    "# # grab the rasters we need.\n",
    "qa_2018 = sorted(glob(r'W:\\Data\\WaterMask\\VIIRS\\QA\\2014\\*_QA.tif'))\n",
    "# turn green into just another qa -> cause it's for a dummy raster ayway\n",
    "green_2018 = sorted(glob(r'W:\\Data\\WaterMask\\VIIRS\\GREEN\\2017\\*.tif'))\n",
    "print(out_roots)\n",
    "print(f'len of qa {len(qa_2018)}, len of green {len(green_2018)}')"
   ],
   "metadata": {
    "collapsed": false,
    "pycharm": {
     "name": "#%%\n"
    }
   }
  },
  {
   "cell_type": "code",
   "execution_count": 10,
   "outputs": [
    {
     "name": "stderr",
     "output_type": "stream",
     "text": [
      "2022-08-31 14:40:00,091 - distributed.worker_memory - WARNING - Worker exceeded 95% memory budget. Restarting\n",
      "2022-08-31 14:40:01,377 - distributed.nanny - WARNING - Restarting worker\n",
      "2022-08-31 14:40:49,152 - distributed.worker_memory - WARNING - Worker exceeded 95% memory budget. Restarting\n",
      "2022-08-31 14:40:50,282 - distributed.nanny - WARNING - Restarting worker\n",
      "2022-08-31 14:42:11,412 - distributed.worker_memory - WARNING - Worker exceeded 95% memory budget. Restarting\n",
      "2022-08-31 14:42:12,543 - distributed.nanny - WARNING - Restarting worker\n",
      "2022-08-31 14:42:26,811 - distributed.worker_memory - WARNING - Worker exceeded 95% memory budget. Restarting\n",
      "2022-08-31 14:42:27,824 - distributed.nanny - WARNING - Restarting worker\n",
      "2022-08-31 14:46:12,310 - distributed.worker_memory - WARNING - Worker exceeded 95% memory budget. Restarting\n",
      "2022-08-31 14:46:13,453 - distributed.nanny - WARNING - Restarting worker\n",
      "2022-08-31 14:49:12,615 - distributed.worker_memory - WARNING - Worker exceeded 95% memory budget. Restarting\n",
      "2022-08-31 14:49:13,896 - distributed.nanny - WARNING - Restarting worker\n",
      "2022-08-31 14:50:30,647 - distributed.worker_memory - WARNING - Worker exceeded 95% memory budget. Restarting\n",
      "2022-08-31 14:50:31,664 - distributed.nanny - WARNING - Restarting worker\n",
      "2022-08-31 14:52:25,810 - distributed.worker_memory - WARNING - Worker exceeded 95% memory budget. Restarting\n",
      "2022-08-31 14:52:26,926 - distributed.nanny - WARNING - Restarting worker\n",
      "2022-08-31 14:53:48,400 - distributed.worker_memory - WARNING - Worker exceeded 95% memory budget. Restarting\n",
      "2022-08-31 14:53:49,648 - distributed.nanny - WARNING - Restarting worker\n",
      "Task exception was never retrieved\n",
      "future: <Task finished name='Task-4250' coro=<Client._gather.<locals>.wait() done, defined at D:\\programs\\Anaconda3\\envs\\satpy_env\\lib\\site-packages\\distributed\\client.py:2003> exception=AllExit()>\n",
      "Traceback (most recent call last):\n",
      "  File \"D:\\programs\\Anaconda3\\envs\\satpy_env\\lib\\site-packages\\distributed\\client.py\", line 2008, in wait\n",
      "    raise AllExit()\n",
      "distributed.client.AllExit\n",
      "Task exception was never retrieved\n",
      "future: <Task finished name='Task-4253' coro=<Client._gather.<locals>.wait() done, defined at D:\\programs\\Anaconda3\\envs\\satpy_env\\lib\\site-packages\\distributed\\client.py:2003> exception=AllExit()>\n",
      "Traceback (most recent call last):\n",
      "  File \"D:\\programs\\Anaconda3\\envs\\satpy_env\\lib\\site-packages\\distributed\\client.py\", line 2008, in wait\n",
      "    raise AllExit()\n",
      "distributed.client.AllExit\n"
     ]
    },
    {
     "ename": "MemoryError",
     "evalue": "Unable to allocate 640. MiB for an array with shape (167841000,) and data type int32",
     "output_type": "error",
     "traceback": [
      "\u001B[1;31m---------------------------------------------------------------------------\u001B[0m",
      "\u001B[1;31mMemoryError\u001B[0m                               Traceback (most recent call last)",
      "Input \u001B[1;32mIn [10]\u001B[0m, in \u001B[0;36m<cell line: 2>\u001B[1;34m()\u001B[0m\n\u001B[0;32m      1\u001B[0m \u001B[38;5;66;03m# produce 'em!!!\u001B[39;00m\n\u001B[0;32m      2\u001B[0m \u001B[38;5;28;01mfor\u001B[39;00m q, g \u001B[38;5;129;01min\u001B[39;00m \u001B[38;5;28mzip\u001B[39m(qa_2018[\u001B[38;5;241m-\u001B[39m\u001B[38;5;241m7\u001B[39m:], green_2018[\u001B[38;5;241m-\u001B[39m\u001B[38;5;241m7\u001B[39m:]):\n\u001B[1;32m----> 3\u001B[0m     \u001B[43mqa_band_to_raster_masks\u001B[49m\u001B[43m(\u001B[49m\u001B[43mcloud_root\u001B[49m\u001B[38;5;241;43m=\u001B[39;49m\u001B[43mout_roots\u001B[49m\u001B[43m[\u001B[49m\u001B[38;5;241;43m1\u001B[39;49m\u001B[43m]\u001B[49m\u001B[43m,\u001B[49m\u001B[43m \u001B[49m\u001B[43mstrong_cloud_root\u001B[49m\u001B[38;5;241;43m=\u001B[39;49m\u001B[43mout_roots\u001B[49m\u001B[43m[\u001B[49m\u001B[38;5;241;43m0\u001B[39;49m\u001B[43m]\u001B[49m\u001B[43m,\u001B[49m\n\u001B[0;32m      4\u001B[0m \u001B[43m                            \u001B[49m\u001B[43mwater_root\u001B[49m\u001B[38;5;241;43m=\u001B[39;49m\u001B[43mout_roots\u001B[49m\u001B[43m[\u001B[49m\u001B[38;5;241;43m2\u001B[39;49m\u001B[43m]\u001B[49m\u001B[43m,\u001B[49m\u001B[43m \u001B[49m\u001B[43mice_snow_root\u001B[49m\u001B[38;5;241;43m=\u001B[39;49m\u001B[43mout_roots\u001B[49m\u001B[43m[\u001B[49m\u001B[38;5;241;43m3\u001B[39;49m\u001B[43m]\u001B[49m\u001B[43m,\u001B[49m\n\u001B[0;32m      5\u001B[0m \u001B[43m                            \u001B[49m\u001B[43mhigh_cirrus_root\u001B[49m\u001B[38;5;241;43m=\u001B[39;49m\u001B[43mout_roots\u001B[49m\u001B[43m[\u001B[49m\u001B[38;5;241;43m4\u001B[39;49m\u001B[43m]\u001B[49m\u001B[43m,\u001B[49m\u001B[43m \u001B[49m\u001B[43maverage_cirrus_root\u001B[49m\u001B[38;5;241;43m=\u001B[39;49m\u001B[43mout_roots\u001B[49m\u001B[43m[\u001B[49m\u001B[38;5;241;43m5\u001B[39;49m\u001B[43m]\u001B[49m\u001B[43m,\u001B[49m\n\u001B[0;32m      6\u001B[0m \u001B[43m                            \u001B[49m\u001B[43mqa_raster\u001B[49m\u001B[38;5;241;43m=\u001B[39;49m\u001B[43mq\u001B[49m\u001B[43m,\u001B[49m\u001B[43m \u001B[49m\u001B[43mdummy_raster\u001B[49m\u001B[38;5;241;43m=\u001B[39;49m\u001B[43mg\u001B[49m\u001B[43m)\u001B[49m\n",
      "Input \u001B[1;32mIn [3]\u001B[0m, in \u001B[0;36mqa_band_to_raster_masks\u001B[1;34m(cloud_root, strong_cloud_root, water_root, ice_snow_root, high_cirrus_root, average_cirrus_root, qa_raster, dummy_raster)\u001B[0m\n\u001B[0;32m     82\u001B[0m strong_cloud_mask\u001B[38;5;241m.\u001B[39mrio\u001B[38;5;241m.\u001B[39mto_raster(os\u001B[38;5;241m.\u001B[39mpath\u001B[38;5;241m.\u001B[39mjoin(strong_cloud_root, \u001B[38;5;124mf\u001B[39m\u001B[38;5;124m'\u001B[39m\u001B[38;5;132;01m{\u001B[39;00munique_id\u001B[38;5;132;01m}\u001B[39;00m\u001B[38;5;132;01m{\u001B[39;00mstrong_cloud_name\u001B[38;5;132;01m}\u001B[39;00m\u001B[38;5;124m.tif\u001B[39m\u001B[38;5;124m'\u001B[39m), tiled\u001B[38;5;241m=\u001B[39m\u001B[38;5;28;01mTrue\u001B[39;00m, lock\u001B[38;5;241m=\u001B[39mLock(\u001B[38;5;124m'\u001B[39m\u001B[38;5;124mrio\u001B[39m\u001B[38;5;124m'\u001B[39m, client\u001B[38;5;241m=\u001B[39mclient))\n\u001B[0;32m     83\u001B[0m high_cirrus_mask\u001B[38;5;241m.\u001B[39mrio\u001B[38;5;241m.\u001B[39mto_raster(os\u001B[38;5;241m.\u001B[39mpath\u001B[38;5;241m.\u001B[39mjoin(high_cirrus_root, \u001B[38;5;124mf\u001B[39m\u001B[38;5;124m'\u001B[39m\u001B[38;5;132;01m{\u001B[39;00munique_id\u001B[38;5;132;01m}\u001B[39;00m\u001B[38;5;132;01m{\u001B[39;00mhigh_cirrus_name\u001B[38;5;132;01m}\u001B[39;00m\u001B[38;5;124m.tif\u001B[39m\u001B[38;5;124m'\u001B[39m), tiled\u001B[38;5;241m=\u001B[39m\u001B[38;5;28;01mTrue\u001B[39;00m, lock\u001B[38;5;241m=\u001B[39mLock(\u001B[38;5;124m'\u001B[39m\u001B[38;5;124mrio\u001B[39m\u001B[38;5;124m'\u001B[39m, client\u001B[38;5;241m=\u001B[39mclient))\n\u001B[1;32m---> 84\u001B[0m \u001B[43maverage_cirrus_mask\u001B[49m\u001B[38;5;241;43m.\u001B[39;49m\u001B[43mrio\u001B[49m\u001B[38;5;241;43m.\u001B[39;49m\u001B[43mto_raster\u001B[49m\u001B[43m(\u001B[49m\u001B[43mos\u001B[49m\u001B[38;5;241;43m.\u001B[39;49m\u001B[43mpath\u001B[49m\u001B[38;5;241;43m.\u001B[39;49m\u001B[43mjoin\u001B[49m\u001B[43m(\u001B[49m\u001B[43maverage_cirrus_root\u001B[49m\u001B[43m,\u001B[49m\u001B[43m \u001B[49m\u001B[38;5;124;43mf\u001B[39;49m\u001B[38;5;124;43m'\u001B[39;49m\u001B[38;5;132;43;01m{\u001B[39;49;00m\u001B[43munique_id\u001B[49m\u001B[38;5;132;43;01m}\u001B[39;49;00m\u001B[38;5;132;43;01m{\u001B[39;49;00m\u001B[43maverage_cirrus_name\u001B[49m\u001B[38;5;132;43;01m}\u001B[39;49;00m\u001B[38;5;124;43m.tif\u001B[39;49m\u001B[38;5;124;43m'\u001B[39;49m\u001B[43m)\u001B[49m\u001B[43m,\u001B[49m\u001B[43m \u001B[49m\u001B[43mtiled\u001B[49m\u001B[38;5;241;43m=\u001B[39;49m\u001B[38;5;28;43;01mTrue\u001B[39;49;00m\u001B[43m,\u001B[49m\u001B[43m \u001B[49m\u001B[43mlock\u001B[49m\u001B[38;5;241;43m=\u001B[39;49m\u001B[43mLock\u001B[49m\u001B[43m(\u001B[49m\u001B[38;5;124;43m'\u001B[39;49m\u001B[38;5;124;43mrio\u001B[39;49m\u001B[38;5;124;43m'\u001B[39;49m\u001B[43m,\u001B[49m\u001B[43m \u001B[49m\u001B[43mclient\u001B[49m\u001B[38;5;241;43m=\u001B[39;49m\u001B[43mclient\u001B[49m\u001B[43m)\u001B[49m\u001B[43m)\u001B[49m\n",
      "File \u001B[1;32mD:\\programs\\Anaconda3\\envs\\satpy_env\\lib\\site-packages\\rioxarray\\raster_array.py:1016\u001B[0m, in \u001B[0;36mRasterArray.to_raster\u001B[1;34m(self, raster_path, driver, dtype, tags, windowed, recalc_transform, lock, compute, **profile_kwargs)\u001B[0m\n\u001B[0;32m    997\u001B[0m out_profile \u001B[38;5;241m=\u001B[39m {\n\u001B[0;32m    998\u001B[0m     key: value\n\u001B[0;32m    999\u001B[0m     \u001B[38;5;28;01mfor\u001B[39;00m key, value \u001B[38;5;129;01min\u001B[39;00m out_profile\u001B[38;5;241m.\u001B[39mitems()\n\u001B[1;32m   (...)\u001B[0m\n\u001B[0;32m   1010\u001B[0m     )\n\u001B[0;32m   1011\u001B[0m }\n\u001B[0;32m   1012\u001B[0m rio_nodata \u001B[38;5;241m=\u001B[39m (\n\u001B[0;32m   1013\u001B[0m     \u001B[38;5;28mself\u001B[39m\u001B[38;5;241m.\u001B[39mencoded_nodata \u001B[38;5;28;01mif\u001B[39;00m \u001B[38;5;28mself\u001B[39m\u001B[38;5;241m.\u001B[39mencoded_nodata \u001B[38;5;129;01mis\u001B[39;00m \u001B[38;5;129;01mnot\u001B[39;00m \u001B[38;5;28;01mNone\u001B[39;00m \u001B[38;5;28;01melse\u001B[39;00m \u001B[38;5;28mself\u001B[39m\u001B[38;5;241m.\u001B[39mnodata\n\u001B[0;32m   1014\u001B[0m )\n\u001B[1;32m-> 1016\u001B[0m \u001B[38;5;28;01mreturn\u001B[39;00m RasterioWriter(raster_path\u001B[38;5;241m=\u001B[39mraster_path)\u001B[38;5;241m.\u001B[39mto_raster(\n\u001B[0;32m   1017\u001B[0m     xarray_dataarray\u001B[38;5;241m=\u001B[39m\u001B[38;5;28mself\u001B[39m\u001B[38;5;241m.\u001B[39m_obj,\n\u001B[0;32m   1018\u001B[0m     tags\u001B[38;5;241m=\u001B[39mtags,\n\u001B[0;32m   1019\u001B[0m     driver\u001B[38;5;241m=\u001B[39mdriver,\n\u001B[0;32m   1020\u001B[0m     height\u001B[38;5;241m=\u001B[39m\u001B[38;5;28mint\u001B[39m(\u001B[38;5;28mself\u001B[39m\u001B[38;5;241m.\u001B[39mheight),\n\u001B[0;32m   1021\u001B[0m     width\u001B[38;5;241m=\u001B[39m\u001B[38;5;28mint\u001B[39m(\u001B[38;5;28mself\u001B[39m\u001B[38;5;241m.\u001B[39mwidth),\n\u001B[0;32m   1022\u001B[0m     count\u001B[38;5;241m=\u001B[39m\u001B[38;5;28mint\u001B[39m(\u001B[38;5;28mself\u001B[39m\u001B[38;5;241m.\u001B[39mcount),\n\u001B[0;32m   1023\u001B[0m     dtype\u001B[38;5;241m=\u001B[39mdtype,\n\u001B[0;32m   1024\u001B[0m     crs\u001B[38;5;241m=\u001B[39m\u001B[38;5;28mself\u001B[39m\u001B[38;5;241m.\u001B[39mcrs,\n\u001B[0;32m   1025\u001B[0m     transform\u001B[38;5;241m=\u001B[39m\u001B[38;5;28mself\u001B[39m\u001B[38;5;241m.\u001B[39mtransform(recalc\u001B[38;5;241m=\u001B[39mrecalc_transform),\n\u001B[0;32m   1026\u001B[0m     gcps\u001B[38;5;241m=\u001B[39m\u001B[38;5;28mself\u001B[39m\u001B[38;5;241m.\u001B[39mget_gcps(),\n\u001B[0;32m   1027\u001B[0m     nodata\u001B[38;5;241m=\u001B[39mrio_nodata,\n\u001B[0;32m   1028\u001B[0m     windowed\u001B[38;5;241m=\u001B[39mwindowed,\n\u001B[0;32m   1029\u001B[0m     lock\u001B[38;5;241m=\u001B[39mlock,\n\u001B[0;32m   1030\u001B[0m     compute\u001B[38;5;241m=\u001B[39mcompute,\n\u001B[0;32m   1031\u001B[0m     \u001B[38;5;241m*\u001B[39m\u001B[38;5;241m*\u001B[39mout_profile,\n\u001B[0;32m   1032\u001B[0m )\n",
      "File \u001B[1;32mD:\\programs\\Anaconda3\\envs\\satpy_env\\lib\\site-packages\\rioxarray\\raster_writer.py:259\u001B[0m, in \u001B[0;36mRasterioWriter.to_raster\u001B[1;34m(self, xarray_dataarray, tags, windowed, lock, compute, **kwargs)\u001B[0m\n\u001B[0;32m    256\u001B[0m                 rds\u001B[38;5;241m.\u001B[39mwrite(data, window\u001B[38;5;241m=\u001B[39mwindow)\n\u001B[0;32m    258\u001B[0m \u001B[38;5;28;01mif\u001B[39;00m lock \u001B[38;5;129;01mand\u001B[39;00m is_dask_collection(xarray_dataarray\u001B[38;5;241m.\u001B[39mdata):\n\u001B[1;32m--> 259\u001B[0m     \u001B[38;5;28;01mreturn\u001B[39;00m \u001B[43mdask\u001B[49m\u001B[38;5;241;43m.\u001B[39;49m\u001B[43marray\u001B[49m\u001B[38;5;241;43m.\u001B[39;49m\u001B[43mstore\u001B[49m\u001B[43m(\u001B[49m\n\u001B[0;32m    260\u001B[0m \u001B[43m        \u001B[49m\u001B[43mencode_cf_variable\u001B[49m\u001B[43m(\u001B[49m\u001B[43mxarray_dataarray\u001B[49m\u001B[43m)\u001B[49m\u001B[38;5;241;43m.\u001B[39;49m\u001B[43mdata\u001B[49m\u001B[38;5;241;43m.\u001B[39;49m\u001B[43mastype\u001B[49m\u001B[43m(\u001B[49m\u001B[43mnumpy_dtype\u001B[49m\u001B[43m)\u001B[49m\u001B[43m,\u001B[49m\n\u001B[0;32m    261\u001B[0m \u001B[43m        \u001B[49m\u001B[38;5;28;43mself\u001B[39;49m\u001B[43m,\u001B[49m\n\u001B[0;32m    262\u001B[0m \u001B[43m        \u001B[49m\u001B[43mlock\u001B[49m\u001B[38;5;241;43m=\u001B[39;49m\u001B[43mlock\u001B[49m\u001B[43m,\u001B[49m\n\u001B[0;32m    263\u001B[0m \u001B[43m        \u001B[49m\u001B[43mcompute\u001B[49m\u001B[38;5;241;43m=\u001B[39;49m\u001B[43mcompute\u001B[49m\u001B[43m,\u001B[49m\n\u001B[0;32m    264\u001B[0m \u001B[43m    \u001B[49m\u001B[43m)\u001B[49m\n\u001B[0;32m    265\u001B[0m \u001B[38;5;28;01mreturn\u001B[39;00m \u001B[38;5;28;01mNone\u001B[39;00m\n",
      "File \u001B[1;32mD:\\programs\\Anaconda3\\envs\\satpy_env\\lib\\site-packages\\dask\\array\\core.py:1175\u001B[0m, in \u001B[0;36mstore\u001B[1;34m(sources, targets, lock, regions, compute, return_stored, **kwargs)\u001B[0m\n\u001B[0;32m   1173\u001B[0m \u001B[38;5;28;01melif\u001B[39;00m compute:\n\u001B[0;32m   1174\u001B[0m     store_dsk \u001B[38;5;241m=\u001B[39m HighLevelGraph(layers, dependencies)\n\u001B[1;32m-> 1175\u001B[0m     compute_as_if_collection(Array, store_dsk, map_keys, \u001B[38;5;241m*\u001B[39m\u001B[38;5;241m*\u001B[39mkwargs)\n\u001B[0;32m   1176\u001B[0m     \u001B[38;5;28;01mreturn\u001B[39;00m \u001B[38;5;28;01mNone\u001B[39;00m\n\u001B[0;32m   1178\u001B[0m \u001B[38;5;28;01melse\u001B[39;00m:\n",
      "File \u001B[1;32mD:\\programs\\Anaconda3\\envs\\satpy_env\\lib\\site-packages\\dask\\base.py:319\u001B[0m, in \u001B[0;36mcompute_as_if_collection\u001B[1;34m(cls, dsk, keys, scheduler, get, **kwargs)\u001B[0m\n\u001B[0;32m    317\u001B[0m schedule \u001B[38;5;241m=\u001B[39m get_scheduler(scheduler\u001B[38;5;241m=\u001B[39mscheduler, \u001B[38;5;28mcls\u001B[39m\u001B[38;5;241m=\u001B[39m\u001B[38;5;28mcls\u001B[39m, get\u001B[38;5;241m=\u001B[39mget)\n\u001B[0;32m    318\u001B[0m dsk2 \u001B[38;5;241m=\u001B[39m optimization_function(\u001B[38;5;28mcls\u001B[39m)(dsk, keys, \u001B[38;5;241m*\u001B[39m\u001B[38;5;241m*\u001B[39mkwargs)\n\u001B[1;32m--> 319\u001B[0m \u001B[38;5;28;01mreturn\u001B[39;00m schedule(dsk2, keys, \u001B[38;5;241m*\u001B[39m\u001B[38;5;241m*\u001B[39mkwargs)\n",
      "File \u001B[1;32mD:\\programs\\Anaconda3\\envs\\satpy_env\\lib\\site-packages\\distributed\\client.py:3018\u001B[0m, in \u001B[0;36mClient.get\u001B[1;34m(self, dsk, keys, workers, allow_other_workers, resources, sync, asynchronous, direct, retries, priority, fifo_timeout, actors, **kwargs)\u001B[0m\n\u001B[0;32m   3016\u001B[0m         should_rejoin \u001B[38;5;241m=\u001B[39m \u001B[38;5;28;01mFalse\u001B[39;00m\n\u001B[0;32m   3017\u001B[0m \u001B[38;5;28;01mtry\u001B[39;00m:\n\u001B[1;32m-> 3018\u001B[0m     results \u001B[38;5;241m=\u001B[39m \u001B[38;5;28;43mself\u001B[39;49m\u001B[38;5;241;43m.\u001B[39;49m\u001B[43mgather\u001B[49m\u001B[43m(\u001B[49m\u001B[43mpacked\u001B[49m\u001B[43m,\u001B[49m\u001B[43m \u001B[49m\u001B[43masynchronous\u001B[49m\u001B[38;5;241;43m=\u001B[39;49m\u001B[43masynchronous\u001B[49m\u001B[43m,\u001B[49m\u001B[43m \u001B[49m\u001B[43mdirect\u001B[49m\u001B[38;5;241;43m=\u001B[39;49m\u001B[43mdirect\u001B[49m\u001B[43m)\u001B[49m\n\u001B[0;32m   3019\u001B[0m \u001B[38;5;28;01mfinally\u001B[39;00m:\n\u001B[0;32m   3020\u001B[0m     \u001B[38;5;28;01mfor\u001B[39;00m f \u001B[38;5;129;01min\u001B[39;00m futures\u001B[38;5;241m.\u001B[39mvalues():\n",
      "File \u001B[1;32mD:\\programs\\Anaconda3\\envs\\satpy_env\\lib\\site-packages\\distributed\\client.py:2171\u001B[0m, in \u001B[0;36mClient.gather\u001B[1;34m(self, futures, errors, direct, asynchronous)\u001B[0m\n\u001B[0;32m   2169\u001B[0m \u001B[38;5;28;01melse\u001B[39;00m:\n\u001B[0;32m   2170\u001B[0m     local_worker \u001B[38;5;241m=\u001B[39m \u001B[38;5;28;01mNone\u001B[39;00m\n\u001B[1;32m-> 2171\u001B[0m \u001B[38;5;28;01mreturn\u001B[39;00m \u001B[38;5;28;43mself\u001B[39;49m\u001B[38;5;241;43m.\u001B[39;49m\u001B[43msync\u001B[49m\u001B[43m(\u001B[49m\n\u001B[0;32m   2172\u001B[0m \u001B[43m    \u001B[49m\u001B[38;5;28;43mself\u001B[39;49m\u001B[38;5;241;43m.\u001B[39;49m\u001B[43m_gather\u001B[49m\u001B[43m,\u001B[49m\n\u001B[0;32m   2173\u001B[0m \u001B[43m    \u001B[49m\u001B[43mfutures\u001B[49m\u001B[43m,\u001B[49m\n\u001B[0;32m   2174\u001B[0m \u001B[43m    \u001B[49m\u001B[43merrors\u001B[49m\u001B[38;5;241;43m=\u001B[39;49m\u001B[43merrors\u001B[49m\u001B[43m,\u001B[49m\n\u001B[0;32m   2175\u001B[0m \u001B[43m    \u001B[49m\u001B[43mdirect\u001B[49m\u001B[38;5;241;43m=\u001B[39;49m\u001B[43mdirect\u001B[49m\u001B[43m,\u001B[49m\n\u001B[0;32m   2176\u001B[0m \u001B[43m    \u001B[49m\u001B[43mlocal_worker\u001B[49m\u001B[38;5;241;43m=\u001B[39;49m\u001B[43mlocal_worker\u001B[49m\u001B[43m,\u001B[49m\n\u001B[0;32m   2177\u001B[0m \u001B[43m    \u001B[49m\u001B[43masynchronous\u001B[49m\u001B[38;5;241;43m=\u001B[39;49m\u001B[43masynchronous\u001B[49m\u001B[43m,\u001B[49m\n\u001B[0;32m   2178\u001B[0m \u001B[43m\u001B[49m\u001B[43m)\u001B[49m\n",
      "File \u001B[1;32mD:\\programs\\Anaconda3\\envs\\satpy_env\\lib\\site-packages\\distributed\\utils.py:309\u001B[0m, in \u001B[0;36mSyncMethodMixin.sync\u001B[1;34m(self, func, asynchronous, callback_timeout, *args, **kwargs)\u001B[0m\n\u001B[0;32m    307\u001B[0m     \u001B[38;5;28;01mreturn\u001B[39;00m future\n\u001B[0;32m    308\u001B[0m \u001B[38;5;28;01melse\u001B[39;00m:\n\u001B[1;32m--> 309\u001B[0m     \u001B[38;5;28;01mreturn\u001B[39;00m sync(\n\u001B[0;32m    310\u001B[0m         \u001B[38;5;28mself\u001B[39m\u001B[38;5;241m.\u001B[39mloop, func, \u001B[38;5;241m*\u001B[39margs, callback_timeout\u001B[38;5;241m=\u001B[39mcallback_timeout, \u001B[38;5;241m*\u001B[39m\u001B[38;5;241m*\u001B[39mkwargs\n\u001B[0;32m    311\u001B[0m     )\n",
      "File \u001B[1;32mD:\\programs\\Anaconda3\\envs\\satpy_env\\lib\\site-packages\\distributed\\utils.py:376\u001B[0m, in \u001B[0;36msync\u001B[1;34m(loop, func, callback_timeout, *args, **kwargs)\u001B[0m\n\u001B[0;32m    374\u001B[0m \u001B[38;5;28;01mif\u001B[39;00m error:\n\u001B[0;32m    375\u001B[0m     typ, exc, tb \u001B[38;5;241m=\u001B[39m error\n\u001B[1;32m--> 376\u001B[0m     \u001B[38;5;28;01mraise\u001B[39;00m exc\u001B[38;5;241m.\u001B[39mwith_traceback(tb)\n\u001B[0;32m    377\u001B[0m \u001B[38;5;28;01melse\u001B[39;00m:\n\u001B[0;32m    378\u001B[0m     \u001B[38;5;28;01mreturn\u001B[39;00m result\n",
      "File \u001B[1;32mD:\\programs\\Anaconda3\\envs\\satpy_env\\lib\\site-packages\\distributed\\utils.py:349\u001B[0m, in \u001B[0;36msync.<locals>.f\u001B[1;34m()\u001B[0m\n\u001B[0;32m    347\u001B[0m         future \u001B[38;5;241m=\u001B[39m asyncio\u001B[38;5;241m.\u001B[39mwait_for(future, callback_timeout)\n\u001B[0;32m    348\u001B[0m     future \u001B[38;5;241m=\u001B[39m asyncio\u001B[38;5;241m.\u001B[39mensure_future(future)\n\u001B[1;32m--> 349\u001B[0m     result \u001B[38;5;241m=\u001B[39m \u001B[38;5;28;01myield\u001B[39;00m future\n\u001B[0;32m    350\u001B[0m \u001B[38;5;28;01mexcept\u001B[39;00m \u001B[38;5;167;01mException\u001B[39;00m:\n\u001B[0;32m    351\u001B[0m     error \u001B[38;5;241m=\u001B[39m sys\u001B[38;5;241m.\u001B[39mexc_info()\n",
      "File \u001B[1;32mD:\\programs\\Anaconda3\\envs\\satpy_env\\lib\\site-packages\\tornado\\gen.py:762\u001B[0m, in \u001B[0;36mRunner.run\u001B[1;34m(self)\u001B[0m\n\u001B[0;32m    759\u001B[0m exc_info \u001B[38;5;241m=\u001B[39m \u001B[38;5;28;01mNone\u001B[39;00m\n\u001B[0;32m    761\u001B[0m \u001B[38;5;28;01mtry\u001B[39;00m:\n\u001B[1;32m--> 762\u001B[0m     value \u001B[38;5;241m=\u001B[39m \u001B[43mfuture\u001B[49m\u001B[38;5;241;43m.\u001B[39;49m\u001B[43mresult\u001B[49m\u001B[43m(\u001B[49m\u001B[43m)\u001B[49m\n\u001B[0;32m    763\u001B[0m \u001B[38;5;28;01mexcept\u001B[39;00m \u001B[38;5;167;01mException\u001B[39;00m:\n\u001B[0;32m    764\u001B[0m     exc_info \u001B[38;5;241m=\u001B[39m sys\u001B[38;5;241m.\u001B[39mexc_info()\n",
      "File \u001B[1;32mD:\\programs\\Anaconda3\\envs\\satpy_env\\lib\\site-packages\\distributed\\client.py:2034\u001B[0m, in \u001B[0;36mClient._gather\u001B[1;34m(self, futures, errors, direct, local_worker)\u001B[0m\n\u001B[0;32m   2032\u001B[0m         exc \u001B[38;5;241m=\u001B[39m CancelledError(key)\n\u001B[0;32m   2033\u001B[0m     \u001B[38;5;28;01melse\u001B[39;00m:\n\u001B[1;32m-> 2034\u001B[0m         \u001B[38;5;28;01mraise\u001B[39;00m exception\u001B[38;5;241m.\u001B[39mwith_traceback(traceback)\n\u001B[0;32m   2035\u001B[0m     \u001B[38;5;28;01mraise\u001B[39;00m exc\n\u001B[0;32m   2036\u001B[0m \u001B[38;5;28;01mif\u001B[39;00m errors \u001B[38;5;241m==\u001B[39m \u001B[38;5;124m\"\u001B[39m\u001B[38;5;124mskip\u001B[39m\u001B[38;5;124m\"\u001B[39m:\n",
      "File \u001B[1;32mD:\\programs\\Anaconda3\\envs\\satpy_env\\lib\\site-packages\\dask\\optimization.py:990\u001B[0m, in \u001B[0;36m__call__\u001B[1;34m()\u001B[0m\n\u001B[0;32m    988\u001B[0m \u001B[38;5;28;01mif\u001B[39;00m \u001B[38;5;129;01mnot\u001B[39;00m \u001B[38;5;28mlen\u001B[39m(args) \u001B[38;5;241m==\u001B[39m \u001B[38;5;28mlen\u001B[39m(\u001B[38;5;28mself\u001B[39m\u001B[38;5;241m.\u001B[39minkeys):\n\u001B[0;32m    989\u001B[0m     \u001B[38;5;28;01mraise\u001B[39;00m \u001B[38;5;167;01mValueError\u001B[39;00m(\u001B[38;5;124m\"\u001B[39m\u001B[38;5;124mExpected \u001B[39m\u001B[38;5;132;01m%d\u001B[39;00m\u001B[38;5;124m args, got \u001B[39m\u001B[38;5;132;01m%d\u001B[39;00m\u001B[38;5;124m\"\u001B[39m \u001B[38;5;241m%\u001B[39m (\u001B[38;5;28mlen\u001B[39m(\u001B[38;5;28mself\u001B[39m\u001B[38;5;241m.\u001B[39minkeys), \u001B[38;5;28mlen\u001B[39m(args)))\n\u001B[1;32m--> 990\u001B[0m \u001B[38;5;28;01mreturn\u001B[39;00m core\u001B[38;5;241m.\u001B[39mget(\u001B[38;5;28mself\u001B[39m\u001B[38;5;241m.\u001B[39mdsk, \u001B[38;5;28mself\u001B[39m\u001B[38;5;241m.\u001B[39moutkey, \u001B[38;5;28mdict\u001B[39m(\u001B[38;5;28mzip\u001B[39m(\u001B[38;5;28mself\u001B[39m\u001B[38;5;241m.\u001B[39minkeys, args)))\n",
      "File \u001B[1;32mD:\\programs\\Anaconda3\\envs\\satpy_env\\lib\\site-packages\\dask\\core.py:149\u001B[0m, in \u001B[0;36mget\u001B[1;34m()\u001B[0m\n\u001B[0;32m    147\u001B[0m \u001B[38;5;28;01mfor\u001B[39;00m key \u001B[38;5;129;01min\u001B[39;00m toposort(dsk):\n\u001B[0;32m    148\u001B[0m     task \u001B[38;5;241m=\u001B[39m dsk[key]\n\u001B[1;32m--> 149\u001B[0m     result \u001B[38;5;241m=\u001B[39m _execute_task(task, cache)\n\u001B[0;32m    150\u001B[0m     cache[key] \u001B[38;5;241m=\u001B[39m result\n\u001B[0;32m    151\u001B[0m result \u001B[38;5;241m=\u001B[39m _execute_task(out, cache)\n",
      "File \u001B[1;32mD:\\programs\\Anaconda3\\envs\\satpy_env\\lib\\site-packages\\dask\\core.py:119\u001B[0m, in \u001B[0;36m_execute_task\u001B[1;34m()\u001B[0m\n\u001B[0;32m    115\u001B[0m     func, args \u001B[38;5;241m=\u001B[39m arg[\u001B[38;5;241m0\u001B[39m], arg[\u001B[38;5;241m1\u001B[39m:]\n\u001B[0;32m    116\u001B[0m     \u001B[38;5;66;03m# Note: Don't assign the subtask results to a variable. numpy detects\u001B[39;00m\n\u001B[0;32m    117\u001B[0m     \u001B[38;5;66;03m# temporaries by their reference count and can execute certain\u001B[39;00m\n\u001B[0;32m    118\u001B[0m     \u001B[38;5;66;03m# operations in-place.\u001B[39;00m\n\u001B[1;32m--> 119\u001B[0m     \u001B[38;5;28;01mreturn\u001B[39;00m func(\u001B[38;5;241m*\u001B[39m(_execute_task(a, cache) \u001B[38;5;28;01mfor\u001B[39;00m a \u001B[38;5;129;01min\u001B[39;00m args))\n\u001B[0;32m    120\u001B[0m \u001B[38;5;28;01melif\u001B[39;00m \u001B[38;5;129;01mnot\u001B[39;00m ishashable(arg):\n\u001B[0;32m    121\u001B[0m     \u001B[38;5;28;01mreturn\u001B[39;00m arg\n",
      "File \u001B[1;32mD:\\programs\\Anaconda3\\envs\\satpy_env\\lib\\site-packages\\dask\\core.py:119\u001B[0m, in \u001B[0;36m<genexpr>\u001B[1;34m()\u001B[0m\n\u001B[0;32m    115\u001B[0m     func, args \u001B[38;5;241m=\u001B[39m arg[\u001B[38;5;241m0\u001B[39m], arg[\u001B[38;5;241m1\u001B[39m:]\n\u001B[0;32m    116\u001B[0m     \u001B[38;5;66;03m# Note: Don't assign the subtask results to a variable. numpy detects\u001B[39;00m\n\u001B[0;32m    117\u001B[0m     \u001B[38;5;66;03m# temporaries by their reference count and can execute certain\u001B[39;00m\n\u001B[0;32m    118\u001B[0m     \u001B[38;5;66;03m# operations in-place.\u001B[39;00m\n\u001B[1;32m--> 119\u001B[0m     \u001B[38;5;28;01mreturn\u001B[39;00m func(\u001B[38;5;241m*\u001B[39m(_execute_task(a, cache) \u001B[38;5;28;01mfor\u001B[39;00m a \u001B[38;5;129;01min\u001B[39;00m args))\n\u001B[0;32m    120\u001B[0m \u001B[38;5;28;01melif\u001B[39;00m \u001B[38;5;129;01mnot\u001B[39;00m ishashable(arg):\n\u001B[0;32m    121\u001B[0m     \u001B[38;5;28;01mreturn\u001B[39;00m arg\n",
      "File \u001B[1;32mD:\\programs\\Anaconda3\\envs\\satpy_env\\lib\\site-packages\\dask\\core.py:113\u001B[0m, in \u001B[0;36m_execute_task\u001B[1;34m()\u001B[0m\n\u001B[0;32m     83\u001B[0m \u001B[38;5;124;03m\"\"\"Do the actual work of collecting data and executing a function\u001B[39;00m\n\u001B[0;32m     84\u001B[0m \n\u001B[0;32m     85\u001B[0m \u001B[38;5;124;03mExamples\u001B[39;00m\n\u001B[1;32m   (...)\u001B[0m\n\u001B[0;32m    110\u001B[0m \u001B[38;5;124;03m'foo'\u001B[39;00m\n\u001B[0;32m    111\u001B[0m \u001B[38;5;124;03m\"\"\"\u001B[39;00m\n\u001B[0;32m    112\u001B[0m \u001B[38;5;28;01mif\u001B[39;00m \u001B[38;5;28misinstance\u001B[39m(arg, \u001B[38;5;28mlist\u001B[39m):\n\u001B[1;32m--> 113\u001B[0m     \u001B[38;5;28;01mreturn\u001B[39;00m [_execute_task(a, cache) \u001B[38;5;28;01mfor\u001B[39;00m a \u001B[38;5;129;01min\u001B[39;00m arg]\n\u001B[0;32m    114\u001B[0m \u001B[38;5;28;01melif\u001B[39;00m istask(arg):\n\u001B[0;32m    115\u001B[0m     func, args \u001B[38;5;241m=\u001B[39m arg[\u001B[38;5;241m0\u001B[39m], arg[\u001B[38;5;241m1\u001B[39m:]\n",
      "File \u001B[1;32mD:\\programs\\Anaconda3\\envs\\satpy_env\\lib\\site-packages\\dask\\core.py:113\u001B[0m, in \u001B[0;36m<listcomp>\u001B[1;34m()\u001B[0m\n\u001B[0;32m     83\u001B[0m \u001B[38;5;124;03m\"\"\"Do the actual work of collecting data and executing a function\u001B[39;00m\n\u001B[0;32m     84\u001B[0m \n\u001B[0;32m     85\u001B[0m \u001B[38;5;124;03mExamples\u001B[39;00m\n\u001B[1;32m   (...)\u001B[0m\n\u001B[0;32m    110\u001B[0m \u001B[38;5;124;03m'foo'\u001B[39;00m\n\u001B[0;32m    111\u001B[0m \u001B[38;5;124;03m\"\"\"\u001B[39;00m\n\u001B[0;32m    112\u001B[0m \u001B[38;5;28;01mif\u001B[39;00m \u001B[38;5;28misinstance\u001B[39m(arg, \u001B[38;5;28mlist\u001B[39m):\n\u001B[1;32m--> 113\u001B[0m     \u001B[38;5;28;01mreturn\u001B[39;00m [_execute_task(a, cache) \u001B[38;5;28;01mfor\u001B[39;00m a \u001B[38;5;129;01min\u001B[39;00m arg]\n\u001B[0;32m    114\u001B[0m \u001B[38;5;28;01melif\u001B[39;00m istask(arg):\n\u001B[0;32m    115\u001B[0m     func, args \u001B[38;5;241m=\u001B[39m arg[\u001B[38;5;241m0\u001B[39m], arg[\u001B[38;5;241m1\u001B[39m:]\n",
      "File \u001B[1;32mD:\\programs\\Anaconda3\\envs\\satpy_env\\lib\\site-packages\\dask\\core.py:119\u001B[0m, in \u001B[0;36m_execute_task\u001B[1;34m()\u001B[0m\n\u001B[0;32m    115\u001B[0m     func, args \u001B[38;5;241m=\u001B[39m arg[\u001B[38;5;241m0\u001B[39m], arg[\u001B[38;5;241m1\u001B[39m:]\n\u001B[0;32m    116\u001B[0m     \u001B[38;5;66;03m# Note: Don't assign the subtask results to a variable. numpy detects\u001B[39;00m\n\u001B[0;32m    117\u001B[0m     \u001B[38;5;66;03m# temporaries by their reference count and can execute certain\u001B[39;00m\n\u001B[0;32m    118\u001B[0m     \u001B[38;5;66;03m# operations in-place.\u001B[39;00m\n\u001B[1;32m--> 119\u001B[0m     \u001B[38;5;28;01mreturn\u001B[39;00m func(\u001B[38;5;241m*\u001B[39m(_execute_task(a, cache) \u001B[38;5;28;01mfor\u001B[39;00m a \u001B[38;5;129;01min\u001B[39;00m args))\n\u001B[0;32m    120\u001B[0m \u001B[38;5;28;01melif\u001B[39;00m \u001B[38;5;129;01mnot\u001B[39;00m ishashable(arg):\n\u001B[0;32m    121\u001B[0m     \u001B[38;5;28;01mreturn\u001B[39;00m arg\n",
      "File \u001B[1;32mD:\\programs\\Anaconda3\\envs\\satpy_env\\lib\\site-packages\\dask\\utils.py:39\u001B[0m, in \u001B[0;36mapply\u001B[1;34m()\u001B[0m\n\u001B[0;32m     37\u001B[0m \u001B[38;5;28;01mdef\u001B[39;00m \u001B[38;5;21mapply\u001B[39m(func, args, kwargs\u001B[38;5;241m=\u001B[39m\u001B[38;5;28;01mNone\u001B[39;00m):\n\u001B[0;32m     38\u001B[0m     \u001B[38;5;28;01mif\u001B[39;00m kwargs:\n\u001B[1;32m---> 39\u001B[0m         \u001B[38;5;28;01mreturn\u001B[39;00m func(\u001B[38;5;241m*\u001B[39margs, \u001B[38;5;241m*\u001B[39m\u001B[38;5;241m*\u001B[39mkwargs)\n\u001B[0;32m     40\u001B[0m     \u001B[38;5;28;01melse\u001B[39;00m:\n\u001B[0;32m     41\u001B[0m         \u001B[38;5;28;01mreturn\u001B[39;00m func(\u001B[38;5;241m*\u001B[39margs)\n",
      "File \u001B[1;32mD:\\programs\\Anaconda3\\envs\\satpy_env\\lib\\site-packages\\dask\\array\\routines.py:1817\u001B[0m, in \u001B[0;36m_isin_kernel\u001B[1;34m()\u001B[0m\n\u001B[0;32m   1816\u001B[0m \u001B[38;5;28;01mdef\u001B[39;00m \u001B[38;5;21m_isin_kernel\u001B[39m(element, test_elements, assume_unique\u001B[38;5;241m=\u001B[39m\u001B[38;5;28;01mFalse\u001B[39;00m):\n\u001B[1;32m-> 1817\u001B[0m     values \u001B[38;5;241m=\u001B[39m np\u001B[38;5;241m.\u001B[39min1d(element\u001B[38;5;241m.\u001B[39mravel(), test_elements, assume_unique\u001B[38;5;241m=\u001B[39massume_unique)\n\u001B[0;32m   1818\u001B[0m     \u001B[38;5;28;01mreturn\u001B[39;00m values\u001B[38;5;241m.\u001B[39mreshape(element\u001B[38;5;241m.\u001B[39mshape \u001B[38;5;241m+\u001B[39m (\u001B[38;5;241m1\u001B[39m,) \u001B[38;5;241m*\u001B[39m test_elements\u001B[38;5;241m.\u001B[39mndim)\n",
      "File \u001B[1;32m<__array_function__ internals>:180\u001B[0m, in \u001B[0;36min1d\u001B[1;34m()\u001B[0m\n",
      "File \u001B[1;32mD:\\programs\\Anaconda3\\envs\\satpy_env\\lib\\site-packages\\numpy\\lib\\arraysetops.py:613\u001B[0m, in \u001B[0;36min1d\u001B[1;34m()\u001B[0m\n\u001B[0;32m    611\u001B[0m \u001B[38;5;66;03m# Otherwise use sorting\u001B[39;00m\n\u001B[0;32m    612\u001B[0m \u001B[38;5;28;01mif\u001B[39;00m \u001B[38;5;129;01mnot\u001B[39;00m assume_unique:\n\u001B[1;32m--> 613\u001B[0m     ar1, rev_idx \u001B[38;5;241m=\u001B[39m np\u001B[38;5;241m.\u001B[39munique(ar1, return_inverse\u001B[38;5;241m=\u001B[39m\u001B[38;5;28;01mTrue\u001B[39;00m)\n\u001B[0;32m    614\u001B[0m     ar2 \u001B[38;5;241m=\u001B[39m np\u001B[38;5;241m.\u001B[39munique(ar2)\n\u001B[0;32m    616\u001B[0m ar \u001B[38;5;241m=\u001B[39m np\u001B[38;5;241m.\u001B[39mconcatenate((ar1, ar2))\n",
      "File \u001B[1;32m<__array_function__ internals>:180\u001B[0m, in \u001B[0;36munique\u001B[1;34m()\u001B[0m\n",
      "File \u001B[1;32mD:\\programs\\Anaconda3\\envs\\satpy_env\\lib\\site-packages\\numpy\\lib\\arraysetops.py:272\u001B[0m, in \u001B[0;36munique\u001B[1;34m()\u001B[0m\n\u001B[0;32m    270\u001B[0m ar \u001B[38;5;241m=\u001B[39m np\u001B[38;5;241m.\u001B[39masanyarray(ar)\n\u001B[0;32m    271\u001B[0m \u001B[38;5;28;01mif\u001B[39;00m axis \u001B[38;5;129;01mis\u001B[39;00m \u001B[38;5;28;01mNone\u001B[39;00m:\n\u001B[1;32m--> 272\u001B[0m     ret \u001B[38;5;241m=\u001B[39m _unique1d(ar, return_index, return_inverse, return_counts)\n\u001B[0;32m    273\u001B[0m     \u001B[38;5;28;01mreturn\u001B[39;00m _unpack_tuple(ret)\n\u001B[0;32m    275\u001B[0m \u001B[38;5;66;03m# axis was specified and not None\u001B[39;00m\n",
      "File \u001B[1;32mD:\\programs\\Anaconda3\\envs\\satpy_env\\lib\\site-packages\\numpy\\lib\\arraysetops.py:354\u001B[0m, in \u001B[0;36m_unique1d\u001B[1;34m()\u001B[0m\n\u001B[0;32m    352\u001B[0m     ret \u001B[38;5;241m+\u001B[39m\u001B[38;5;241m=\u001B[39m (perm[mask],)\n\u001B[0;32m    353\u001B[0m \u001B[38;5;28;01mif\u001B[39;00m return_inverse:\n\u001B[1;32m--> 354\u001B[0m     imask \u001B[38;5;241m=\u001B[39m np\u001B[38;5;241m.\u001B[39mcumsum(mask) \u001B[38;5;241m-\u001B[39m \u001B[38;5;241m1\u001B[39m\n\u001B[0;32m    355\u001B[0m     inv_idx \u001B[38;5;241m=\u001B[39m np\u001B[38;5;241m.\u001B[39mempty(mask\u001B[38;5;241m.\u001B[39mshape, dtype\u001B[38;5;241m=\u001B[39mnp\u001B[38;5;241m.\u001B[39mintp)\n\u001B[0;32m    356\u001B[0m     inv_idx[perm] \u001B[38;5;241m=\u001B[39m imask\n",
      "File \u001B[1;32m<__array_function__ internals>:180\u001B[0m, in \u001B[0;36mcumsum\u001B[1;34m()\u001B[0m\n",
      "File \u001B[1;32mD:\\programs\\Anaconda3\\envs\\satpy_env\\lib\\site-packages\\numpy\\core\\fromnumeric.py:2569\u001B[0m, in \u001B[0;36mcumsum\u001B[1;34m()\u001B[0m\n\u001B[0;32m   2495\u001B[0m \u001B[38;5;129m@array_function_dispatch\u001B[39m(_cumsum_dispatcher)\n\u001B[0;32m   2496\u001B[0m \u001B[38;5;28;01mdef\u001B[39;00m \u001B[38;5;21mcumsum\u001B[39m(a, axis\u001B[38;5;241m=\u001B[39m\u001B[38;5;28;01mNone\u001B[39;00m, dtype\u001B[38;5;241m=\u001B[39m\u001B[38;5;28;01mNone\u001B[39;00m, out\u001B[38;5;241m=\u001B[39m\u001B[38;5;28;01mNone\u001B[39;00m):\n\u001B[0;32m   2497\u001B[0m     \u001B[38;5;124;03m\"\"\"\u001B[39;00m\n\u001B[0;32m   2498\u001B[0m \u001B[38;5;124;03m    Return the cumulative sum of the elements along a given axis.\u001B[39;00m\n\u001B[0;32m   2499\u001B[0m \n\u001B[1;32m   (...)\u001B[0m\n\u001B[0;32m   2567\u001B[0m \n\u001B[0;32m   2568\u001B[0m \u001B[38;5;124;03m    \"\"\"\u001B[39;00m\n\u001B[1;32m-> 2569\u001B[0m     \u001B[38;5;28;01mreturn\u001B[39;00m _wrapfunc(a, \u001B[38;5;124m'\u001B[39m\u001B[38;5;124mcumsum\u001B[39m\u001B[38;5;124m'\u001B[39m, axis\u001B[38;5;241m=\u001B[39maxis, dtype\u001B[38;5;241m=\u001B[39mdtype, out\u001B[38;5;241m=\u001B[39mout)\n",
      "File \u001B[1;32mD:\\programs\\Anaconda3\\envs\\satpy_env\\lib\\site-packages\\numpy\\core\\fromnumeric.py:57\u001B[0m, in \u001B[0;36m_wrapfunc\u001B[1;34m()\u001B[0m\n\u001B[0;32m     54\u001B[0m     \u001B[38;5;28;01mreturn\u001B[39;00m _wrapit(obj, method, \u001B[38;5;241m*\u001B[39margs, \u001B[38;5;241m*\u001B[39m\u001B[38;5;241m*\u001B[39mkwds)\n\u001B[0;32m     56\u001B[0m \u001B[38;5;28;01mtry\u001B[39;00m:\n\u001B[1;32m---> 57\u001B[0m     \u001B[38;5;28;01mreturn\u001B[39;00m bound(\u001B[38;5;241m*\u001B[39margs, \u001B[38;5;241m*\u001B[39m\u001B[38;5;241m*\u001B[39mkwds)\n\u001B[0;32m     58\u001B[0m \u001B[38;5;28;01mexcept\u001B[39;00m \u001B[38;5;167;01mTypeError\u001B[39;00m:\n\u001B[0;32m     59\u001B[0m     \u001B[38;5;66;03m# A TypeError occurs if the object does have such a method in its\u001B[39;00m\n\u001B[0;32m     60\u001B[0m     \u001B[38;5;66;03m# class, but its signature is not identical to that of NumPy's. This\u001B[39;00m\n\u001B[1;32m   (...)\u001B[0m\n\u001B[0;32m     64\u001B[0m     \u001B[38;5;66;03m# Call _wrapit from within the except clause to ensure a potential\u001B[39;00m\n\u001B[0;32m     65\u001B[0m     \u001B[38;5;66;03m# exception has a traceback chain.\u001B[39;00m\n\u001B[0;32m     66\u001B[0m     \u001B[38;5;28;01mreturn\u001B[39;00m _wrapit(obj, method, \u001B[38;5;241m*\u001B[39margs, \u001B[38;5;241m*\u001B[39m\u001B[38;5;241m*\u001B[39mkwds)\n",
      "\u001B[1;31mMemoryError\u001B[0m: Unable to allocate 640. MiB for an array with shape (167841000,) and data type int32"
     ]
    }
   ],
   "source": [
    "# produce 'em!!!\n",
    "for q, g in zip(qa_2018[-7:], green_2018[-7:]):\n",
    "    qa_band_to_raster_masks(cloud_root=out_roots[1], strong_cloud_root=out_roots[0],\n",
    "                            water_root=out_roots[2], ice_snow_root=out_roots[3],\n",
    "                            high_cirrus_root=out_roots[4], average_cirrus_root=out_roots[5],\n",
    "                            qa_raster=q, dummy_raster=g)"
   ],
   "metadata": {
    "collapsed": false,
    "pycharm": {
     "name": "#%%\n"
    }
   }
  }
 ],
 "metadata": {
  "kernelspec": {
   "display_name": "Python 3",
   "language": "python",
   "name": "python3"
  },
  "language_info": {
   "codemirror_mode": {
    "name": "ipython",
    "version": 2
   },
   "file_extension": ".py",
   "mimetype": "text/x-python",
   "name": "python",
   "nbconvert_exporter": "python",
   "pygments_lexer": "ipython2",
   "version": "2.7.6"
  }
 },
 "nbformat": 4,
 "nbformat_minor": 0
}